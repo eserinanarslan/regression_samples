{
 "cells": [
  {
   "cell_type": "code",
   "execution_count": 1,
   "metadata": {
    "colab": {
     "base_uri": "https://localhost:8080/",
     "height": 34
    },
    "colab_type": "code",
    "executionInfo": {
     "elapsed": 17490,
     "status": "ok",
     "timestamp": 1591818478707,
     "user": {
      "displayName": "Eser İnan Arslan",
      "photoUrl": "https://lh3.googleusercontent.com/a-/AOh14Ggz536p806W0W9-wxWFfPdVV303PuNNPAhu9S1UjA=s64",
      "userId": "01966049699378036829"
     },
     "user_tz": -180
    },
    "id": "mTO_3UEZxUIu",
    "outputId": "ae987e4c-7b03-4777-ae54-a2294efc2de4"
   },
   "outputs": [
    {
     "name": "stdout",
     "output_type": "stream",
     "text": [
      "Requirement already satisfied: sns in c:\\users\\eser.arslan\\appdata\\local\\programs\\python\\python37\\lib\\site-packages (0.1)\n",
      "Note: you may need to restart the kernel to use updated packages.\n"
     ]
    },
    {
     "name": "stderr",
     "output_type": "stream",
     "text": [
      "WARNING: You are using pip version 21.1.1; however, version 21.1.2 is available.\n",
      "You should consider upgrading via the 'c:\\users\\eser.arslan\\appdata\\local\\programs\\python\\python37\\python.exe -m pip install --upgrade pip' command.\n"
     ]
    }
   ],
   "source": [
    "pip install sns"
   ]
  },
  {
   "cell_type": "code",
   "execution_count": 2,
   "metadata": {
    "colab": {
     "base_uri": "https://localhost:8080/",
     "height": 71
    },
    "colab_type": "code",
    "executionInfo": {
     "elapsed": 15619,
     "status": "ok",
     "timestamp": 1591818478708,
     "user": {
      "displayName": "Eser İnan Arslan",
      "photoUrl": "https://lh3.googleusercontent.com/a-/AOh14Ggz536p806W0W9-wxWFfPdVV303PuNNPAhu9S1UjA=s64",
      "userId": "01966049699378036829"
     },
     "user_tz": -180
    },
    "id": "U9U1iXAVbxCN",
    "outputId": "01f1a2e4-4fa7-4963-9f8c-dc8cbc3df415"
   },
   "outputs": [],
   "source": [
    "import pandas as pd\n",
    "import numpy as np\n",
    "import matplotlib.pyplot as plt\n",
    "import seaborn as sns\n",
    "\n",
    "from datetime import datetime\n",
    "from sklearn.cluster import MeanShift, estimate_bandwidth\n",
    "\n",
    "from sklearn.neighbors import KNeighborsClassifier"
   ]
  },
  {
   "cell_type": "code",
   "execution_count": 3,
   "metadata": {
    "colab": {},
    "colab_type": "code",
    "id": "VFUzmmOtbxCQ"
   },
   "outputs": [],
   "source": [
    "#Set parameters to see all data\n",
    "pd.set_option('display.max_rows', 150)\n",
    "pd.set_option('display.max_columns', 500)\n",
    "pd.set_option('display.width', 1000)"
   ]
  },
  {
   "cell_type": "code",
   "execution_count": 4,
   "metadata": {
    "colab": {
     "base_uri": "https://localhost:8080/",
     "height": 414
    },
    "colab_type": "code",
    "executionInfo": {
     "elapsed": 13409,
     "status": "ok",
     "timestamp": 1591818478711,
     "user": {
      "displayName": "Eser İnan Arslan",
      "photoUrl": "https://lh3.googleusercontent.com/a-/AOh14Ggz536p806W0W9-wxWFfPdVV303PuNNPAhu9S1UjA=s64",
      "userId": "01966049699378036829"
     },
     "user_tz": -180
    },
    "id": "GXyGwgdxbxCS",
    "outputId": "9ea60cdd-e1f8-4aac-defd-05dfc160429f"
   },
   "outputs": [
    {
     "ename": "FileNotFoundError",
     "evalue": "[Errno 2] No such file or directory: 'train.csv'",
     "output_type": "error",
     "traceback": [
      "\u001b[1;31m---------------------------------------------------------------------------\u001b[0m",
      "\u001b[1;31mFileNotFoundError\u001b[0m                         Traceback (most recent call last)",
      "\u001b[1;32m<ipython-input-4-01b784bd5ee3>\u001b[0m in \u001b[0;36m<module>\u001b[1;34m\u001b[0m\n\u001b[0;32m      1\u001b[0m \u001b[1;31m# Load Train dataset\u001b[0m\u001b[1;33m\u001b[0m\u001b[1;33m\u001b[0m\u001b[1;33m\u001b[0m\u001b[0m\n\u001b[1;32m----> 2\u001b[1;33m \u001b[0mtrain\u001b[0m \u001b[1;33m=\u001b[0m \u001b[0mpd\u001b[0m\u001b[1;33m.\u001b[0m\u001b[0mread_csv\u001b[0m\u001b[1;33m(\u001b[0m\u001b[1;34m\"train.csv\"\u001b[0m\u001b[1;33m)\u001b[0m\u001b[1;33m\u001b[0m\u001b[1;33m\u001b[0m\u001b[0m\n\u001b[0m\u001b[0;32m      3\u001b[0m \u001b[0mtrain\u001b[0m\u001b[1;33m.\u001b[0m\u001b[0mhead\u001b[0m\u001b[1;33m(\u001b[0m\u001b[1;36m2\u001b[0m\u001b[1;33m)\u001b[0m\u001b[1;33m.\u001b[0m\u001b[0mappend\u001b[0m\u001b[1;33m(\u001b[0m\u001b[0mtrain\u001b[0m\u001b[1;33m.\u001b[0m\u001b[0mtail\u001b[0m\u001b[1;33m(\u001b[0m\u001b[1;36m2\u001b[0m\u001b[1;33m)\u001b[0m\u001b[1;33m)\u001b[0m\u001b[1;33m\u001b[0m\u001b[1;33m\u001b[0m\u001b[0m\n",
      "\u001b[1;32mc:\\users\\eser.arslan\\appdata\\local\\programs\\python\\python37\\lib\\site-packages\\pandas\\io\\parsers.py\u001b[0m in \u001b[0;36mread_csv\u001b[1;34m(filepath_or_buffer, sep, delimiter, header, names, index_col, usecols, squeeze, prefix, mangle_dupe_cols, dtype, engine, converters, true_values, false_values, skipinitialspace, skiprows, skipfooter, nrows, na_values, keep_default_na, na_filter, verbose, skip_blank_lines, parse_dates, infer_datetime_format, keep_date_col, date_parser, dayfirst, cache_dates, iterator, chunksize, compression, thousands, decimal, lineterminator, quotechar, quoting, doublequote, escapechar, comment, encoding, dialect, error_bad_lines, warn_bad_lines, delim_whitespace, low_memory, memory_map, float_precision, storage_options)\u001b[0m\n\u001b[0;32m    608\u001b[0m     \u001b[0mkwds\u001b[0m\u001b[1;33m.\u001b[0m\u001b[0mupdate\u001b[0m\u001b[1;33m(\u001b[0m\u001b[0mkwds_defaults\u001b[0m\u001b[1;33m)\u001b[0m\u001b[1;33m\u001b[0m\u001b[1;33m\u001b[0m\u001b[0m\n\u001b[0;32m    609\u001b[0m \u001b[1;33m\u001b[0m\u001b[0m\n\u001b[1;32m--> 610\u001b[1;33m     \u001b[1;32mreturn\u001b[0m \u001b[0m_read\u001b[0m\u001b[1;33m(\u001b[0m\u001b[0mfilepath_or_buffer\u001b[0m\u001b[1;33m,\u001b[0m \u001b[0mkwds\u001b[0m\u001b[1;33m)\u001b[0m\u001b[1;33m\u001b[0m\u001b[1;33m\u001b[0m\u001b[0m\n\u001b[0m\u001b[0;32m    611\u001b[0m \u001b[1;33m\u001b[0m\u001b[0m\n\u001b[0;32m    612\u001b[0m \u001b[1;33m\u001b[0m\u001b[0m\n",
      "\u001b[1;32mc:\\users\\eser.arslan\\appdata\\local\\programs\\python\\python37\\lib\\site-packages\\pandas\\io\\parsers.py\u001b[0m in \u001b[0;36m_read\u001b[1;34m(filepath_or_buffer, kwds)\u001b[0m\n\u001b[0;32m    460\u001b[0m \u001b[1;33m\u001b[0m\u001b[0m\n\u001b[0;32m    461\u001b[0m     \u001b[1;31m# Create the parser.\u001b[0m\u001b[1;33m\u001b[0m\u001b[1;33m\u001b[0m\u001b[1;33m\u001b[0m\u001b[0m\n\u001b[1;32m--> 462\u001b[1;33m     \u001b[0mparser\u001b[0m \u001b[1;33m=\u001b[0m \u001b[0mTextFileReader\u001b[0m\u001b[1;33m(\u001b[0m\u001b[0mfilepath_or_buffer\u001b[0m\u001b[1;33m,\u001b[0m \u001b[1;33m**\u001b[0m\u001b[0mkwds\u001b[0m\u001b[1;33m)\u001b[0m\u001b[1;33m\u001b[0m\u001b[1;33m\u001b[0m\u001b[0m\n\u001b[0m\u001b[0;32m    463\u001b[0m \u001b[1;33m\u001b[0m\u001b[0m\n\u001b[0;32m    464\u001b[0m     \u001b[1;32mif\u001b[0m \u001b[0mchunksize\u001b[0m \u001b[1;32mor\u001b[0m \u001b[0miterator\u001b[0m\u001b[1;33m:\u001b[0m\u001b[1;33m\u001b[0m\u001b[1;33m\u001b[0m\u001b[0m\n",
      "\u001b[1;32mc:\\users\\eser.arslan\\appdata\\local\\programs\\python\\python37\\lib\\site-packages\\pandas\\io\\parsers.py\u001b[0m in \u001b[0;36m__init__\u001b[1;34m(self, f, engine, **kwds)\u001b[0m\n\u001b[0;32m    817\u001b[0m             \u001b[0mself\u001b[0m\u001b[1;33m.\u001b[0m\u001b[0moptions\u001b[0m\u001b[1;33m[\u001b[0m\u001b[1;34m\"has_index_names\"\u001b[0m\u001b[1;33m]\u001b[0m \u001b[1;33m=\u001b[0m \u001b[0mkwds\u001b[0m\u001b[1;33m[\u001b[0m\u001b[1;34m\"has_index_names\"\u001b[0m\u001b[1;33m]\u001b[0m\u001b[1;33m\u001b[0m\u001b[1;33m\u001b[0m\u001b[0m\n\u001b[0;32m    818\u001b[0m \u001b[1;33m\u001b[0m\u001b[0m\n\u001b[1;32m--> 819\u001b[1;33m         \u001b[0mself\u001b[0m\u001b[1;33m.\u001b[0m\u001b[0m_engine\u001b[0m \u001b[1;33m=\u001b[0m \u001b[0mself\u001b[0m\u001b[1;33m.\u001b[0m\u001b[0m_make_engine\u001b[0m\u001b[1;33m(\u001b[0m\u001b[0mself\u001b[0m\u001b[1;33m.\u001b[0m\u001b[0mengine\u001b[0m\u001b[1;33m)\u001b[0m\u001b[1;33m\u001b[0m\u001b[1;33m\u001b[0m\u001b[0m\n\u001b[0m\u001b[0;32m    820\u001b[0m \u001b[1;33m\u001b[0m\u001b[0m\n\u001b[0;32m    821\u001b[0m     \u001b[1;32mdef\u001b[0m \u001b[0mclose\u001b[0m\u001b[1;33m(\u001b[0m\u001b[0mself\u001b[0m\u001b[1;33m)\u001b[0m\u001b[1;33m:\u001b[0m\u001b[1;33m\u001b[0m\u001b[1;33m\u001b[0m\u001b[0m\n",
      "\u001b[1;32mc:\\users\\eser.arslan\\appdata\\local\\programs\\python\\python37\\lib\\site-packages\\pandas\\io\\parsers.py\u001b[0m in \u001b[0;36m_make_engine\u001b[1;34m(self, engine)\u001b[0m\n\u001b[0;32m   1048\u001b[0m             )\n\u001b[0;32m   1049\u001b[0m         \u001b[1;31m# error: Too many arguments for \"ParserBase\"\u001b[0m\u001b[1;33m\u001b[0m\u001b[1;33m\u001b[0m\u001b[1;33m\u001b[0m\u001b[0m\n\u001b[1;32m-> 1050\u001b[1;33m         \u001b[1;32mreturn\u001b[0m \u001b[0mmapping\u001b[0m\u001b[1;33m[\u001b[0m\u001b[0mengine\u001b[0m\u001b[1;33m]\u001b[0m\u001b[1;33m(\u001b[0m\u001b[0mself\u001b[0m\u001b[1;33m.\u001b[0m\u001b[0mf\u001b[0m\u001b[1;33m,\u001b[0m \u001b[1;33m**\u001b[0m\u001b[0mself\u001b[0m\u001b[1;33m.\u001b[0m\u001b[0moptions\u001b[0m\u001b[1;33m)\u001b[0m  \u001b[1;31m# type: ignore[call-arg]\u001b[0m\u001b[1;33m\u001b[0m\u001b[1;33m\u001b[0m\u001b[0m\n\u001b[0m\u001b[0;32m   1051\u001b[0m \u001b[1;33m\u001b[0m\u001b[0m\n\u001b[0;32m   1052\u001b[0m     \u001b[1;32mdef\u001b[0m \u001b[0m_failover_to_python\u001b[0m\u001b[1;33m(\u001b[0m\u001b[0mself\u001b[0m\u001b[1;33m)\u001b[0m\u001b[1;33m:\u001b[0m\u001b[1;33m\u001b[0m\u001b[1;33m\u001b[0m\u001b[0m\n",
      "\u001b[1;32mc:\\users\\eser.arslan\\appdata\\local\\programs\\python\\python37\\lib\\site-packages\\pandas\\io\\parsers.py\u001b[0m in \u001b[0;36m__init__\u001b[1;34m(self, src, **kwds)\u001b[0m\n\u001b[0;32m   1865\u001b[0m \u001b[1;33m\u001b[0m\u001b[0m\n\u001b[0;32m   1866\u001b[0m         \u001b[1;31m# open handles\u001b[0m\u001b[1;33m\u001b[0m\u001b[1;33m\u001b[0m\u001b[1;33m\u001b[0m\u001b[0m\n\u001b[1;32m-> 1867\u001b[1;33m         \u001b[0mself\u001b[0m\u001b[1;33m.\u001b[0m\u001b[0m_open_handles\u001b[0m\u001b[1;33m(\u001b[0m\u001b[0msrc\u001b[0m\u001b[1;33m,\u001b[0m \u001b[0mkwds\u001b[0m\u001b[1;33m)\u001b[0m\u001b[1;33m\u001b[0m\u001b[1;33m\u001b[0m\u001b[0m\n\u001b[0m\u001b[0;32m   1868\u001b[0m         \u001b[1;32massert\u001b[0m \u001b[0mself\u001b[0m\u001b[1;33m.\u001b[0m\u001b[0mhandles\u001b[0m \u001b[1;32mis\u001b[0m \u001b[1;32mnot\u001b[0m \u001b[1;32mNone\u001b[0m\u001b[1;33m\u001b[0m\u001b[1;33m\u001b[0m\u001b[0m\n\u001b[0;32m   1869\u001b[0m         \u001b[1;32mfor\u001b[0m \u001b[0mkey\u001b[0m \u001b[1;32min\u001b[0m \u001b[1;33m(\u001b[0m\u001b[1;34m\"storage_options\"\u001b[0m\u001b[1;33m,\u001b[0m \u001b[1;34m\"encoding\"\u001b[0m\u001b[1;33m,\u001b[0m \u001b[1;34m\"memory_map\"\u001b[0m\u001b[1;33m,\u001b[0m \u001b[1;34m\"compression\"\u001b[0m\u001b[1;33m)\u001b[0m\u001b[1;33m:\u001b[0m\u001b[1;33m\u001b[0m\u001b[1;33m\u001b[0m\u001b[0m\n",
      "\u001b[1;32mc:\\users\\eser.arslan\\appdata\\local\\programs\\python\\python37\\lib\\site-packages\\pandas\\io\\parsers.py\u001b[0m in \u001b[0;36m_open_handles\u001b[1;34m(self, src, kwds)\u001b[0m\n\u001b[0;32m   1366\u001b[0m             \u001b[0mcompression\u001b[0m\u001b[1;33m=\u001b[0m\u001b[0mkwds\u001b[0m\u001b[1;33m.\u001b[0m\u001b[0mget\u001b[0m\u001b[1;33m(\u001b[0m\u001b[1;34m\"compression\"\u001b[0m\u001b[1;33m,\u001b[0m \u001b[1;32mNone\u001b[0m\u001b[1;33m)\u001b[0m\u001b[1;33m,\u001b[0m\u001b[1;33m\u001b[0m\u001b[1;33m\u001b[0m\u001b[0m\n\u001b[0;32m   1367\u001b[0m             \u001b[0mmemory_map\u001b[0m\u001b[1;33m=\u001b[0m\u001b[0mkwds\u001b[0m\u001b[1;33m.\u001b[0m\u001b[0mget\u001b[0m\u001b[1;33m(\u001b[0m\u001b[1;34m\"memory_map\"\u001b[0m\u001b[1;33m,\u001b[0m \u001b[1;32mFalse\u001b[0m\u001b[1;33m)\u001b[0m\u001b[1;33m,\u001b[0m\u001b[1;33m\u001b[0m\u001b[1;33m\u001b[0m\u001b[0m\n\u001b[1;32m-> 1368\u001b[1;33m             \u001b[0mstorage_options\u001b[0m\u001b[1;33m=\u001b[0m\u001b[0mkwds\u001b[0m\u001b[1;33m.\u001b[0m\u001b[0mget\u001b[0m\u001b[1;33m(\u001b[0m\u001b[1;34m\"storage_options\"\u001b[0m\u001b[1;33m,\u001b[0m \u001b[1;32mNone\u001b[0m\u001b[1;33m)\u001b[0m\u001b[1;33m,\u001b[0m\u001b[1;33m\u001b[0m\u001b[1;33m\u001b[0m\u001b[0m\n\u001b[0m\u001b[0;32m   1369\u001b[0m         )\n\u001b[0;32m   1370\u001b[0m \u001b[1;33m\u001b[0m\u001b[0m\n",
      "\u001b[1;32mc:\\users\\eser.arslan\\appdata\\local\\programs\\python\\python37\\lib\\site-packages\\pandas\\io\\common.py\u001b[0m in \u001b[0;36mget_handle\u001b[1;34m(path_or_buf, mode, encoding, compression, memory_map, is_text, errors, storage_options)\u001b[0m\n\u001b[0;32m    645\u001b[0m                 \u001b[0mencoding\u001b[0m\u001b[1;33m=\u001b[0m\u001b[0mioargs\u001b[0m\u001b[1;33m.\u001b[0m\u001b[0mencoding\u001b[0m\u001b[1;33m,\u001b[0m\u001b[1;33m\u001b[0m\u001b[1;33m\u001b[0m\u001b[0m\n\u001b[0;32m    646\u001b[0m                 \u001b[0merrors\u001b[0m\u001b[1;33m=\u001b[0m\u001b[0merrors\u001b[0m\u001b[1;33m,\u001b[0m\u001b[1;33m\u001b[0m\u001b[1;33m\u001b[0m\u001b[0m\n\u001b[1;32m--> 647\u001b[1;33m                 \u001b[0mnewline\u001b[0m\u001b[1;33m=\u001b[0m\u001b[1;34m\"\"\u001b[0m\u001b[1;33m,\u001b[0m\u001b[1;33m\u001b[0m\u001b[1;33m\u001b[0m\u001b[0m\n\u001b[0m\u001b[0;32m    648\u001b[0m             )\n\u001b[0;32m    649\u001b[0m         \u001b[1;32melse\u001b[0m\u001b[1;33m:\u001b[0m\u001b[1;33m\u001b[0m\u001b[1;33m\u001b[0m\u001b[0m\n",
      "\u001b[1;31mFileNotFoundError\u001b[0m: [Errno 2] No such file or directory: 'train.csv'"
     ]
    }
   ],
   "source": [
    "# Load Train dataset\n",
    "train = pd.read_csv(\"train.csv\")\n",
    "train.head(2).append(train.tail(2))"
   ]
  },
  {
   "cell_type": "code",
   "execution_count": null,
   "metadata": {
    "colab": {
     "base_uri": "https://localhost:8080/",
     "height": 34
    },
    "colab_type": "code",
    "executionInfo": {
     "elapsed": 12974,
     "status": "ok",
     "timestamp": 1591818498950,
     "user": {
      "displayName": "Eser İnan Arslan",
      "photoUrl": "https://lh3.googleusercontent.com/a-/AOh14Ggz536p806W0W9-wxWFfPdVV303PuNNPAhu9S1UjA=s64",
      "userId": "01966049699378036829"
     },
     "user_tz": -180
    },
    "id": "kMRnO7SwbxCX",
    "outputId": "e8cd7640-5669-4734-d81b-d6dc3776a217"
   },
   "outputs": [],
   "source": [
    "train.shape"
   ]
  },
  {
   "cell_type": "code",
   "execution_count": null,
   "metadata": {
    "colab": {
     "base_uri": "https://localhost:8080/",
     "height": 408
    },
    "colab_type": "code",
    "executionInfo": {
     "elapsed": 12975,
     "status": "ok",
     "timestamp": 1591818500406,
     "user": {
      "displayName": "Eser İnan Arslan",
      "photoUrl": "https://lh3.googleusercontent.com/a-/AOh14Ggz536p806W0W9-wxWFfPdVV303PuNNPAhu9S1UjA=s64",
      "userId": "01966049699378036829"
     },
     "user_tz": -180
    },
    "id": "3M7loOwn4KkE",
    "outputId": "c046990f-a6c5-46b4-b49b-72a3cb68e6b4"
   },
   "outputs": [],
   "source": [
    "train.dtypes"
   ]
  },
  {
   "cell_type": "code",
   "execution_count": null,
   "metadata": {
    "colab": {
     "base_uri": "https://localhost:8080/",
     "height": 34
    },
    "colab_type": "code",
    "executionInfo": {
     "elapsed": 7534,
     "status": "ok",
     "timestamp": 1591818500408,
     "user": {
      "displayName": "Eser İnan Arslan",
      "photoUrl": "https://lh3.googleusercontent.com/a-/AOh14Ggz536p806W0W9-wxWFfPdVV303PuNNPAhu9S1UjA=s64",
      "userId": "01966049699378036829"
     },
     "user_tz": -180
    },
    "id": "BIeiD7nDbxCb",
    "outputId": "99cee555-367d-4e77-8b29-f969eeb33ab2"
   },
   "outputs": [],
   "source": [
    "train.revenue_category.unique()"
   ]
  },
  {
   "cell_type": "code",
   "execution_count": null,
   "metadata": {
    "colab": {},
    "colab_type": "code",
    "id": "IQboYKCSbxCe"
   },
   "outputs": [],
   "source": [
    "# Replace Numpy Nan values with 0 and 'nan'\n",
    "for col in train.columns:\n",
    "  if train[col].dtypes == object:\n",
    "    train[col].fillna(value='nan', inplace=True)\n",
    "  else:\n",
    "    train[col].fillna(value=0, inplace=True)"
   ]
  },
  {
   "cell_type": "code",
   "execution_count": null,
   "metadata": {
    "colab": {},
    "colab_type": "code",
    "id": "W0Bww8evh3gn"
   },
   "outputs": [],
   "source": [
    "train.country = train.country.replace(\" \", \"\", regex=True)\n",
    "train.genres = train.genres.replace(\" \", \"\", regex=True)\n",
    "train.language = train.language.replace(\" \", \"\", regex=True)"
   ]
  },
  {
   "cell_type": "code",
   "execution_count": null,
   "metadata": {
    "colab": {},
    "colab_type": "code",
    "id": "ZePg11dibxCi"
   },
   "outputs": [],
   "source": [
    "train = pd.concat([train.drop('country', axis=1), train.country.str.get_dummies(sep=',').add_prefix('country_')], axis=1)\n",
    "train = pd.concat([train.drop('language', axis=1), train.language.str.get_dummies(sep=',').add_prefix('language_')], axis=1)\n",
    "train = pd.concat([train.drop('genres', axis=1), train.genres.str.get_dummies(sep=',').add_prefix('genres_')], axis=1)\n",
    "\n"
   ]
  },
  {
   "cell_type": "code",
   "execution_count": null,
   "metadata": {
    "colab": {
     "base_uri": "https://localhost:8080/",
     "height": 346
    },
    "colab_type": "code",
    "executionInfo": {
     "elapsed": 4484,
     "status": "ok",
     "timestamp": 1591818521889,
     "user": {
      "displayName": "Eser İnan Arslan",
      "photoUrl": "https://lh3.googleusercontent.com/a-/AOh14Ggz536p806W0W9-wxWFfPdVV303PuNNPAhu9S1UjA=s64",
      "userId": "01966049699378036829"
     },
     "user_tz": -180
    },
    "id": "H4DdXTOAbxCn",
    "outputId": "23882974-cade-442e-cf90-b230e9b340b6"
   },
   "outputs": [],
   "source": [
    "train.head(2).append(train.tail(2))"
   ]
  },
  {
   "cell_type": "code",
   "execution_count": null,
   "metadata": {
    "colab": {
     "base_uri": "https://localhost:8080/",
     "height": 221
    },
    "colab_type": "code",
    "executionInfo": {
     "elapsed": 3164,
     "status": "ok",
     "timestamp": 1591818521890,
     "user": {
      "displayName": "Eser İnan Arslan",
      "photoUrl": "https://lh3.googleusercontent.com/a-/AOh14Ggz536p806W0W9-wxWFfPdVV303PuNNPAhu9S1UjA=s64",
      "userId": "01966049699378036829"
     },
     "user_tz": -180
    },
    "id": "yvU6zgQFbxCp",
    "outputId": "49b8d16d-5a6b-48df-8581-6985284daa58"
   },
   "outputs": [],
   "source": [
    "train[train.writer_count == 3.0].iloc[0]"
   ]
  },
  {
   "cell_type": "code",
   "execution_count": null,
   "metadata": {
    "colab": {
     "base_uri": "https://localhost:8080/",
     "height": 119
    },
    "colab_type": "code",
    "executionInfo": {
     "elapsed": 3641,
     "status": "ok",
     "timestamp": 1591818528132,
     "user": {
      "displayName": "Eser İnan Arslan",
      "photoUrl": "https://lh3.googleusercontent.com/a-/AOh14Ggz536p806W0W9-wxWFfPdVV303PuNNPAhu9S1UjA=s64",
      "userId": "01966049699378036829"
     },
     "user_tz": -180
    },
    "id": "H-gowevbbxC0",
    "outputId": "9bc2fb8e-f593-4f37-eb0b-8edb2157dce4"
   },
   "outputs": [],
   "source": [
    "train.genres_Comedy.head()"
   ]
  },
  {
   "cell_type": "code",
   "execution_count": null,
   "metadata": {
    "colab": {
     "base_uri": "https://localhost:8080/",
     "height": 377
    },
    "colab_type": "code",
    "executionInfo": {
     "elapsed": 3057,
     "status": "ok",
     "timestamp": 1591818528134,
     "user": {
      "displayName": "Eser İnan Arslan",
      "photoUrl": "https://lh3.googleusercontent.com/a-/AOh14Ggz536p806W0W9-wxWFfPdVV303PuNNPAhu9S1UjA=s64",
      "userId": "01966049699378036829"
     },
     "user_tz": -180
    },
    "id": "00cxc7uPbxC2",
    "outputId": "a968f792-af24-46d3-9a46-ac653e19810e"
   },
   "outputs": [],
   "source": [
    "train.head()"
   ]
  },
  {
   "cell_type": "code",
   "execution_count": null,
   "metadata": {
    "colab": {
     "base_uri": "https://localhost:8080/",
     "height": 51
    },
    "colab_type": "code",
    "executionInfo": {
     "elapsed": 5997,
     "status": "ok",
     "timestamp": 1591818535426,
     "user": {
      "displayName": "Eser İnan Arslan",
      "photoUrl": "https://lh3.googleusercontent.com/a-/AOh14Ggz536p806W0W9-wxWFfPdVV303PuNNPAhu9S1UjA=s64",
      "userId": "01966049699378036829"
     },
     "user_tz": -180
    },
    "id": "JUmsyvvvbxC6",
    "outputId": "abdbac5e-7f8e-42db-86c3-b92f999e1439"
   },
   "outputs": [],
   "source": [
    "train.censor_rating.unique()"
   ]
  },
  {
   "cell_type": "code",
   "execution_count": null,
   "metadata": {
    "colab": {},
    "colab_type": "code",
    "id": "WFbfgUjGR7Vx"
   },
   "outputs": [],
   "source": [
    "censor_rating_mapping = {\n",
    "    'G' : 20,\n",
    "    'Not Rated' : 0,\n",
    "    'R' : 45,\n",
    "    'PG-13' : 35, \n",
    "    'PG' : 30, \n",
    "    'NOT RATED' : 0, \n",
    "    'Unrated' : 0,\n",
    "    'UNRATED' : 0,\n",
    "    'nan' : 0\n",
    "}"
   ]
  },
  {
   "cell_type": "code",
   "execution_count": null,
   "metadata": {
    "colab": {
     "base_uri": "https://localhost:8080/",
     "height": 377
    },
    "colab_type": "code",
    "executionInfo": {
     "elapsed": 7712,
     "status": "ok",
     "timestamp": 1591818539237,
     "user": {
      "displayName": "Eser İnan Arslan",
      "photoUrl": "https://lh3.googleusercontent.com/a-/AOh14Ggz536p806W0W9-wxWFfPdVV303PuNNPAhu9S1UjA=s64",
      "userId": "01966049699378036829"
     },
     "user_tz": -180
    },
    "id": "hgEWqlmnlnkV",
    "outputId": "714850c4-1507-4dc8-fb28-48a0674820c4"
   },
   "outputs": [],
   "source": [
    "train['censor_rating'] = train.censor_rating.replace(censor_rating_mapping)\n",
    "train.head()"
   ]
  },
  {
   "cell_type": "code",
   "execution_count": null,
   "metadata": {
    "colab": {
     "base_uri": "https://localhost:8080/",
     "height": 377
    },
    "colab_type": "code",
    "executionInfo": {
     "elapsed": 2868,
     "status": "ok",
     "timestamp": 1591818545322,
     "user": {
      "displayName": "Eser İnan Arslan",
      "photoUrl": "https://lh3.googleusercontent.com/a-/AOh14Ggz536p806W0W9-wxWFfPdVV303PuNNPAhu9S1UjA=s64",
      "userId": "01966049699378036829"
     },
     "user_tz": -180
    },
    "id": "MBR6FAk_mDYf",
    "outputId": "1887e4b6-c54b-4d45-9a95-dd296b6c5e80"
   },
   "outputs": [],
   "source": [
    "train.runtime = train.runtime.replace(' min', '', regex = True)\n",
    "train.head()"
   ]
  },
  {
   "cell_type": "code",
   "execution_count": null,
   "metadata": {
    "colab": {
     "base_uri": "https://localhost:8080/",
     "height": 377
    },
    "colab_type": "code",
    "executionInfo": {
     "elapsed": 2730,
     "status": "ok",
     "timestamp": 1591818548316,
     "user": {
      "displayName": "Eser İnan Arslan",
      "photoUrl": "https://lh3.googleusercontent.com/a-/AOh14Ggz536p806W0W9-wxWFfPdVV303PuNNPAhu9S1UjA=s64",
      "userId": "01966049699378036829"
     },
     "user_tz": -180
    },
    "id": "kxWRh2k9mW2X",
    "outputId": "051f779c-6405-409a-f09a-ff1dd47051a3"
   },
   "outputs": [],
   "source": [
    "train.ratings_imdb = train.ratings_imdb.replace('/10', '', regex=True)\n",
    "train.ratings_imdb = train.ratings_imdb.astype(float) * 10\n",
    "train.head()"
   ]
  },
  {
   "cell_type": "code",
   "execution_count": null,
   "metadata": {
    "colab": {
     "base_uri": "https://localhost:8080/",
     "height": 377
    },
    "colab_type": "code",
    "executionInfo": {
     "elapsed": 6003,
     "status": "ok",
     "timestamp": 1591818556915,
     "user": {
      "displayName": "Eser İnan Arslan",
      "photoUrl": "https://lh3.googleusercontent.com/a-/AOh14Ggz536p806W0W9-wxWFfPdVV303PuNNPAhu9S1UjA=s64",
      "userId": "01966049699378036829"
     },
     "user_tz": -180
    },
    "id": "GFgs7KdInbnv",
    "outputId": "30227fbd-3049-45b3-cc7e-4bf6b90cdf05"
   },
   "outputs": [],
   "source": [
    "train.ratings_metacritic = train.ratings_metacritic.replace('/100', '', regex=True)\n",
    "train.ratings_tomatoes = train.ratings_tomatoes.replace('%', '', regex=True)\n",
    "train.head()"
   ]
  },
  {
   "cell_type": "code",
   "execution_count": null,
   "metadata": {
    "colab": {},
    "colab_type": "code",
    "id": "bt_mD3neoh0J"
   },
   "outputs": [],
   "source": [
    "train['release_day'] = train.release_date.str.split('-', expand=True)[0]\n",
    "train['release_month'] = train.release_date.str.split('-', expand=True)[1]\n",
    "train['release_year'] = train.release_date.str.split('-', expand=True)[2]"
   ]
  },
  {
   "cell_type": "code",
   "execution_count": null,
   "metadata": {
    "colab": {},
    "colab_type": "code",
    "id": "n-VFP_huut0t"
   },
   "outputs": [],
   "source": [
    "train['release_year'] = pd.to_numeric(train['release_year'], errors='coerce')"
   ]
  },
  {
   "cell_type": "code",
   "execution_count": null,
   "metadata": {
    "colab": {},
    "colab_type": "code",
    "id": "rlObNGi9t9hV"
   },
   "outputs": [],
   "source": [
    "train['release_year'] = train['release_year'].astype(float)\n",
    "train['release_year'] = train['release_year'] + 2000"
   ]
  },
  {
   "cell_type": "code",
   "execution_count": null,
   "metadata": {
    "colab": {},
    "colab_type": "code",
    "id": "gqbQFHxLuAPY"
   },
   "outputs": [],
   "source": [
    "train['dvd_release_day'] = train.dvd_release_date.str.split('-', expand=True)[0]\n",
    "train['dvd_release_month'] = train.dvd_release_date.str.split('-', expand=True)[1]\n",
    "train['dvd_release_year'] = train.dvd_release_date.str.split('-', expand=True)[2]"
   ]
  },
  {
   "cell_type": "code",
   "execution_count": null,
   "metadata": {
    "colab": {},
    "colab_type": "code",
    "id": "UeGvFdiOuASr"
   },
   "outputs": [],
   "source": [
    "train['dvd_release_year'] = train['dvd_release_year'].astype(float)\n",
    "train['dvd_release_year'] = train['dvd_release_year'] + 2000"
   ]
  },
  {
   "cell_type": "code",
   "execution_count": null,
   "metadata": {
    "colab": {
     "base_uri": "https://localhost:8080/",
     "height": 233
    },
    "colab_type": "code",
    "executionInfo": {
     "elapsed": 3685,
     "status": "ok",
     "timestamp": 1591818576537,
     "user": {
      "displayName": "Eser İnan Arslan",
      "photoUrl": "https://lh3.googleusercontent.com/a-/AOh14Ggz536p806W0W9-wxWFfPdVV303PuNNPAhu9S1UjA=s64",
      "userId": "01966049699378036829"
     },
     "user_tz": -180
    },
    "id": "8dcp5yyjvOKK",
    "outputId": "57707afc-7652-4ffc-a763-6d6caf7a1064"
   },
   "outputs": [],
   "source": [
    "drop_date_column = ['release_date', 'dvd_release_date']\n",
    "train = train.drop(columns = drop_date_column)\n",
    "train.head(2)"
   ]
  },
  {
   "cell_type": "code",
   "execution_count": null,
   "metadata": {
    "colab": {},
    "colab_type": "code",
    "id": "00dKhBk4v9fD"
   },
   "outputs": [],
   "source": [
    "month_mapping = {\"May\" : 5,\n",
    "                 \"Jul\" : 7,\n",
    "                 \"Feb\" : 2,\n",
    "                 \"Jun\" : 6,\n",
    "                 \"Aug\" : 8,\n",
    "                 \"Jan\" : 1,\n",
    "                 \"Oct\" : 10,\n",
    "                 \"Dec\" : 12,\n",
    "                 \"Nov\" : 11,\n",
    "                 \"None\" : 20,\n",
    "                 \"Mar\" : 3,\n",
    "                 \"Apr\" : 4,\n",
    "                 \"Sep\" : 9\n",
    "}"
   ]
  },
  {
   "cell_type": "code",
   "execution_count": null,
   "metadata": {
    "colab": {
     "base_uri": "https://localhost:8080/",
     "height": 377
    },
    "colab_type": "code",
    "executionInfo": {
     "elapsed": 2282,
     "status": "ok",
     "timestamp": 1591818579862,
     "user": {
      "displayName": "Eser İnan Arslan",
      "photoUrl": "https://lh3.googleusercontent.com/a-/AOh14Ggz536p806W0W9-wxWFfPdVV303PuNNPAhu9S1UjA=s64",
      "userId": "01966049699378036829"
     },
     "user_tz": -180
    },
    "id": "lFBDXpfgwXB7",
    "outputId": "53bf73fe-dad9-41b7-bb12-d5f1adfcd605"
   },
   "outputs": [],
   "source": [
    "train['release_month'] = train.release_month.replace(month_mapping)\n",
    "train['dvd_release_month'] = train.dvd_release_month.replace(month_mapping)\n",
    "train.head()"
   ]
  },
  {
   "cell_type": "code",
   "execution_count": null,
   "metadata": {
    "colab": {},
    "colab_type": "code",
    "id": "lu7-iXRswZt4"
   },
   "outputs": [],
   "source": [
    "bins_methods = [ \"auto\", \"fd\", \"doane\", \"scott\", \"stone\", \"rice\", \"sturges\", \"sqrt\"]"
   ]
  },
  {
   "cell_type": "code",
   "execution_count": null,
   "metadata": {
    "colab": {},
    "colab_type": "code",
    "id": "4nxczONZ0MsU"
   },
   "outputs": [],
   "source": [
    "# https://stackoverflow.com/a/18364570\n",
    "def get_columns_bins(column_name):\n",
    "  all_bins = []\n",
    "  \n",
    "  for method in bins_methods:\n",
    "    start = datetime.now()\n",
    "    hist, bin_edges = np.histogram(column_name,bins=method)\n",
    "    all_bins.append(bin_edges)\n",
    "    print(\"Method : {:<7} - Running Time : {:<5} - Number of bins : {:<5} - Head : {} - Tail : {}\".format(method,str(datetime.now()-start), len(bin_edges), bin_edges[:3], bin_edges[-3:-1]))\n",
    "  return all_bins"
   ]
  },
  {
   "cell_type": "code",
   "execution_count": null,
   "metadata": {
    "colab": {},
    "colab_type": "code",
    "id": "6kIn9ntT0SeQ"
   },
   "outputs": [],
   "source": [
    "# https://stackoverflow.com/a/18364570\n",
    "def get_clustering_bins(s, quantile=0.3, n_samples=None):\n",
    "    \n",
    "    series = s.dropna().values.reshape(-1, 1)\n",
    "    \n",
    "    bandwidth = estimate_bandwidth(series, quantile=quantile, n_samples=n_samples)\n",
    "    clustering = MeanShift(bandwidth=bandwidth, bin_seeding=True).fit(series)\n",
    "\n",
    "    d = pd.DataFrame(columns=['data_column', 'label_column'])\n",
    "\n",
    "    d['data_column'] = series.reshape(-1)\n",
    "    d['label_column'] = clustering.labels_\n",
    "    \n",
    "    sorted_vals = d.groupby('label_column')['data_column'].max().sort_values().values\n",
    "    bins = np.insert(sorted_vals, [0] , [series.min()-1])\n",
    "    bins[-1] = bins[-1] + 1\n",
    "    \n",
    "    return bins, range(bins.size-1)"
   ]
  },
  {
   "cell_type": "code",
   "execution_count": null,
   "metadata": {
    "colab": {},
    "colab_type": "code",
    "id": "FJAFEhGq0Vxb"
   },
   "outputs": [],
   "source": [
    "#Cartamount Bins\n",
    "def call_bin(col):\n",
    "  all_bins = []\n",
    "  all_bins = get_columns_bins(train[col])\n",
    "\n",
    "  col_bin,label = get_clustering_bins(pd.Series(all_bins[0]), quantile=0.2, n_samples=10)\n",
    "  train[col].hist(bins=col_bin)\n",
    "\n",
    "  col_bin\n",
    "\n",
    "  train[col].value_counts().head()\n",
    "\n",
    "  train[col] = pd.cut(train[col], col_bin).cat.codes\n",
    "\n",
    "  len(col_bin) , train[col].value_counts(bins=col_bin)"
   ]
  },
  {
   "cell_type": "code",
   "execution_count": null,
   "metadata": {
    "colab": {},
    "colab_type": "code",
    "id": "7dOcbZ1M1WrZ"
   },
   "outputs": [],
   "source": [
    "bin_cols = ['censor_rating', 'runtime', 'users_votes', 'comments', 'likes', 'overall_views', 'dislikes', 'ratings_imdb', 'ratings_tomatoes', 'ratings_metacritic', 'awards_win', 'awards_nomination']"
   ]
  },
  {
   "cell_type": "code",
   "execution_count": null,
   "metadata": {
    "colab": {
     "base_uri": "https://localhost:8080/",
     "height": 1000
    },
    "colab_type": "code",
    "executionInfo": {
     "elapsed": 7091,
     "status": "ok",
     "timestamp": 1591818597050,
     "user": {
      "displayName": "Eser İnan Arslan",
      "photoUrl": "https://lh3.googleusercontent.com/a-/AOh14Ggz536p806W0W9-wxWFfPdVV303PuNNPAhu9S1UjA=s64",
      "userId": "01966049699378036829"
     },
     "user_tz": -180
    },
    "id": "9agjbxzW1ceg",
    "outputId": "136cbb42-2245-48fe-f4be-3afec9c6b3e6"
   },
   "outputs": [],
   "source": [
    "for col in bin_cols:\n",
    "  print(\"{} columns started to bin process\" .format(col))\n",
    "  train[col] = pd.to_numeric(train[col], errors='coerce')\n",
    "  train[col].fillna(value=0, inplace=True)\n",
    "  call_bin(col)"
   ]
  },
  {
   "cell_type": "code",
   "execution_count": null,
   "metadata": {
    "colab": {
     "base_uri": "https://localhost:8080/",
     "height": 34
    },
    "colab_type": "code",
    "executionInfo": {
     "elapsed": 2626,
     "status": "ok",
     "timestamp": 1591818613460,
     "user": {
      "displayName": "Eser İnan Arslan",
      "photoUrl": "https://lh3.googleusercontent.com/a-/AOh14Ggz536p806W0W9-wxWFfPdVV303PuNNPAhu9S1UjA=s64",
      "userId": "01966049699378036829"
     },
     "user_tz": -180
    },
    "id": "aeUWE2st2MgB",
    "outputId": "cecf7b02-3926-48ef-eae1-f471f39390a5"
   },
   "outputs": [],
   "source": [
    "train.shape"
   ]
  },
  {
   "cell_type": "code",
   "execution_count": null,
   "metadata": {
    "colab": {
     "base_uri": "https://localhost:8080/",
     "height": 34
    },
    "colab_type": "code",
    "executionInfo": {
     "elapsed": 4303,
     "status": "ok",
     "timestamp": 1591818619170,
     "user": {
      "displayName": "Eser İnan Arslan",
      "photoUrl": "https://lh3.googleusercontent.com/a-/AOh14Ggz536p806W0W9-wxWFfPdVV303PuNNPAhu9S1UjA=s64",
      "userId": "01966049699378036829"
     },
     "user_tz": -180
    },
    "id": "BEl8BMj19K9S",
    "outputId": "57b677c6-bf8e-4bb7-9a63-61faf66f9cd8"
   },
   "outputs": [],
   "source": [
    "train.revenue_category.unique()"
   ]
  },
  {
   "cell_type": "code",
   "execution_count": null,
   "metadata": {
    "colab": {},
    "colab_type": "code",
    "id": "3lql3yPG9qf0"
   },
   "outputs": [],
   "source": [
    "revenue_category_mapping = {\n",
    "    \"High\" : 1,\n",
    "    \"Low\" : 0\n",
    "}"
   ]
  },
  {
   "cell_type": "code",
   "execution_count": null,
   "metadata": {
    "colab": {
     "base_uri": "https://localhost:8080/",
     "height": 377
    },
    "colab_type": "code",
    "executionInfo": {
     "elapsed": 4220,
     "status": "ok",
     "timestamp": 1591818623058,
     "user": {
      "displayName": "Eser İnan Arslan",
      "photoUrl": "https://lh3.googleusercontent.com/a-/AOh14Ggz536p806W0W9-wxWFfPdVV303PuNNPAhu9S1UjA=s64",
      "userId": "01966049699378036829"
     },
     "user_tz": -180
    },
    "id": "DdXZjmxF9yHs",
    "outputId": "9d3aef19-3d07-4c08-d891-e7b2e36e114d"
   },
   "outputs": [],
   "source": [
    "train['predict_rev_cat'] = train.revenue_category.replace(revenue_category_mapping)\n",
    "train.head()"
   ]
  },
  {
   "cell_type": "code",
   "execution_count": null,
   "metadata": {
    "colab": {
     "base_uri": "https://localhost:8080/",
     "height": 694
    },
    "colab_type": "code",
    "executionInfo": {
     "elapsed": 2633,
     "status": "ok",
     "timestamp": 1591818626386,
     "user": {
      "displayName": "Eser İnan Arslan",
      "photoUrl": "https://lh3.googleusercontent.com/a-/AOh14Ggz536p806W0W9-wxWFfPdVV303PuNNPAhu9S1UjA=s64",
      "userId": "01966049699378036829"
     },
     "user_tz": -180
    },
    "id": "-TgkE6NS-Zpq",
    "outputId": "27f09f1f-df57-48a3-cdf1-fb15823ef241"
   },
   "outputs": [],
   "source": [
    "train.drop(columns='revenue_category')"
   ]
  },
  {
   "cell_type": "code",
   "execution_count": null,
   "metadata": {
    "colab": {},
    "colab_type": "code",
    "id": "n3gpjXH2-oKb"
   },
   "outputs": [],
   "source": [
    "quantative_columns = ['writer_count', 'censor_rating', 'runtime', 'users_votes', 'comments', 'likes', 'overall_views', 'dislikes', 'ratings_imdb', 'ratings_tomatoes', 'ratings_metacritic', 'special_award', 'awards_win', 'awards_nomination', 'predict_rev_cat']\n",
    "train2 = train[quantative_columns]"
   ]
  },
  {
   "cell_type": "code",
   "execution_count": null,
   "metadata": {
    "colab": {
     "base_uri": "https://localhost:8080/",
     "height": 224
    },
    "colab_type": "code",
    "executionInfo": {
     "elapsed": 1391,
     "status": "ok",
     "timestamp": 1591818629689,
     "user": {
      "displayName": "Eser İnan Arslan",
      "photoUrl": "https://lh3.googleusercontent.com/a-/AOh14Ggz536p806W0W9-wxWFfPdVV303PuNNPAhu9S1UjA=s64",
      "userId": "01966049699378036829"
     },
     "user_tz": -180
    },
    "id": "cAR4a297DNqp",
    "outputId": "ee7d798a-e04b-48c5-e1d0-5da74431dc34"
   },
   "outputs": [],
   "source": [
    "train2.head()"
   ]
  },
  {
   "cell_type": "code",
   "execution_count": null,
   "metadata": {
    "colab": {
     "base_uri": "https://localhost:8080/",
     "height": 34
    },
    "colab_type": "code",
    "executionInfo": {
     "elapsed": 2313,
     "status": "ok",
     "timestamp": 1591818632936,
     "user": {
      "displayName": "Eser İnan Arslan",
      "photoUrl": "https://lh3.googleusercontent.com/a-/AOh14Ggz536p806W0W9-wxWFfPdVV303PuNNPAhu9S1UjA=s64",
      "userId": "01966049699378036829"
     },
     "user_tz": -180
    },
    "id": "OmEoJPalDQQY",
    "outputId": "5b2fc7bf-3370-4495-f179-09d1fc43cbb2"
   },
   "outputs": [],
   "source": [
    "train2.shape"
   ]
  },
  {
   "cell_type": "code",
   "execution_count": null,
   "metadata": {
    "colab": {
     "base_uri": "https://localhost:8080/",
     "height": 534
    },
    "colab_type": "code",
    "executionInfo": {
     "elapsed": 2503,
     "status": "ok",
     "timestamp": 1591818634471,
     "user": {
      "displayName": "Eser İnan Arslan",
      "photoUrl": "https://lh3.googleusercontent.com/a-/AOh14Ggz536p806W0W9-wxWFfPdVV303PuNNPAhu9S1UjA=s64",
      "userId": "01966049699378036829"
     },
     "user_tz": -180
    },
    "id": "AgT_mT8_Dcoo",
    "outputId": "6643f5fd-388f-4e17-dd37-b4f404dadf53"
   },
   "outputs": [],
   "source": [
    "#Calculate correlations\n",
    "corr = train2.corr()\n",
    "corr"
   ]
  },
  {
   "cell_type": "code",
   "execution_count": null,
   "metadata": {
    "colab": {
     "base_uri": "https://localhost:8080/",
     "height": 34
    },
    "colab_type": "code",
    "executionInfo": {
     "elapsed": 4385,
     "status": "ok",
     "timestamp": 1591818642711,
     "user": {
      "displayName": "Eser İnan Arslan",
      "photoUrl": "https://lh3.googleusercontent.com/a-/AOh14Ggz536p806W0W9-wxWFfPdVV303PuNNPAhu9S1UjA=s64",
      "userId": "01966049699378036829"
     },
     "user_tz": -180
    },
    "id": "Vtbj4lKyDgzE",
    "outputId": "4c2ed931-513b-4c4e-a162-17b6ec00bba2"
   },
   "outputs": [],
   "source": [
    "cr = corr.copy()\n",
    "top_corr_columns = []\n",
    "#Determine best correlate columns over 0.1\n",
    "top_corr_columns = cr.loc[:, 'predict_rev_cat'][:50]\n",
    "best_accurate_columns = top_corr_columns[abs(top_corr_columns) > 0.2].sort_values(ascending=False)\n",
    "len(best_accurate_columns)"
   ]
  },
  {
   "cell_type": "code",
   "execution_count": null,
   "metadata": {
    "colab": {
     "base_uri": "https://localhost:8080/",
     "height": 34
    },
    "colab_type": "code",
    "executionInfo": {
     "elapsed": 4076,
     "status": "ok",
     "timestamp": 1591818644504,
     "user": {
      "displayName": "Eser İnan Arslan",
      "photoUrl": "https://lh3.googleusercontent.com/a-/AOh14Ggz536p806W0W9-wxWFfPdVV303PuNNPAhu9S1UjA=s64",
      "userId": "01966049699378036829"
     },
     "user_tz": -180
    },
    "id": "4SwxK-xPD9Kw",
    "outputId": "853e04af-6edd-4471-cdc9-ed58e50352b9"
   },
   "outputs": [],
   "source": [
    "best_accurate_columns.keys()"
   ]
  },
  {
   "cell_type": "code",
   "execution_count": null,
   "metadata": {
    "colab": {
     "base_uri": "https://localhost:8080/",
     "height": 272
    },
    "colab_type": "code",
    "executionInfo": {
     "elapsed": 3261,
     "status": "ok",
     "timestamp": 1591818644505,
     "user": {
      "displayName": "Eser İnan Arslan",
      "photoUrl": "https://lh3.googleusercontent.com/a-/AOh14Ggz536p806W0W9-wxWFfPdVV303PuNNPAhu9S1UjA=s64",
      "userId": "01966049699378036829"
     },
     "user_tz": -180
    },
    "id": "imXZdNl9S_0k",
    "outputId": "c1b7a1c4-d0b8-4590-c338-9a0a6b92b3be"
   },
   "outputs": [],
   "source": [
    "quantative_columns"
   ]
  },
  {
   "cell_type": "code",
   "execution_count": null,
   "metadata": {
    "colab": {},
    "colab_type": "code",
    "id": "46-eJC6mTG6R"
   },
   "outputs": [],
   "source": [
    "drop_cols = ['runtime',\n",
    " 'users_votes',\n",
    " 'comments',\n",
    " 'likes',\n",
    " 'overall_views',\n",
    " 'dislikes',\n",
    " 'ratings_imdb',\n",
    " 'ratings_metacritic',\n",
    " 'awards_win']"
   ]
  },
  {
   "cell_type": "code",
   "execution_count": null,
   "metadata": {
    "colab": {},
    "colab_type": "code",
    "id": "8WORv7zDEHk4"
   },
   "outputs": [],
   "source": [
    "train_df = train.copy()"
   ]
  },
  {
   "cell_type": "code",
   "execution_count": null,
   "metadata": {
    "colab": {},
    "colab_type": "code",
    "id": "67wtH7AAOOoG"
   },
   "outputs": [],
   "source": [
    "train_df = train_df.drop(columns=drop_cols)"
   ]
  },
  {
   "cell_type": "code",
   "execution_count": null,
   "metadata": {
    "colab": {
     "base_uri": "https://localhost:8080/",
     "height": 34
    },
    "colab_type": "code",
    "executionInfo": {
     "elapsed": 9039,
     "status": "ok",
     "timestamp": 1591818658718,
     "user": {
      "displayName": "Eser İnan Arslan",
      "photoUrl": "https://lh3.googleusercontent.com/a-/AOh14Ggz536p806W0W9-wxWFfPdVV303PuNNPAhu9S1UjA=s64",
      "userId": "01966049699378036829"
     },
     "user_tz": -180
    },
    "id": "AqOq9ggRUCOc",
    "outputId": "7012c741-382e-4970-b63b-aa94fa1630e8"
   },
   "outputs": [],
   "source": [
    "train_df.shape"
   ]
  },
  {
   "cell_type": "code",
   "execution_count": null,
   "metadata": {
    "colab": {},
    "colab_type": "code",
    "id": "Y7AdIj66UEwP"
   },
   "outputs": [],
   "source": [
    "for col in best_accurate_columns.keys():\n",
    "    if col in train_df:\n",
    "      if col != 'predict_rev_cat':\n",
    "        train_df[\"{}_2\".format(col)] = train_df[col]\n",
    "        train_df[\"{}_3\".format(col)] = train_df[col]"
   ]
  },
  {
   "cell_type": "code",
   "execution_count": null,
   "metadata": {
    "colab": {
     "base_uri": "https://localhost:8080/",
     "height": 34
    },
    "colab_type": "code",
    "executionInfo": {
     "elapsed": 2131,
     "status": "ok",
     "timestamp": 1591818665781,
     "user": {
      "displayName": "Eser İnan Arslan",
      "photoUrl": "https://lh3.googleusercontent.com/a-/AOh14Ggz536p806W0W9-wxWFfPdVV303PuNNPAhu9S1UjA=s64",
      "userId": "01966049699378036829"
     },
     "user_tz": -180
    },
    "id": "I5f3CbsJVvZ_",
    "outputId": "e1ac13b9-3510-42ae-fdb0-cc8520c0fe2a"
   },
   "outputs": [],
   "source": [
    "train_df.shape"
   ]
  },
  {
   "cell_type": "code",
   "execution_count": null,
   "metadata": {
    "colab": {},
    "colab_type": "code",
    "id": "OfaogpxZVw8i"
   },
   "outputs": [],
   "source": [
    "from sklearn.model_selection import learning_curve, GridSearchCV\n",
    "from sklearn.model_selection import train_test_split"
   ]
  },
  {
   "cell_type": "code",
   "execution_count": null,
   "metadata": {
    "colab": {
     "base_uri": "https://localhost:8080/",
     "height": 377
    },
    "colab_type": "code",
    "executionInfo": {
     "elapsed": 2025,
     "status": "ok",
     "timestamp": 1591818670208,
     "user": {
      "displayName": "Eser İnan Arslan",
      "photoUrl": "https://lh3.googleusercontent.com/a-/AOh14Ggz536p806W0W9-wxWFfPdVV303PuNNPAhu9S1UjA=s64",
      "userId": "01966049699378036829"
     },
     "user_tz": -180
    },
    "id": "jHEV3Oq5WXqb",
    "outputId": "689790e6-2550-4e34-efd4-1107f7c2b504"
   },
   "outputs": [],
   "source": [
    "train_df.head()"
   ]
  },
  {
   "cell_type": "code",
   "execution_count": null,
   "metadata": {
    "colab": {},
    "colab_type": "code",
    "id": "uNdEsO2AWaq1"
   },
   "outputs": [],
   "source": [
    "cols = train_df.columns.tolist()"
   ]
  },
  {
   "cell_type": "code",
   "execution_count": null,
   "metadata": {
    "colab": {
     "base_uri": "https://localhost:8080/",
     "height": 34
    },
    "colab_type": "code",
    "executionInfo": {
     "elapsed": 4949,
     "status": "ok",
     "timestamp": 1591818676686,
     "user": {
      "displayName": "Eser İnan Arslan",
      "photoUrl": "https://lh3.googleusercontent.com/a-/AOh14Ggz536p806W0W9-wxWFfPdVV303PuNNPAhu9S1UjA=s64",
      "userId": "01966049699378036829"
     },
     "user_tz": -180
    },
    "id": "gHt4YnwqXbXp",
    "outputId": "5db159fe-5d3b-4944-cd67-44f744c0602b"
   },
   "outputs": [],
   "source": [
    "cols[251:252]"
   ]
  },
  {
   "cell_type": "code",
   "execution_count": null,
   "metadata": {
    "colab": {},
    "colab_type": "code",
    "id": "GrOI9AAXXi9-"
   },
   "outputs": [],
   "source": [
    "cols = cols[:251] + cols[252:] + cols[251:252]"
   ]
  },
  {
   "cell_type": "code",
   "execution_count": null,
   "metadata": {
    "colab": {
     "base_uri": "https://localhost:8080/",
     "height": 377
    },
    "colab_type": "code",
    "executionInfo": {
     "elapsed": 3521,
     "status": "ok",
     "timestamp": 1591818680513,
     "user": {
      "displayName": "Eser İnan Arslan",
      "photoUrl": "https://lh3.googleusercontent.com/a-/AOh14Ggz536p806W0W9-wxWFfPdVV303PuNNPAhu9S1UjA=s64",
      "userId": "01966049699378036829"
     },
     "user_tz": -180
    },
    "id": "ESsxpTLBX0om",
    "outputId": "27702210-be5e-4713-ddb7-dc90552d1fab"
   },
   "outputs": [],
   "source": [
    "train_df = train_df[cols]\n",
    "train_df.head()"
   ]
  },
  {
   "cell_type": "code",
   "execution_count": null,
   "metadata": {
    "colab": {},
    "colab_type": "code",
    "id": "c9Fx7Y_hrbaa"
   },
   "outputs": [],
   "source": [
    "dc = ['title', 'revenue_category']"
   ]
  },
  {
   "cell_type": "code",
   "execution_count": null,
   "metadata": {
    "colab": {},
    "colab_type": "code",
    "id": "8slnl1GfYApV"
   },
   "outputs": [],
   "source": [
    "train_df = train_df.drop(columns=dc)"
   ]
  },
  {
   "cell_type": "code",
   "execution_count": 61,
   "metadata": {
    "colab": {
     "base_uri": "https://localhost:8080/",
     "height": 456
    },
    "colab_type": "code",
    "executionInfo": {
     "elapsed": 2492,
     "status": "ok",
     "timestamp": 1591818699931,
     "user": {
      "displayName": "Eser İnan Arslan",
      "photoUrl": "https://lh3.googleusercontent.com/a-/AOh14Ggz536p806W0W9-wxWFfPdVV303PuNNPAhu9S1UjA=s64",
      "userId": "01966049699378036829"
     },
     "user_tz": -180
    },
    "id": "dggpGduYeoHF",
    "outputId": "f9c4fec6-7614-4457-d470-2d212f6c6e22"
   },
   "outputs": [
    {
     "data": {
      "text/html": [
       "<div>\n",
       "<style scoped>\n",
       "    .dataframe tbody tr th:only-of-type {\n",
       "        vertical-align: middle;\n",
       "    }\n",
       "\n",
       "    .dataframe tbody tr th {\n",
       "        vertical-align: top;\n",
       "    }\n",
       "\n",
       "    .dataframe thead th {\n",
       "        text-align: right;\n",
       "    }\n",
       "</style>\n",
       "<table border=\"1\" class=\"dataframe\">\n",
       "  <thead>\n",
       "    <tr style=\"text-align: right;\">\n",
       "      <th></th>\n",
       "      <th>writer_count</th>\n",
       "      <th>title_adaption</th>\n",
       "      <th>censor_rating</th>\n",
       "      <th>ratings_tomatoes</th>\n",
       "      <th>special_award</th>\n",
       "      <th>awards_nomination</th>\n",
       "      <th>country_Afghanistan</th>\n",
       "      <th>country_Albania</th>\n",
       "      <th>country_Algeria</th>\n",
       "      <th>country_Argentina</th>\n",
       "      <th>country_Australia</th>\n",
       "      <th>country_Austria</th>\n",
       "      <th>country_Bahamas</th>\n",
       "      <th>country_Belarus</th>\n",
       "      <th>country_Belgium</th>\n",
       "      <th>country_Bolivia</th>\n",
       "      <th>country_BosniaandHerzegovina</th>\n",
       "      <th>country_Brazil</th>\n",
       "      <th>country_Bulgaria</th>\n",
       "      <th>country_Cambodia</th>\n",
       "      <th>country_Cameroon</th>\n",
       "      <th>country_Canada</th>\n",
       "      <th>country_CaymanIslands</th>\n",
       "      <th>country_Chad</th>\n",
       "      <th>country_Chile</th>\n",
       "      <th>country_China</th>\n",
       "      <th>country_Colombia</th>\n",
       "      <th>country_Croatia</th>\n",
       "      <th>country_CzechRepublic</th>\n",
       "      <th>country_Denmark</th>\n",
       "      <th>country_DominicanRepublic</th>\n",
       "      <th>country_Ecuador</th>\n",
       "      <th>country_Egypt</th>\n",
       "      <th>country_Ethiopia</th>\n",
       "      <th>country_Finland</th>\n",
       "      <th>country_France</th>\n",
       "      <th>country_Georgia</th>\n",
       "      <th>country_Germany</th>\n",
       "      <th>country_Ghana</th>\n",
       "      <th>country_Greece</th>\n",
       "      <th>country_Greenland</th>\n",
       "      <th>country_HongKong</th>\n",
       "      <th>country_Hungary</th>\n",
       "      <th>country_Iceland</th>\n",
       "      <th>country_India</th>\n",
       "      <th>country_Indonesia</th>\n",
       "      <th>country_Iran</th>\n",
       "      <th>country_Ireland</th>\n",
       "      <th>country_IsleOfMan</th>\n",
       "      <th>country_Israel</th>\n",
       "      <th>country_Italy</th>\n",
       "      <th>country_Japan</th>\n",
       "      <th>country_Jordan</th>\n",
       "      <th>country_Kenya</th>\n",
       "      <th>country_Latvia</th>\n",
       "      <th>country_Lebanon</th>\n",
       "      <th>country_Lithuania</th>\n",
       "      <th>country_Luxembourg</th>\n",
       "      <th>country_Malaysia</th>\n",
       "      <th>country_Malta</th>\n",
       "      <th>country_Mauritania</th>\n",
       "      <th>country_Mexico</th>\n",
       "      <th>country_Monaco</th>\n",
       "      <th>country_Mongolia</th>\n",
       "      <th>country_Morocco</th>\n",
       "      <th>country_Namibia</th>\n",
       "      <th>country_Netherlands</th>\n",
       "      <th>country_NewZealand</th>\n",
       "      <th>country_Nigeria</th>\n",
       "      <th>country_Norway</th>\n",
       "      <th>country_Paraguay</th>\n",
       "      <th>country_Peru</th>\n",
       "      <th>country_Philippines</th>\n",
       "      <th>country_Poland</th>\n",
       "      <th>country_Portugal</th>\n",
       "      <th>country_Qatar</th>\n",
       "      <th>country_Romania</th>\n",
       "      <th>country_Russia</th>\n",
       "      <th>country_SaudiArabia</th>\n",
       "      <th>country_Serbia</th>\n",
       "      <th>country_Singapore</th>\n",
       "      <th>country_Slovakia</th>\n",
       "      <th>country_Slovenia</th>\n",
       "      <th>country_SouthAfrica</th>\n",
       "      <th>country_SouthKorea</th>\n",
       "      <th>country_SovietUnion</th>\n",
       "      <th>country_Spain</th>\n",
       "      <th>country_Sweden</th>\n",
       "      <th>country_Switzerland</th>\n",
       "      <th>country_Taiwan</th>\n",
       "      <th>country_Tanzania</th>\n",
       "      <th>country_Thailand</th>\n",
       "      <th>country_TrinidadandTobago</th>\n",
       "      <th>country_Tunisia</th>\n",
       "      <th>country_Turkey</th>\n",
       "      <th>country_UK</th>\n",
       "      <th>country_USA</th>\n",
       "      <th>country_Uganda</th>\n",
       "      <th>country_Ukraine</th>\n",
       "      <th>country_UnitedArabEmirates</th>\n",
       "      <th>country_Uruguay</th>\n",
       "      <th>language_Aboriginal</th>\n",
       "      <th>language_Acholi</th>\n",
       "      <th>language_Afrikaans</th>\n",
       "      <th>language_Albanian</th>\n",
       "      <th>language_Algonquin</th>\n",
       "      <th>language_AmericanSignLanguage</th>\n",
       "      <th>language_Arabic</th>\n",
       "      <th>language_Aramaic</th>\n",
       "      <th>language_Armenian</th>\n",
       "      <th>language_Awadhi</th>\n",
       "      <th>language_Balinese</th>\n",
       "      <th>language_Bambara</th>\n",
       "      <th>language_Bengali</th>\n",
       "      <th>language_Bhojpuri</th>\n",
       "      <th>language_Bulgarian</th>\n",
       "      <th>language_Burmese</th>\n",
       "      <th>language_Cantonese</th>\n",
       "      <th>language_Catalan</th>\n",
       "      <th>language_Chinese</th>\n",
       "      <th>language_Corsican</th>\n",
       "      <th>language_Croatian</th>\n",
       "      <th>language_Czech</th>\n",
       "      <th>language_Danish</th>\n",
       "      <th>language_Dari</th>\n",
       "      <th>language_Dutch</th>\n",
       "      <th>language_English</th>\n",
       "      <th>language_Esperanto</th>\n",
       "      <th>language_Estonian</th>\n",
       "      <th>language_Filipino</th>\n",
       "      <th>language_Finnish</th>\n",
       "      <th>language_Flemish</th>\n",
       "      <th>language_French</th>\n",
       "      <th>language_Georgian</th>\n",
       "      <th>language_German</th>\n",
       "      <th>language_Greek</th>\n",
       "      <th>language_Greenlandic</th>\n",
       "      <th>language_Gujarati</th>\n",
       "      <th>language_Hakka</th>\n",
       "      <th>language_Hawaiian</th>\n",
       "      <th>language_Hebrew</th>\n",
       "      <th>language_Hindi</th>\n",
       "      <th>language_Hmong</th>\n",
       "      <th>language_Hungarian</th>\n",
       "      <th>language_Ibo</th>\n",
       "      <th>language_Icelandic</th>\n",
       "      <th>language_Indonesian</th>\n",
       "      <th>language_Inuktitut</th>\n",
       "      <th>language_Irish</th>\n",
       "      <th>language_Italian</th>\n",
       "      <th>language_Japanese</th>\n",
       "      <th>language_Khmer</th>\n",
       "      <th>language_Kinyarwanda</th>\n",
       "      <th>language_Kirundi</th>\n",
       "      <th>language_Klingon</th>\n",
       "      <th>language_Korean</th>\n",
       "      <th>language_Lao</th>\n",
       "      <th>language_Latin</th>\n",
       "      <th>language_Lithuanian</th>\n",
       "      <th>language_Macedonian</th>\n",
       "      <th>language_Mandarin</th>\n",
       "      <th>language_Manipuri</th>\n",
       "      <th>language_Maori</th>\n",
       "      <th>language_Masai</th>\n",
       "      <th>language_Maya</th>\n",
       "      <th>language_MinNan</th>\n",
       "      <th>language_Mohawk</th>\n",
       "      <th>language_Mongolian</th>\n",
       "      <th>language_Navajo</th>\n",
       "      <th>language_Neapolitan</th>\n",
       "      <th>language_None</th>\n",
       "      <th>language_NorthAmericanIndian</th>\n",
       "      <th>language_Norwegian</th>\n",
       "      <th>language_Persian</th>\n",
       "      <th>language_Polish</th>\n",
       "      <th>language_Polynesian</th>\n",
       "      <th>language_Portuguese</th>\n",
       "      <th>language_Punjabi</th>\n",
       "      <th>language_Pushto</th>\n",
       "      <th>language_Quechua</th>\n",
       "      <th>language_Rajasthani</th>\n",
       "      <th>language_Romanian</th>\n",
       "      <th>language_Romany</th>\n",
       "      <th>language_Russian</th>\n",
       "      <th>language_Sanskrit</th>\n",
       "      <th>language_Scots</th>\n",
       "      <th>language_ScottishGaelic</th>\n",
       "      <th>language_Serbian</th>\n",
       "      <th>language_Serbo-Croatian</th>\n",
       "      <th>language_Shanghainese</th>\n",
       "      <th>language_Shona</th>\n",
       "      <th>language_SignLanguages</th>\n",
       "      <th>language_Sindarin</th>\n",
       "      <th>language_Slovak</th>\n",
       "      <th>language_Somali</th>\n",
       "      <th>language_Songhay</th>\n",
       "      <th>language_SouthernSotho</th>\n",
       "      <th>language_Spanish</th>\n",
       "      <th>language_Swahili</th>\n",
       "      <th>language_Swedish</th>\n",
       "      <th>language_SwissGerman</th>\n",
       "      <th>language_Syriac</th>\n",
       "      <th>language_Tagalog</th>\n",
       "      <th>language_Tamashek</th>\n",
       "      <th>language_Tamil</th>\n",
       "      <th>language_Telugu</th>\n",
       "      <th>language_Thai</th>\n",
       "      <th>language_Tibetan</th>\n",
       "      <th>language_Tupi</th>\n",
       "      <th>language_Turkish</th>\n",
       "      <th>language_Ukrainian</th>\n",
       "      <th>language_Urdu</th>\n",
       "      <th>language_Vietnamese</th>\n",
       "      <th>language_Welsh</th>\n",
       "      <th>language_Wolof</th>\n",
       "      <th>language_Xhosa</th>\n",
       "      <th>language_Yiddish</th>\n",
       "      <th>language_Yoruba</th>\n",
       "      <th>language_Zulu</th>\n",
       "      <th>genres_Action</th>\n",
       "      <th>genres_Adventure</th>\n",
       "      <th>genres_Animation</th>\n",
       "      <th>genres_Biography</th>\n",
       "      <th>genres_Comedy</th>\n",
       "      <th>genres_Crime</th>\n",
       "      <th>genres_Documentary</th>\n",
       "      <th>genres_Drama</th>\n",
       "      <th>genres_Family</th>\n",
       "      <th>genres_Fantasy</th>\n",
       "      <th>genres_Film-Noir</th>\n",
       "      <th>genres_History</th>\n",
       "      <th>genres_Horror</th>\n",
       "      <th>genres_Music</th>\n",
       "      <th>genres_Musical</th>\n",
       "      <th>genres_Mystery</th>\n",
       "      <th>genres_News</th>\n",
       "      <th>genres_Romance</th>\n",
       "      <th>genres_Sci-Fi</th>\n",
       "      <th>genres_Short</th>\n",
       "      <th>genres_Sport</th>\n",
       "      <th>genres_Thriller</th>\n",
       "      <th>genres_War</th>\n",
       "      <th>genres_Western</th>\n",
       "      <th>release_day</th>\n",
       "      <th>release_month</th>\n",
       "      <th>release_year</th>\n",
       "      <th>dvd_release_day</th>\n",
       "      <th>dvd_release_month</th>\n",
       "      <th>dvd_release_year</th>\n",
       "      <th>censor_rating_2</th>\n",
       "      <th>censor_rating_3</th>\n",
       "      <th>writer_count_2</th>\n",
       "      <th>writer_count_3</th>\n",
       "      <th>awards_nomination_2</th>\n",
       "      <th>awards_nomination_3</th>\n",
       "      <th>special_award_2</th>\n",
       "      <th>special_award_3</th>\n",
       "      <th>ratings_tomatoes_2</th>\n",
       "      <th>ratings_tomatoes_3</th>\n",
       "    </tr>\n",
       "  </thead>\n",
       "  <tbody>\n",
       "    <tr>\n",
       "      <th>0</th>\n",
       "      <td>3.0</td>\n",
       "      <td>True</td>\n",
       "      <td>3</td>\n",
       "      <td>5</td>\n",
       "      <td>0</td>\n",
       "      <td>0</td>\n",
       "      <td>0</td>\n",
       "      <td>0</td>\n",
       "      <td>0</td>\n",
       "      <td>0</td>\n",
       "      <td>0</td>\n",
       "      <td>0</td>\n",
       "      <td>0</td>\n",
       "      <td>0</td>\n",
       "      <td>0</td>\n",
       "      <td>0</td>\n",
       "      <td>0</td>\n",
       "      <td>0</td>\n",
       "      <td>0</td>\n",
       "      <td>0</td>\n",
       "      <td>0</td>\n",
       "      <td>0</td>\n",
       "      <td>0</td>\n",
       "      <td>0</td>\n",
       "      <td>0</td>\n",
       "      <td>0</td>\n",
       "      <td>0</td>\n",
       "      <td>0</td>\n",
       "      <td>0</td>\n",
       "      <td>0</td>\n",
       "      <td>0</td>\n",
       "      <td>0</td>\n",
       "      <td>0</td>\n",
       "      <td>0</td>\n",
       "      <td>0</td>\n",
       "      <td>0</td>\n",
       "      <td>0</td>\n",
       "      <td>0</td>\n",
       "      <td>0</td>\n",
       "      <td>0</td>\n",
       "      <td>0</td>\n",
       "      <td>0</td>\n",
       "      <td>0</td>\n",
       "      <td>0</td>\n",
       "      <td>0</td>\n",
       "      <td>0</td>\n",
       "      <td>0</td>\n",
       "      <td>0</td>\n",
       "      <td>0</td>\n",
       "      <td>0</td>\n",
       "      <td>0</td>\n",
       "      <td>0</td>\n",
       "      <td>0</td>\n",
       "      <td>0</td>\n",
       "      <td>0</td>\n",
       "      <td>0</td>\n",
       "      <td>0</td>\n",
       "      <td>0</td>\n",
       "      <td>0</td>\n",
       "      <td>0</td>\n",
       "      <td>0</td>\n",
       "      <td>0</td>\n",
       "      <td>0</td>\n",
       "      <td>0</td>\n",
       "      <td>0</td>\n",
       "      <td>0</td>\n",
       "      <td>0</td>\n",
       "      <td>0</td>\n",
       "      <td>0</td>\n",
       "      <td>0</td>\n",
       "      <td>0</td>\n",
       "      <td>0</td>\n",
       "      <td>0</td>\n",
       "      <td>0</td>\n",
       "      <td>0</td>\n",
       "      <td>0</td>\n",
       "      <td>0</td>\n",
       "      <td>0</td>\n",
       "      <td>0</td>\n",
       "      <td>0</td>\n",
       "      <td>0</td>\n",
       "      <td>0</td>\n",
       "      <td>0</td>\n",
       "      <td>0</td>\n",
       "      <td>0</td>\n",
       "      <td>0</td>\n",
       "      <td>0</td>\n",
       "      <td>0</td>\n",
       "      <td>0</td>\n",
       "      <td>0</td>\n",
       "      <td>0</td>\n",
       "      <td>0</td>\n",
       "      <td>0</td>\n",
       "      <td>0</td>\n",
       "      <td>0</td>\n",
       "      <td>0</td>\n",
       "      <td>1</td>\n",
       "      <td>0</td>\n",
       "      <td>0</td>\n",
       "      <td>0</td>\n",
       "      <td>0</td>\n",
       "      <td>0</td>\n",
       "      <td>0</td>\n",
       "      <td>0</td>\n",
       "      <td>0</td>\n",
       "      <td>0</td>\n",
       "      <td>0</td>\n",
       "      <td>0</td>\n",
       "      <td>0</td>\n",
       "      <td>0</td>\n",
       "      <td>0</td>\n",
       "      <td>0</td>\n",
       "      <td>0</td>\n",
       "      <td>0</td>\n",
       "      <td>0</td>\n",
       "      <td>0</td>\n",
       "      <td>0</td>\n",
       "      <td>0</td>\n",
       "      <td>0</td>\n",
       "      <td>0</td>\n",
       "      <td>0</td>\n",
       "      <td>0</td>\n",
       "      <td>0</td>\n",
       "      <td>0</td>\n",
       "      <td>0</td>\n",
       "      <td>0</td>\n",
       "      <td>1</td>\n",
       "      <td>0</td>\n",
       "      <td>0</td>\n",
       "      <td>0</td>\n",
       "      <td>0</td>\n",
       "      <td>0</td>\n",
       "      <td>0</td>\n",
       "      <td>0</td>\n",
       "      <td>0</td>\n",
       "      <td>0</td>\n",
       "      <td>0</td>\n",
       "      <td>0</td>\n",
       "      <td>0</td>\n",
       "      <td>0</td>\n",
       "      <td>0</td>\n",
       "      <td>0</td>\n",
       "      <td>0</td>\n",
       "      <td>0</td>\n",
       "      <td>0</td>\n",
       "      <td>0</td>\n",
       "      <td>0</td>\n",
       "      <td>0</td>\n",
       "      <td>0</td>\n",
       "      <td>0</td>\n",
       "      <td>0</td>\n",
       "      <td>0</td>\n",
       "      <td>0</td>\n",
       "      <td>0</td>\n",
       "      <td>0</td>\n",
       "      <td>0</td>\n",
       "      <td>0</td>\n",
       "      <td>0</td>\n",
       "      <td>0</td>\n",
       "      <td>0</td>\n",
       "      <td>0</td>\n",
       "      <td>0</td>\n",
       "      <td>0</td>\n",
       "      <td>0</td>\n",
       "      <td>0</td>\n",
       "      <td>0</td>\n",
       "      <td>0</td>\n",
       "      <td>0</td>\n",
       "      <td>0</td>\n",
       "      <td>0</td>\n",
       "      <td>0</td>\n",
       "      <td>0</td>\n",
       "      <td>0</td>\n",
       "      <td>0</td>\n",
       "      <td>0</td>\n",
       "      <td>0</td>\n",
       "      <td>0</td>\n",
       "      <td>0</td>\n",
       "      <td>0</td>\n",
       "      <td>0</td>\n",
       "      <td>0</td>\n",
       "      <td>0</td>\n",
       "      <td>0</td>\n",
       "      <td>0</td>\n",
       "      <td>0</td>\n",
       "      <td>0</td>\n",
       "      <td>0</td>\n",
       "      <td>0</td>\n",
       "      <td>0</td>\n",
       "      <td>0</td>\n",
       "      <td>0</td>\n",
       "      <td>0</td>\n",
       "      <td>0</td>\n",
       "      <td>0</td>\n",
       "      <td>0</td>\n",
       "      <td>0</td>\n",
       "      <td>0</td>\n",
       "      <td>0</td>\n",
       "      <td>0</td>\n",
       "      <td>0</td>\n",
       "      <td>0</td>\n",
       "      <td>0</td>\n",
       "      <td>0</td>\n",
       "      <td>0</td>\n",
       "      <td>0</td>\n",
       "      <td>0</td>\n",
       "      <td>0</td>\n",
       "      <td>0</td>\n",
       "      <td>0</td>\n",
       "      <td>0</td>\n",
       "      <td>0</td>\n",
       "      <td>0</td>\n",
       "      <td>0</td>\n",
       "      <td>0</td>\n",
       "      <td>0</td>\n",
       "      <td>0</td>\n",
       "      <td>0</td>\n",
       "      <td>0</td>\n",
       "      <td>0</td>\n",
       "      <td>0</td>\n",
       "      <td>0</td>\n",
       "      <td>1</td>\n",
       "      <td>0</td>\n",
       "      <td>1</td>\n",
       "      <td>0</td>\n",
       "      <td>0</td>\n",
       "      <td>0</td>\n",
       "      <td>1</td>\n",
       "      <td>1</td>\n",
       "      <td>0</td>\n",
       "      <td>0</td>\n",
       "      <td>0</td>\n",
       "      <td>0</td>\n",
       "      <td>1</td>\n",
       "      <td>1</td>\n",
       "      <td>0</td>\n",
       "      <td>0</td>\n",
       "      <td>0</td>\n",
       "      <td>0</td>\n",
       "      <td>0</td>\n",
       "      <td>0</td>\n",
       "      <td>0</td>\n",
       "      <td>0</td>\n",
       "      <td>11</td>\n",
       "      <td>2.0</td>\n",
       "      <td>2005.0</td>\n",
       "      <td>24</td>\n",
       "      <td>5.0</td>\n",
       "      <td>2005.0</td>\n",
       "      <td>3</td>\n",
       "      <td>3</td>\n",
       "      <td>3.0</td>\n",
       "      <td>3.0</td>\n",
       "      <td>0</td>\n",
       "      <td>0</td>\n",
       "      <td>0</td>\n",
       "      <td>0</td>\n",
       "      <td>5</td>\n",
       "      <td>5</td>\n",
       "    </tr>\n",
       "    <tr>\n",
       "      <th>1</th>\n",
       "      <td>2.0</td>\n",
       "      <td>True</td>\n",
       "      <td>0</td>\n",
       "      <td>5</td>\n",
       "      <td>0</td>\n",
       "      <td>4</td>\n",
       "      <td>0</td>\n",
       "      <td>0</td>\n",
       "      <td>0</td>\n",
       "      <td>0</td>\n",
       "      <td>0</td>\n",
       "      <td>0</td>\n",
       "      <td>0</td>\n",
       "      <td>0</td>\n",
       "      <td>0</td>\n",
       "      <td>0</td>\n",
       "      <td>0</td>\n",
       "      <td>0</td>\n",
       "      <td>0</td>\n",
       "      <td>0</td>\n",
       "      <td>0</td>\n",
       "      <td>0</td>\n",
       "      <td>0</td>\n",
       "      <td>0</td>\n",
       "      <td>0</td>\n",
       "      <td>0</td>\n",
       "      <td>0</td>\n",
       "      <td>0</td>\n",
       "      <td>0</td>\n",
       "      <td>0</td>\n",
       "      <td>0</td>\n",
       "      <td>0</td>\n",
       "      <td>0</td>\n",
       "      <td>0</td>\n",
       "      <td>0</td>\n",
       "      <td>0</td>\n",
       "      <td>0</td>\n",
       "      <td>0</td>\n",
       "      <td>0</td>\n",
       "      <td>0</td>\n",
       "      <td>0</td>\n",
       "      <td>0</td>\n",
       "      <td>0</td>\n",
       "      <td>0</td>\n",
       "      <td>1</td>\n",
       "      <td>0</td>\n",
       "      <td>0</td>\n",
       "      <td>0</td>\n",
       "      <td>0</td>\n",
       "      <td>0</td>\n",
       "      <td>0</td>\n",
       "      <td>0</td>\n",
       "      <td>0</td>\n",
       "      <td>0</td>\n",
       "      <td>0</td>\n",
       "      <td>0</td>\n",
       "      <td>0</td>\n",
       "      <td>0</td>\n",
       "      <td>0</td>\n",
       "      <td>0</td>\n",
       "      <td>0</td>\n",
       "      <td>0</td>\n",
       "      <td>0</td>\n",
       "      <td>0</td>\n",
       "      <td>0</td>\n",
       "      <td>0</td>\n",
       "      <td>0</td>\n",
       "      <td>0</td>\n",
       "      <td>0</td>\n",
       "      <td>0</td>\n",
       "      <td>0</td>\n",
       "      <td>0</td>\n",
       "      <td>0</td>\n",
       "      <td>0</td>\n",
       "      <td>0</td>\n",
       "      <td>0</td>\n",
       "      <td>0</td>\n",
       "      <td>0</td>\n",
       "      <td>0</td>\n",
       "      <td>0</td>\n",
       "      <td>0</td>\n",
       "      <td>0</td>\n",
       "      <td>0</td>\n",
       "      <td>0</td>\n",
       "      <td>0</td>\n",
       "      <td>0</td>\n",
       "      <td>0</td>\n",
       "      <td>0</td>\n",
       "      <td>0</td>\n",
       "      <td>0</td>\n",
       "      <td>0</td>\n",
       "      <td>0</td>\n",
       "      <td>0</td>\n",
       "      <td>0</td>\n",
       "      <td>0</td>\n",
       "      <td>0</td>\n",
       "      <td>0</td>\n",
       "      <td>0</td>\n",
       "      <td>0</td>\n",
       "      <td>0</td>\n",
       "      <td>0</td>\n",
       "      <td>0</td>\n",
       "      <td>0</td>\n",
       "      <td>0</td>\n",
       "      <td>0</td>\n",
       "      <td>0</td>\n",
       "      <td>0</td>\n",
       "      <td>0</td>\n",
       "      <td>0</td>\n",
       "      <td>0</td>\n",
       "      <td>0</td>\n",
       "      <td>0</td>\n",
       "      <td>0</td>\n",
       "      <td>0</td>\n",
       "      <td>0</td>\n",
       "      <td>0</td>\n",
       "      <td>0</td>\n",
       "      <td>0</td>\n",
       "      <td>0</td>\n",
       "      <td>0</td>\n",
       "      <td>0</td>\n",
       "      <td>0</td>\n",
       "      <td>0</td>\n",
       "      <td>0</td>\n",
       "      <td>0</td>\n",
       "      <td>0</td>\n",
       "      <td>1</td>\n",
       "      <td>0</td>\n",
       "      <td>0</td>\n",
       "      <td>0</td>\n",
       "      <td>0</td>\n",
       "      <td>0</td>\n",
       "      <td>1</td>\n",
       "      <td>0</td>\n",
       "      <td>0</td>\n",
       "      <td>0</td>\n",
       "      <td>0</td>\n",
       "      <td>0</td>\n",
       "      <td>0</td>\n",
       "      <td>0</td>\n",
       "      <td>0</td>\n",
       "      <td>1</td>\n",
       "      <td>0</td>\n",
       "      <td>0</td>\n",
       "      <td>0</td>\n",
       "      <td>0</td>\n",
       "      <td>0</td>\n",
       "      <td>0</td>\n",
       "      <td>0</td>\n",
       "      <td>0</td>\n",
       "      <td>0</td>\n",
       "      <td>0</td>\n",
       "      <td>0</td>\n",
       "      <td>0</td>\n",
       "      <td>0</td>\n",
       "      <td>0</td>\n",
       "      <td>0</td>\n",
       "      <td>0</td>\n",
       "      <td>0</td>\n",
       "      <td>0</td>\n",
       "      <td>0</td>\n",
       "      <td>0</td>\n",
       "      <td>0</td>\n",
       "      <td>0</td>\n",
       "      <td>0</td>\n",
       "      <td>0</td>\n",
       "      <td>0</td>\n",
       "      <td>0</td>\n",
       "      <td>0</td>\n",
       "      <td>0</td>\n",
       "      <td>0</td>\n",
       "      <td>0</td>\n",
       "      <td>0</td>\n",
       "      <td>0</td>\n",
       "      <td>0</td>\n",
       "      <td>0</td>\n",
       "      <td>0</td>\n",
       "      <td>0</td>\n",
       "      <td>0</td>\n",
       "      <td>0</td>\n",
       "      <td>0</td>\n",
       "      <td>0</td>\n",
       "      <td>0</td>\n",
       "      <td>0</td>\n",
       "      <td>0</td>\n",
       "      <td>0</td>\n",
       "      <td>0</td>\n",
       "      <td>0</td>\n",
       "      <td>0</td>\n",
       "      <td>0</td>\n",
       "      <td>0</td>\n",
       "      <td>0</td>\n",
       "      <td>0</td>\n",
       "      <td>0</td>\n",
       "      <td>0</td>\n",
       "      <td>0</td>\n",
       "      <td>0</td>\n",
       "      <td>0</td>\n",
       "      <td>0</td>\n",
       "      <td>0</td>\n",
       "      <td>0</td>\n",
       "      <td>0</td>\n",
       "      <td>0</td>\n",
       "      <td>0</td>\n",
       "      <td>0</td>\n",
       "      <td>0</td>\n",
       "      <td>0</td>\n",
       "      <td>0</td>\n",
       "      <td>0</td>\n",
       "      <td>0</td>\n",
       "      <td>0</td>\n",
       "      <td>0</td>\n",
       "      <td>0</td>\n",
       "      <td>0</td>\n",
       "      <td>0</td>\n",
       "      <td>0</td>\n",
       "      <td>0</td>\n",
       "      <td>0</td>\n",
       "      <td>0</td>\n",
       "      <td>0</td>\n",
       "      <td>0</td>\n",
       "      <td>0</td>\n",
       "      <td>0</td>\n",
       "      <td>1</td>\n",
       "      <td>0</td>\n",
       "      <td>0</td>\n",
       "      <td>1</td>\n",
       "      <td>0</td>\n",
       "      <td>0</td>\n",
       "      <td>0</td>\n",
       "      <td>0</td>\n",
       "      <td>0</td>\n",
       "      <td>0</td>\n",
       "      <td>1</td>\n",
       "      <td>0</td>\n",
       "      <td>0</td>\n",
       "      <td>1</td>\n",
       "      <td>0</td>\n",
       "      <td>0</td>\n",
       "      <td>0</td>\n",
       "      <td>0</td>\n",
       "      <td>0</td>\n",
       "      <td>0</td>\n",
       "      <td>31</td>\n",
       "      <td>5.0</td>\n",
       "      <td>2013.0</td>\n",
       "      <td>15</td>\n",
       "      <td>7.0</td>\n",
       "      <td>2013.0</td>\n",
       "      <td>0</td>\n",
       "      <td>0</td>\n",
       "      <td>2.0</td>\n",
       "      <td>2.0</td>\n",
       "      <td>4</td>\n",
       "      <td>4</td>\n",
       "      <td>0</td>\n",
       "      <td>0</td>\n",
       "      <td>5</td>\n",
       "      <td>5</td>\n",
       "    </tr>\n",
       "    <tr>\n",
       "      <th>2</th>\n",
       "      <td>4.0</td>\n",
       "      <td>False</td>\n",
       "      <td>6</td>\n",
       "      <td>5</td>\n",
       "      <td>0</td>\n",
       "      <td>0</td>\n",
       "      <td>0</td>\n",
       "      <td>0</td>\n",
       "      <td>0</td>\n",
       "      <td>0</td>\n",
       "      <td>0</td>\n",
       "      <td>0</td>\n",
       "      <td>0</td>\n",
       "      <td>0</td>\n",
       "      <td>0</td>\n",
       "      <td>0</td>\n",
       "      <td>0</td>\n",
       "      <td>0</td>\n",
       "      <td>0</td>\n",
       "      <td>0</td>\n",
       "      <td>0</td>\n",
       "      <td>0</td>\n",
       "      <td>0</td>\n",
       "      <td>0</td>\n",
       "      <td>0</td>\n",
       "      <td>0</td>\n",
       "      <td>0</td>\n",
       "      <td>0</td>\n",
       "      <td>0</td>\n",
       "      <td>0</td>\n",
       "      <td>0</td>\n",
       "      <td>0</td>\n",
       "      <td>0</td>\n",
       "      <td>0</td>\n",
       "      <td>0</td>\n",
       "      <td>0</td>\n",
       "      <td>0</td>\n",
       "      <td>0</td>\n",
       "      <td>0</td>\n",
       "      <td>0</td>\n",
       "      <td>0</td>\n",
       "      <td>0</td>\n",
       "      <td>0</td>\n",
       "      <td>0</td>\n",
       "      <td>0</td>\n",
       "      <td>0</td>\n",
       "      <td>0</td>\n",
       "      <td>0</td>\n",
       "      <td>0</td>\n",
       "      <td>0</td>\n",
       "      <td>0</td>\n",
       "      <td>0</td>\n",
       "      <td>0</td>\n",
       "      <td>0</td>\n",
       "      <td>0</td>\n",
       "      <td>0</td>\n",
       "      <td>0</td>\n",
       "      <td>0</td>\n",
       "      <td>0</td>\n",
       "      <td>0</td>\n",
       "      <td>0</td>\n",
       "      <td>0</td>\n",
       "      <td>0</td>\n",
       "      <td>0</td>\n",
       "      <td>0</td>\n",
       "      <td>0</td>\n",
       "      <td>0</td>\n",
       "      <td>0</td>\n",
       "      <td>0</td>\n",
       "      <td>0</td>\n",
       "      <td>0</td>\n",
       "      <td>0</td>\n",
       "      <td>0</td>\n",
       "      <td>0</td>\n",
       "      <td>0</td>\n",
       "      <td>0</td>\n",
       "      <td>0</td>\n",
       "      <td>0</td>\n",
       "      <td>0</td>\n",
       "      <td>0</td>\n",
       "      <td>0</td>\n",
       "      <td>0</td>\n",
       "      <td>0</td>\n",
       "      <td>0</td>\n",
       "      <td>1</td>\n",
       "      <td>0</td>\n",
       "      <td>0</td>\n",
       "      <td>0</td>\n",
       "      <td>0</td>\n",
       "      <td>0</td>\n",
       "      <td>0</td>\n",
       "      <td>0</td>\n",
       "      <td>0</td>\n",
       "      <td>0</td>\n",
       "      <td>0</td>\n",
       "      <td>0</td>\n",
       "      <td>0</td>\n",
       "      <td>0</td>\n",
       "      <td>0</td>\n",
       "      <td>0</td>\n",
       "      <td>0</td>\n",
       "      <td>0</td>\n",
       "      <td>0</td>\n",
       "      <td>0</td>\n",
       "      <td>0</td>\n",
       "      <td>0</td>\n",
       "      <td>0</td>\n",
       "      <td>0</td>\n",
       "      <td>0</td>\n",
       "      <td>0</td>\n",
       "      <td>0</td>\n",
       "      <td>0</td>\n",
       "      <td>0</td>\n",
       "      <td>0</td>\n",
       "      <td>0</td>\n",
       "      <td>0</td>\n",
       "      <td>0</td>\n",
       "      <td>0</td>\n",
       "      <td>0</td>\n",
       "      <td>0</td>\n",
       "      <td>0</td>\n",
       "      <td>0</td>\n",
       "      <td>0</td>\n",
       "      <td>0</td>\n",
       "      <td>0</td>\n",
       "      <td>0</td>\n",
       "      <td>0</td>\n",
       "      <td>0</td>\n",
       "      <td>0</td>\n",
       "      <td>0</td>\n",
       "      <td>0</td>\n",
       "      <td>0</td>\n",
       "      <td>0</td>\n",
       "      <td>0</td>\n",
       "      <td>0</td>\n",
       "      <td>0</td>\n",
       "      <td>0</td>\n",
       "      <td>0</td>\n",
       "      <td>0</td>\n",
       "      <td>0</td>\n",
       "      <td>0</td>\n",
       "      <td>0</td>\n",
       "      <td>0</td>\n",
       "      <td>0</td>\n",
       "      <td>0</td>\n",
       "      <td>0</td>\n",
       "      <td>0</td>\n",
       "      <td>0</td>\n",
       "      <td>0</td>\n",
       "      <td>0</td>\n",
       "      <td>0</td>\n",
       "      <td>0</td>\n",
       "      <td>0</td>\n",
       "      <td>0</td>\n",
       "      <td>0</td>\n",
       "      <td>1</td>\n",
       "      <td>0</td>\n",
       "      <td>0</td>\n",
       "      <td>0</td>\n",
       "      <td>0</td>\n",
       "      <td>0</td>\n",
       "      <td>0</td>\n",
       "      <td>0</td>\n",
       "      <td>0</td>\n",
       "      <td>0</td>\n",
       "      <td>0</td>\n",
       "      <td>0</td>\n",
       "      <td>0</td>\n",
       "      <td>0</td>\n",
       "      <td>0</td>\n",
       "      <td>0</td>\n",
       "      <td>0</td>\n",
       "      <td>0</td>\n",
       "      <td>0</td>\n",
       "      <td>0</td>\n",
       "      <td>0</td>\n",
       "      <td>0</td>\n",
       "      <td>0</td>\n",
       "      <td>0</td>\n",
       "      <td>0</td>\n",
       "      <td>0</td>\n",
       "      <td>0</td>\n",
       "      <td>0</td>\n",
       "      <td>0</td>\n",
       "      <td>0</td>\n",
       "      <td>0</td>\n",
       "      <td>0</td>\n",
       "      <td>0</td>\n",
       "      <td>0</td>\n",
       "      <td>0</td>\n",
       "      <td>0</td>\n",
       "      <td>0</td>\n",
       "      <td>0</td>\n",
       "      <td>0</td>\n",
       "      <td>0</td>\n",
       "      <td>0</td>\n",
       "      <td>0</td>\n",
       "      <td>0</td>\n",
       "      <td>0</td>\n",
       "      <td>0</td>\n",
       "      <td>0</td>\n",
       "      <td>0</td>\n",
       "      <td>0</td>\n",
       "      <td>0</td>\n",
       "      <td>0</td>\n",
       "      <td>0</td>\n",
       "      <td>0</td>\n",
       "      <td>0</td>\n",
       "      <td>0</td>\n",
       "      <td>0</td>\n",
       "      <td>0</td>\n",
       "      <td>0</td>\n",
       "      <td>0</td>\n",
       "      <td>0</td>\n",
       "      <td>0</td>\n",
       "      <td>0</td>\n",
       "      <td>0</td>\n",
       "      <td>0</td>\n",
       "      <td>0</td>\n",
       "      <td>1</td>\n",
       "      <td>0</td>\n",
       "      <td>0</td>\n",
       "      <td>0</td>\n",
       "      <td>0</td>\n",
       "      <td>0</td>\n",
       "      <td>0</td>\n",
       "      <td>1</td>\n",
       "      <td>0</td>\n",
       "      <td>0</td>\n",
       "      <td>0</td>\n",
       "      <td>0</td>\n",
       "      <td>0</td>\n",
       "      <td>0</td>\n",
       "      <td>0</td>\n",
       "      <td>0</td>\n",
       "      <td>0</td>\n",
       "      <td>0</td>\n",
       "      <td>0</td>\n",
       "      <td>0</td>\n",
       "      <td>0</td>\n",
       "      <td>0</td>\n",
       "      <td>1</td>\n",
       "      <td>0</td>\n",
       "      <td>24</td>\n",
       "      <td>9.0</td>\n",
       "      <td>2004.0</td>\n",
       "      <td>15</td>\n",
       "      <td>2.0</td>\n",
       "      <td>2005.0</td>\n",
       "      <td>6</td>\n",
       "      <td>6</td>\n",
       "      <td>4.0</td>\n",
       "      <td>4.0</td>\n",
       "      <td>0</td>\n",
       "      <td>0</td>\n",
       "      <td>0</td>\n",
       "      <td>0</td>\n",
       "      <td>5</td>\n",
       "      <td>5</td>\n",
       "    </tr>\n",
       "    <tr>\n",
       "      <th>3</th>\n",
       "      <td>1.0</td>\n",
       "      <td>False</td>\n",
       "      <td>6</td>\n",
       "      <td>3</td>\n",
       "      <td>0</td>\n",
       "      <td>1</td>\n",
       "      <td>0</td>\n",
       "      <td>0</td>\n",
       "      <td>0</td>\n",
       "      <td>0</td>\n",
       "      <td>0</td>\n",
       "      <td>0</td>\n",
       "      <td>0</td>\n",
       "      <td>0</td>\n",
       "      <td>0</td>\n",
       "      <td>0</td>\n",
       "      <td>0</td>\n",
       "      <td>0</td>\n",
       "      <td>0</td>\n",
       "      <td>0</td>\n",
       "      <td>0</td>\n",
       "      <td>0</td>\n",
       "      <td>0</td>\n",
       "      <td>0</td>\n",
       "      <td>0</td>\n",
       "      <td>0</td>\n",
       "      <td>0</td>\n",
       "      <td>0</td>\n",
       "      <td>0</td>\n",
       "      <td>0</td>\n",
       "      <td>0</td>\n",
       "      <td>0</td>\n",
       "      <td>0</td>\n",
       "      <td>0</td>\n",
       "      <td>0</td>\n",
       "      <td>0</td>\n",
       "      <td>0</td>\n",
       "      <td>0</td>\n",
       "      <td>0</td>\n",
       "      <td>0</td>\n",
       "      <td>0</td>\n",
       "      <td>0</td>\n",
       "      <td>0</td>\n",
       "      <td>0</td>\n",
       "      <td>0</td>\n",
       "      <td>0</td>\n",
       "      <td>0</td>\n",
       "      <td>0</td>\n",
       "      <td>0</td>\n",
       "      <td>0</td>\n",
       "      <td>0</td>\n",
       "      <td>0</td>\n",
       "      <td>0</td>\n",
       "      <td>0</td>\n",
       "      <td>0</td>\n",
       "      <td>0</td>\n",
       "      <td>0</td>\n",
       "      <td>0</td>\n",
       "      <td>0</td>\n",
       "      <td>0</td>\n",
       "      <td>0</td>\n",
       "      <td>0</td>\n",
       "      <td>0</td>\n",
       "      <td>0</td>\n",
       "      <td>0</td>\n",
       "      <td>0</td>\n",
       "      <td>0</td>\n",
       "      <td>0</td>\n",
       "      <td>0</td>\n",
       "      <td>0</td>\n",
       "      <td>0</td>\n",
       "      <td>0</td>\n",
       "      <td>0</td>\n",
       "      <td>0</td>\n",
       "      <td>0</td>\n",
       "      <td>0</td>\n",
       "      <td>0</td>\n",
       "      <td>0</td>\n",
       "      <td>0</td>\n",
       "      <td>0</td>\n",
       "      <td>0</td>\n",
       "      <td>0</td>\n",
       "      <td>0</td>\n",
       "      <td>0</td>\n",
       "      <td>0</td>\n",
       "      <td>0</td>\n",
       "      <td>0</td>\n",
       "      <td>0</td>\n",
       "      <td>0</td>\n",
       "      <td>0</td>\n",
       "      <td>0</td>\n",
       "      <td>0</td>\n",
       "      <td>0</td>\n",
       "      <td>0</td>\n",
       "      <td>0</td>\n",
       "      <td>0</td>\n",
       "      <td>1</td>\n",
       "      <td>0</td>\n",
       "      <td>0</td>\n",
       "      <td>0</td>\n",
       "      <td>0</td>\n",
       "      <td>0</td>\n",
       "      <td>0</td>\n",
       "      <td>0</td>\n",
       "      <td>0</td>\n",
       "      <td>0</td>\n",
       "      <td>0</td>\n",
       "      <td>0</td>\n",
       "      <td>0</td>\n",
       "      <td>0</td>\n",
       "      <td>0</td>\n",
       "      <td>0</td>\n",
       "      <td>0</td>\n",
       "      <td>0</td>\n",
       "      <td>0</td>\n",
       "      <td>0</td>\n",
       "      <td>0</td>\n",
       "      <td>0</td>\n",
       "      <td>0</td>\n",
       "      <td>0</td>\n",
       "      <td>0</td>\n",
       "      <td>0</td>\n",
       "      <td>0</td>\n",
       "      <td>0</td>\n",
       "      <td>0</td>\n",
       "      <td>0</td>\n",
       "      <td>1</td>\n",
       "      <td>0</td>\n",
       "      <td>0</td>\n",
       "      <td>0</td>\n",
       "      <td>0</td>\n",
       "      <td>0</td>\n",
       "      <td>0</td>\n",
       "      <td>0</td>\n",
       "      <td>0</td>\n",
       "      <td>0</td>\n",
       "      <td>0</td>\n",
       "      <td>0</td>\n",
       "      <td>0</td>\n",
       "      <td>0</td>\n",
       "      <td>0</td>\n",
       "      <td>0</td>\n",
       "      <td>0</td>\n",
       "      <td>0</td>\n",
       "      <td>0</td>\n",
       "      <td>0</td>\n",
       "      <td>0</td>\n",
       "      <td>0</td>\n",
       "      <td>0</td>\n",
       "      <td>0</td>\n",
       "      <td>0</td>\n",
       "      <td>0</td>\n",
       "      <td>0</td>\n",
       "      <td>0</td>\n",
       "      <td>0</td>\n",
       "      <td>0</td>\n",
       "      <td>0</td>\n",
       "      <td>0</td>\n",
       "      <td>0</td>\n",
       "      <td>0</td>\n",
       "      <td>0</td>\n",
       "      <td>0</td>\n",
       "      <td>0</td>\n",
       "      <td>0</td>\n",
       "      <td>0</td>\n",
       "      <td>0</td>\n",
       "      <td>0</td>\n",
       "      <td>0</td>\n",
       "      <td>0</td>\n",
       "      <td>0</td>\n",
       "      <td>0</td>\n",
       "      <td>0</td>\n",
       "      <td>0</td>\n",
       "      <td>0</td>\n",
       "      <td>0</td>\n",
       "      <td>0</td>\n",
       "      <td>0</td>\n",
       "      <td>0</td>\n",
       "      <td>0</td>\n",
       "      <td>0</td>\n",
       "      <td>0</td>\n",
       "      <td>0</td>\n",
       "      <td>0</td>\n",
       "      <td>0</td>\n",
       "      <td>0</td>\n",
       "      <td>0</td>\n",
       "      <td>0</td>\n",
       "      <td>0</td>\n",
       "      <td>0</td>\n",
       "      <td>0</td>\n",
       "      <td>0</td>\n",
       "      <td>0</td>\n",
       "      <td>0</td>\n",
       "      <td>0</td>\n",
       "      <td>0</td>\n",
       "      <td>0</td>\n",
       "      <td>0</td>\n",
       "      <td>0</td>\n",
       "      <td>0</td>\n",
       "      <td>0</td>\n",
       "      <td>0</td>\n",
       "      <td>0</td>\n",
       "      <td>0</td>\n",
       "      <td>0</td>\n",
       "      <td>0</td>\n",
       "      <td>0</td>\n",
       "      <td>0</td>\n",
       "      <td>0</td>\n",
       "      <td>0</td>\n",
       "      <td>0</td>\n",
       "      <td>0</td>\n",
       "      <td>0</td>\n",
       "      <td>0</td>\n",
       "      <td>0</td>\n",
       "      <td>0</td>\n",
       "      <td>0</td>\n",
       "      <td>0</td>\n",
       "      <td>0</td>\n",
       "      <td>0</td>\n",
       "      <td>1</td>\n",
       "      <td>1</td>\n",
       "      <td>0</td>\n",
       "      <td>0</td>\n",
       "      <td>0</td>\n",
       "      <td>0</td>\n",
       "      <td>0</td>\n",
       "      <td>1</td>\n",
       "      <td>0</td>\n",
       "      <td>0</td>\n",
       "      <td>0</td>\n",
       "      <td>0</td>\n",
       "      <td>0</td>\n",
       "      <td>0</td>\n",
       "      <td>0</td>\n",
       "      <td>0</td>\n",
       "      <td>0</td>\n",
       "      <td>0</td>\n",
       "      <td>0</td>\n",
       "      <td>0</td>\n",
       "      <td>0</td>\n",
       "      <td>1</td>\n",
       "      <td>0</td>\n",
       "      <td>0</td>\n",
       "      <td>15</td>\n",
       "      <td>1.0</td>\n",
       "      <td>2010.0</td>\n",
       "      <td>15</td>\n",
       "      <td>6.0</td>\n",
       "      <td>2010.0</td>\n",
       "      <td>6</td>\n",
       "      <td>6</td>\n",
       "      <td>1.0</td>\n",
       "      <td>1.0</td>\n",
       "      <td>1</td>\n",
       "      <td>1</td>\n",
       "      <td>0</td>\n",
       "      <td>0</td>\n",
       "      <td>3</td>\n",
       "      <td>3</td>\n",
       "    </tr>\n",
       "    <tr>\n",
       "      <th>4</th>\n",
       "      <td>1.0</td>\n",
       "      <td>False</td>\n",
       "      <td>5</td>\n",
       "      <td>2</td>\n",
       "      <td>0</td>\n",
       "      <td>0</td>\n",
       "      <td>0</td>\n",
       "      <td>0</td>\n",
       "      <td>0</td>\n",
       "      <td>0</td>\n",
       "      <td>0</td>\n",
       "      <td>0</td>\n",
       "      <td>0</td>\n",
       "      <td>0</td>\n",
       "      <td>0</td>\n",
       "      <td>0</td>\n",
       "      <td>0</td>\n",
       "      <td>0</td>\n",
       "      <td>0</td>\n",
       "      <td>0</td>\n",
       "      <td>0</td>\n",
       "      <td>0</td>\n",
       "      <td>0</td>\n",
       "      <td>0</td>\n",
       "      <td>0</td>\n",
       "      <td>0</td>\n",
       "      <td>0</td>\n",
       "      <td>0</td>\n",
       "      <td>0</td>\n",
       "      <td>0</td>\n",
       "      <td>0</td>\n",
       "      <td>0</td>\n",
       "      <td>0</td>\n",
       "      <td>0</td>\n",
       "      <td>0</td>\n",
       "      <td>0</td>\n",
       "      <td>0</td>\n",
       "      <td>0</td>\n",
       "      <td>0</td>\n",
       "      <td>0</td>\n",
       "      <td>0</td>\n",
       "      <td>0</td>\n",
       "      <td>0</td>\n",
       "      <td>0</td>\n",
       "      <td>0</td>\n",
       "      <td>0</td>\n",
       "      <td>0</td>\n",
       "      <td>0</td>\n",
       "      <td>0</td>\n",
       "      <td>0</td>\n",
       "      <td>0</td>\n",
       "      <td>0</td>\n",
       "      <td>0</td>\n",
       "      <td>0</td>\n",
       "      <td>0</td>\n",
       "      <td>0</td>\n",
       "      <td>0</td>\n",
       "      <td>0</td>\n",
       "      <td>0</td>\n",
       "      <td>0</td>\n",
       "      <td>0</td>\n",
       "      <td>0</td>\n",
       "      <td>0</td>\n",
       "      <td>0</td>\n",
       "      <td>0</td>\n",
       "      <td>0</td>\n",
       "      <td>0</td>\n",
       "      <td>0</td>\n",
       "      <td>0</td>\n",
       "      <td>0</td>\n",
       "      <td>0</td>\n",
       "      <td>0</td>\n",
       "      <td>0</td>\n",
       "      <td>0</td>\n",
       "      <td>0</td>\n",
       "      <td>0</td>\n",
       "      <td>0</td>\n",
       "      <td>0</td>\n",
       "      <td>0</td>\n",
       "      <td>0</td>\n",
       "      <td>0</td>\n",
       "      <td>0</td>\n",
       "      <td>0</td>\n",
       "      <td>0</td>\n",
       "      <td>0</td>\n",
       "      <td>0</td>\n",
       "      <td>0</td>\n",
       "      <td>0</td>\n",
       "      <td>0</td>\n",
       "      <td>0</td>\n",
       "      <td>0</td>\n",
       "      <td>0</td>\n",
       "      <td>0</td>\n",
       "      <td>0</td>\n",
       "      <td>0</td>\n",
       "      <td>0</td>\n",
       "      <td>1</td>\n",
       "      <td>0</td>\n",
       "      <td>0</td>\n",
       "      <td>0</td>\n",
       "      <td>0</td>\n",
       "      <td>0</td>\n",
       "      <td>0</td>\n",
       "      <td>0</td>\n",
       "      <td>0</td>\n",
       "      <td>0</td>\n",
       "      <td>0</td>\n",
       "      <td>0</td>\n",
       "      <td>0</td>\n",
       "      <td>0</td>\n",
       "      <td>0</td>\n",
       "      <td>0</td>\n",
       "      <td>0</td>\n",
       "      <td>0</td>\n",
       "      <td>0</td>\n",
       "      <td>0</td>\n",
       "      <td>0</td>\n",
       "      <td>0</td>\n",
       "      <td>0</td>\n",
       "      <td>0</td>\n",
       "      <td>0</td>\n",
       "      <td>0</td>\n",
       "      <td>0</td>\n",
       "      <td>0</td>\n",
       "      <td>0</td>\n",
       "      <td>0</td>\n",
       "      <td>1</td>\n",
       "      <td>0</td>\n",
       "      <td>0</td>\n",
       "      <td>0</td>\n",
       "      <td>0</td>\n",
       "      <td>0</td>\n",
       "      <td>0</td>\n",
       "      <td>0</td>\n",
       "      <td>0</td>\n",
       "      <td>0</td>\n",
       "      <td>0</td>\n",
       "      <td>0</td>\n",
       "      <td>0</td>\n",
       "      <td>0</td>\n",
       "      <td>0</td>\n",
       "      <td>0</td>\n",
       "      <td>0</td>\n",
       "      <td>0</td>\n",
       "      <td>0</td>\n",
       "      <td>0</td>\n",
       "      <td>0</td>\n",
       "      <td>0</td>\n",
       "      <td>0</td>\n",
       "      <td>0</td>\n",
       "      <td>0</td>\n",
       "      <td>0</td>\n",
       "      <td>0</td>\n",
       "      <td>0</td>\n",
       "      <td>0</td>\n",
       "      <td>0</td>\n",
       "      <td>0</td>\n",
       "      <td>0</td>\n",
       "      <td>0</td>\n",
       "      <td>0</td>\n",
       "      <td>0</td>\n",
       "      <td>0</td>\n",
       "      <td>0</td>\n",
       "      <td>0</td>\n",
       "      <td>0</td>\n",
       "      <td>0</td>\n",
       "      <td>0</td>\n",
       "      <td>0</td>\n",
       "      <td>0</td>\n",
       "      <td>0</td>\n",
       "      <td>0</td>\n",
       "      <td>0</td>\n",
       "      <td>0</td>\n",
       "      <td>0</td>\n",
       "      <td>0</td>\n",
       "      <td>0</td>\n",
       "      <td>0</td>\n",
       "      <td>0</td>\n",
       "      <td>0</td>\n",
       "      <td>0</td>\n",
       "      <td>0</td>\n",
       "      <td>0</td>\n",
       "      <td>0</td>\n",
       "      <td>0</td>\n",
       "      <td>0</td>\n",
       "      <td>0</td>\n",
       "      <td>0</td>\n",
       "      <td>0</td>\n",
       "      <td>0</td>\n",
       "      <td>0</td>\n",
       "      <td>0</td>\n",
       "      <td>0</td>\n",
       "      <td>0</td>\n",
       "      <td>0</td>\n",
       "      <td>0</td>\n",
       "      <td>0</td>\n",
       "      <td>0</td>\n",
       "      <td>0</td>\n",
       "      <td>0</td>\n",
       "      <td>0</td>\n",
       "      <td>0</td>\n",
       "      <td>0</td>\n",
       "      <td>0</td>\n",
       "      <td>0</td>\n",
       "      <td>0</td>\n",
       "      <td>0</td>\n",
       "      <td>0</td>\n",
       "      <td>0</td>\n",
       "      <td>0</td>\n",
       "      <td>0</td>\n",
       "      <td>0</td>\n",
       "      <td>0</td>\n",
       "      <td>0</td>\n",
       "      <td>0</td>\n",
       "      <td>0</td>\n",
       "      <td>0</td>\n",
       "      <td>0</td>\n",
       "      <td>0</td>\n",
       "      <td>0</td>\n",
       "      <td>0</td>\n",
       "      <td>0</td>\n",
       "      <td>0</td>\n",
       "      <td>0</td>\n",
       "      <td>1</td>\n",
       "      <td>0</td>\n",
       "      <td>0</td>\n",
       "      <td>0</td>\n",
       "      <td>0</td>\n",
       "      <td>0</td>\n",
       "      <td>0</td>\n",
       "      <td>0</td>\n",
       "      <td>0</td>\n",
       "      <td>0</td>\n",
       "      <td>0</td>\n",
       "      <td>0</td>\n",
       "      <td>0</td>\n",
       "      <td>1</td>\n",
       "      <td>0</td>\n",
       "      <td>0</td>\n",
       "      <td>0</td>\n",
       "      <td>0</td>\n",
       "      <td>0</td>\n",
       "      <td>0</td>\n",
       "      <td>26</td>\n",
       "      <td>4.0</td>\n",
       "      <td>2007.0</td>\n",
       "      <td>05</td>\n",
       "      <td>2.0</td>\n",
       "      <td>2008.0</td>\n",
       "      <td>5</td>\n",
       "      <td>5</td>\n",
       "      <td>1.0</td>\n",
       "      <td>1.0</td>\n",
       "      <td>0</td>\n",
       "      <td>0</td>\n",
       "      <td>0</td>\n",
       "      <td>0</td>\n",
       "      <td>2</td>\n",
       "      <td>2</td>\n",
       "    </tr>\n",
       "    <tr>\n",
       "      <th>...</th>\n",
       "      <td>...</td>\n",
       "      <td>...</td>\n",
       "      <td>...</td>\n",
       "      <td>...</td>\n",
       "      <td>...</td>\n",
       "      <td>...</td>\n",
       "      <td>...</td>\n",
       "      <td>...</td>\n",
       "      <td>...</td>\n",
       "      <td>...</td>\n",
       "      <td>...</td>\n",
       "      <td>...</td>\n",
       "      <td>...</td>\n",
       "      <td>...</td>\n",
       "      <td>...</td>\n",
       "      <td>...</td>\n",
       "      <td>...</td>\n",
       "      <td>...</td>\n",
       "      <td>...</td>\n",
       "      <td>...</td>\n",
       "      <td>...</td>\n",
       "      <td>...</td>\n",
       "      <td>...</td>\n",
       "      <td>...</td>\n",
       "      <td>...</td>\n",
       "      <td>...</td>\n",
       "      <td>...</td>\n",
       "      <td>...</td>\n",
       "      <td>...</td>\n",
       "      <td>...</td>\n",
       "      <td>...</td>\n",
       "      <td>...</td>\n",
       "      <td>...</td>\n",
       "      <td>...</td>\n",
       "      <td>...</td>\n",
       "      <td>...</td>\n",
       "      <td>...</td>\n",
       "      <td>...</td>\n",
       "      <td>...</td>\n",
       "      <td>...</td>\n",
       "      <td>...</td>\n",
       "      <td>...</td>\n",
       "      <td>...</td>\n",
       "      <td>...</td>\n",
       "      <td>...</td>\n",
       "      <td>...</td>\n",
       "      <td>...</td>\n",
       "      <td>...</td>\n",
       "      <td>...</td>\n",
       "      <td>...</td>\n",
       "      <td>...</td>\n",
       "      <td>...</td>\n",
       "      <td>...</td>\n",
       "      <td>...</td>\n",
       "      <td>...</td>\n",
       "      <td>...</td>\n",
       "      <td>...</td>\n",
       "      <td>...</td>\n",
       "      <td>...</td>\n",
       "      <td>...</td>\n",
       "      <td>...</td>\n",
       "      <td>...</td>\n",
       "      <td>...</td>\n",
       "      <td>...</td>\n",
       "      <td>...</td>\n",
       "      <td>...</td>\n",
       "      <td>...</td>\n",
       "      <td>...</td>\n",
       "      <td>...</td>\n",
       "      <td>...</td>\n",
       "      <td>...</td>\n",
       "      <td>...</td>\n",
       "      <td>...</td>\n",
       "      <td>...</td>\n",
       "      <td>...</td>\n",
       "      <td>...</td>\n",
       "      <td>...</td>\n",
       "      <td>...</td>\n",
       "      <td>...</td>\n",
       "      <td>...</td>\n",
       "      <td>...</td>\n",
       "      <td>...</td>\n",
       "      <td>...</td>\n",
       "      <td>...</td>\n",
       "      <td>...</td>\n",
       "      <td>...</td>\n",
       "      <td>...</td>\n",
       "      <td>...</td>\n",
       "      <td>...</td>\n",
       "      <td>...</td>\n",
       "      <td>...</td>\n",
       "      <td>...</td>\n",
       "      <td>...</td>\n",
       "      <td>...</td>\n",
       "      <td>...</td>\n",
       "      <td>...</td>\n",
       "      <td>...</td>\n",
       "      <td>...</td>\n",
       "      <td>...</td>\n",
       "      <td>...</td>\n",
       "      <td>...</td>\n",
       "      <td>...</td>\n",
       "      <td>...</td>\n",
       "      <td>...</td>\n",
       "      <td>...</td>\n",
       "      <td>...</td>\n",
       "      <td>...</td>\n",
       "      <td>...</td>\n",
       "      <td>...</td>\n",
       "      <td>...</td>\n",
       "      <td>...</td>\n",
       "      <td>...</td>\n",
       "      <td>...</td>\n",
       "      <td>...</td>\n",
       "      <td>...</td>\n",
       "      <td>...</td>\n",
       "      <td>...</td>\n",
       "      <td>...</td>\n",
       "      <td>...</td>\n",
       "      <td>...</td>\n",
       "      <td>...</td>\n",
       "      <td>...</td>\n",
       "      <td>...</td>\n",
       "      <td>...</td>\n",
       "      <td>...</td>\n",
       "      <td>...</td>\n",
       "      <td>...</td>\n",
       "      <td>...</td>\n",
       "      <td>...</td>\n",
       "      <td>...</td>\n",
       "      <td>...</td>\n",
       "      <td>...</td>\n",
       "      <td>...</td>\n",
       "      <td>...</td>\n",
       "      <td>...</td>\n",
       "      <td>...</td>\n",
       "      <td>...</td>\n",
       "      <td>...</td>\n",
       "      <td>...</td>\n",
       "      <td>...</td>\n",
       "      <td>...</td>\n",
       "      <td>...</td>\n",
       "      <td>...</td>\n",
       "      <td>...</td>\n",
       "      <td>...</td>\n",
       "      <td>...</td>\n",
       "      <td>...</td>\n",
       "      <td>...</td>\n",
       "      <td>...</td>\n",
       "      <td>...</td>\n",
       "      <td>...</td>\n",
       "      <td>...</td>\n",
       "      <td>...</td>\n",
       "      <td>...</td>\n",
       "      <td>...</td>\n",
       "      <td>...</td>\n",
       "      <td>...</td>\n",
       "      <td>...</td>\n",
       "      <td>...</td>\n",
       "      <td>...</td>\n",
       "      <td>...</td>\n",
       "      <td>...</td>\n",
       "      <td>...</td>\n",
       "      <td>...</td>\n",
       "      <td>...</td>\n",
       "      <td>...</td>\n",
       "      <td>...</td>\n",
       "      <td>...</td>\n",
       "      <td>...</td>\n",
       "      <td>...</td>\n",
       "      <td>...</td>\n",
       "      <td>...</td>\n",
       "      <td>...</td>\n",
       "      <td>...</td>\n",
       "      <td>...</td>\n",
       "      <td>...</td>\n",
       "      <td>...</td>\n",
       "      <td>...</td>\n",
       "      <td>...</td>\n",
       "      <td>...</td>\n",
       "      <td>...</td>\n",
       "      <td>...</td>\n",
       "      <td>...</td>\n",
       "      <td>...</td>\n",
       "      <td>...</td>\n",
       "      <td>...</td>\n",
       "      <td>...</td>\n",
       "      <td>...</td>\n",
       "      <td>...</td>\n",
       "      <td>...</td>\n",
       "      <td>...</td>\n",
       "      <td>...</td>\n",
       "      <td>...</td>\n",
       "      <td>...</td>\n",
       "      <td>...</td>\n",
       "      <td>...</td>\n",
       "      <td>...</td>\n",
       "      <td>...</td>\n",
       "      <td>...</td>\n",
       "      <td>...</td>\n",
       "      <td>...</td>\n",
       "      <td>...</td>\n",
       "      <td>...</td>\n",
       "      <td>...</td>\n",
       "      <td>...</td>\n",
       "      <td>...</td>\n",
       "      <td>...</td>\n",
       "      <td>...</td>\n",
       "      <td>...</td>\n",
       "      <td>...</td>\n",
       "      <td>...</td>\n",
       "      <td>...</td>\n",
       "      <td>...</td>\n",
       "      <td>...</td>\n",
       "      <td>...</td>\n",
       "      <td>...</td>\n",
       "      <td>...</td>\n",
       "      <td>...</td>\n",
       "      <td>...</td>\n",
       "      <td>...</td>\n",
       "      <td>...</td>\n",
       "      <td>...</td>\n",
       "      <td>...</td>\n",
       "      <td>...</td>\n",
       "      <td>...</td>\n",
       "      <td>...</td>\n",
       "      <td>...</td>\n",
       "      <td>...</td>\n",
       "      <td>...</td>\n",
       "      <td>...</td>\n",
       "      <td>...</td>\n",
       "      <td>...</td>\n",
       "      <td>...</td>\n",
       "      <td>...</td>\n",
       "      <td>...</td>\n",
       "      <td>...</td>\n",
       "      <td>...</td>\n",
       "      <td>...</td>\n",
       "      <td>...</td>\n",
       "      <td>...</td>\n",
       "      <td>...</td>\n",
       "      <td>...</td>\n",
       "      <td>...</td>\n",
       "      <td>...</td>\n",
       "      <td>...</td>\n",
       "      <td>...</td>\n",
       "      <td>...</td>\n",
       "      <td>...</td>\n",
       "      <td>...</td>\n",
       "      <td>...</td>\n",
       "      <td>...</td>\n",
       "      <td>...</td>\n",
       "      <td>...</td>\n",
       "      <td>...</td>\n",
       "      <td>...</td>\n",
       "      <td>...</td>\n",
       "      <td>...</td>\n",
       "      <td>...</td>\n",
       "      <td>...</td>\n",
       "    </tr>\n",
       "    <tr>\n",
       "      <th>2395</th>\n",
       "      <td>1.0</td>\n",
       "      <td>False</td>\n",
       "      <td>6</td>\n",
       "      <td>5</td>\n",
       "      <td>0</td>\n",
       "      <td>0</td>\n",
       "      <td>0</td>\n",
       "      <td>0</td>\n",
       "      <td>0</td>\n",
       "      <td>0</td>\n",
       "      <td>0</td>\n",
       "      <td>0</td>\n",
       "      <td>0</td>\n",
       "      <td>0</td>\n",
       "      <td>0</td>\n",
       "      <td>0</td>\n",
       "      <td>0</td>\n",
       "      <td>0</td>\n",
       "      <td>0</td>\n",
       "      <td>0</td>\n",
       "      <td>0</td>\n",
       "      <td>0</td>\n",
       "      <td>0</td>\n",
       "      <td>0</td>\n",
       "      <td>0</td>\n",
       "      <td>0</td>\n",
       "      <td>0</td>\n",
       "      <td>0</td>\n",
       "      <td>0</td>\n",
       "      <td>0</td>\n",
       "      <td>0</td>\n",
       "      <td>0</td>\n",
       "      <td>0</td>\n",
       "      <td>0</td>\n",
       "      <td>0</td>\n",
       "      <td>0</td>\n",
       "      <td>0</td>\n",
       "      <td>0</td>\n",
       "      <td>0</td>\n",
       "      <td>0</td>\n",
       "      <td>0</td>\n",
       "      <td>0</td>\n",
       "      <td>0</td>\n",
       "      <td>0</td>\n",
       "      <td>0</td>\n",
       "      <td>0</td>\n",
       "      <td>0</td>\n",
       "      <td>0</td>\n",
       "      <td>0</td>\n",
       "      <td>0</td>\n",
       "      <td>0</td>\n",
       "      <td>0</td>\n",
       "      <td>0</td>\n",
       "      <td>0</td>\n",
       "      <td>0</td>\n",
       "      <td>0</td>\n",
       "      <td>0</td>\n",
       "      <td>0</td>\n",
       "      <td>0</td>\n",
       "      <td>0</td>\n",
       "      <td>0</td>\n",
       "      <td>0</td>\n",
       "      <td>0</td>\n",
       "      <td>0</td>\n",
       "      <td>0</td>\n",
       "      <td>0</td>\n",
       "      <td>0</td>\n",
       "      <td>0</td>\n",
       "      <td>0</td>\n",
       "      <td>0</td>\n",
       "      <td>0</td>\n",
       "      <td>0</td>\n",
       "      <td>0</td>\n",
       "      <td>0</td>\n",
       "      <td>0</td>\n",
       "      <td>0</td>\n",
       "      <td>0</td>\n",
       "      <td>0</td>\n",
       "      <td>0</td>\n",
       "      <td>0</td>\n",
       "      <td>0</td>\n",
       "      <td>0</td>\n",
       "      <td>0</td>\n",
       "      <td>0</td>\n",
       "      <td>0</td>\n",
       "      <td>0</td>\n",
       "      <td>0</td>\n",
       "      <td>0</td>\n",
       "      <td>0</td>\n",
       "      <td>0</td>\n",
       "      <td>0</td>\n",
       "      <td>0</td>\n",
       "      <td>0</td>\n",
       "      <td>0</td>\n",
       "      <td>0</td>\n",
       "      <td>0</td>\n",
       "      <td>1</td>\n",
       "      <td>0</td>\n",
       "      <td>0</td>\n",
       "      <td>0</td>\n",
       "      <td>0</td>\n",
       "      <td>0</td>\n",
       "      <td>0</td>\n",
       "      <td>0</td>\n",
       "      <td>0</td>\n",
       "      <td>0</td>\n",
       "      <td>0</td>\n",
       "      <td>0</td>\n",
       "      <td>0</td>\n",
       "      <td>0</td>\n",
       "      <td>0</td>\n",
       "      <td>0</td>\n",
       "      <td>0</td>\n",
       "      <td>0</td>\n",
       "      <td>0</td>\n",
       "      <td>0</td>\n",
       "      <td>0</td>\n",
       "      <td>0</td>\n",
       "      <td>0</td>\n",
       "      <td>0</td>\n",
       "      <td>0</td>\n",
       "      <td>0</td>\n",
       "      <td>0</td>\n",
       "      <td>0</td>\n",
       "      <td>0</td>\n",
       "      <td>0</td>\n",
       "      <td>1</td>\n",
       "      <td>0</td>\n",
       "      <td>0</td>\n",
       "      <td>0</td>\n",
       "      <td>0</td>\n",
       "      <td>0</td>\n",
       "      <td>0</td>\n",
       "      <td>0</td>\n",
       "      <td>1</td>\n",
       "      <td>0</td>\n",
       "      <td>0</td>\n",
       "      <td>0</td>\n",
       "      <td>0</td>\n",
       "      <td>0</td>\n",
       "      <td>0</td>\n",
       "      <td>0</td>\n",
       "      <td>0</td>\n",
       "      <td>0</td>\n",
       "      <td>0</td>\n",
       "      <td>0</td>\n",
       "      <td>0</td>\n",
       "      <td>0</td>\n",
       "      <td>0</td>\n",
       "      <td>0</td>\n",
       "      <td>0</td>\n",
       "      <td>0</td>\n",
       "      <td>0</td>\n",
       "      <td>0</td>\n",
       "      <td>0</td>\n",
       "      <td>0</td>\n",
       "      <td>0</td>\n",
       "      <td>0</td>\n",
       "      <td>0</td>\n",
       "      <td>0</td>\n",
       "      <td>0</td>\n",
       "      <td>0</td>\n",
       "      <td>0</td>\n",
       "      <td>0</td>\n",
       "      <td>0</td>\n",
       "      <td>0</td>\n",
       "      <td>0</td>\n",
       "      <td>0</td>\n",
       "      <td>0</td>\n",
       "      <td>0</td>\n",
       "      <td>0</td>\n",
       "      <td>0</td>\n",
       "      <td>0</td>\n",
       "      <td>0</td>\n",
       "      <td>0</td>\n",
       "      <td>0</td>\n",
       "      <td>0</td>\n",
       "      <td>0</td>\n",
       "      <td>0</td>\n",
       "      <td>0</td>\n",
       "      <td>0</td>\n",
       "      <td>0</td>\n",
       "      <td>0</td>\n",
       "      <td>0</td>\n",
       "      <td>0</td>\n",
       "      <td>0</td>\n",
       "      <td>0</td>\n",
       "      <td>0</td>\n",
       "      <td>0</td>\n",
       "      <td>0</td>\n",
       "      <td>0</td>\n",
       "      <td>0</td>\n",
       "      <td>0</td>\n",
       "      <td>0</td>\n",
       "      <td>0</td>\n",
       "      <td>0</td>\n",
       "      <td>0</td>\n",
       "      <td>0</td>\n",
       "      <td>0</td>\n",
       "      <td>0</td>\n",
       "      <td>0</td>\n",
       "      <td>0</td>\n",
       "      <td>0</td>\n",
       "      <td>0</td>\n",
       "      <td>0</td>\n",
       "      <td>0</td>\n",
       "      <td>0</td>\n",
       "      <td>0</td>\n",
       "      <td>0</td>\n",
       "      <td>0</td>\n",
       "      <td>0</td>\n",
       "      <td>0</td>\n",
       "      <td>0</td>\n",
       "      <td>0</td>\n",
       "      <td>0</td>\n",
       "      <td>0</td>\n",
       "      <td>0</td>\n",
       "      <td>0</td>\n",
       "      <td>0</td>\n",
       "      <td>0</td>\n",
       "      <td>0</td>\n",
       "      <td>0</td>\n",
       "      <td>0</td>\n",
       "      <td>0</td>\n",
       "      <td>1</td>\n",
       "      <td>0</td>\n",
       "      <td>1</td>\n",
       "      <td>0</td>\n",
       "      <td>0</td>\n",
       "      <td>0</td>\n",
       "      <td>0</td>\n",
       "      <td>0</td>\n",
       "      <td>0</td>\n",
       "      <td>0</td>\n",
       "      <td>0</td>\n",
       "      <td>0</td>\n",
       "      <td>0</td>\n",
       "      <td>0</td>\n",
       "      <td>0</td>\n",
       "      <td>0</td>\n",
       "      <td>1</td>\n",
       "      <td>0</td>\n",
       "      <td>0</td>\n",
       "      <td>14</td>\n",
       "      <td>11.0</td>\n",
       "      <td>2003.0</td>\n",
       "      <td>04</td>\n",
       "      <td>5.0</td>\n",
       "      <td>2004.0</td>\n",
       "      <td>6</td>\n",
       "      <td>6</td>\n",
       "      <td>1.0</td>\n",
       "      <td>1.0</td>\n",
       "      <td>0</td>\n",
       "      <td>0</td>\n",
       "      <td>0</td>\n",
       "      <td>0</td>\n",
       "      <td>5</td>\n",
       "      <td>5</td>\n",
       "    </tr>\n",
       "    <tr>\n",
       "      <th>2396</th>\n",
       "      <td>3.0</td>\n",
       "      <td>True</td>\n",
       "      <td>5</td>\n",
       "      <td>3</td>\n",
       "      <td>0</td>\n",
       "      <td>0</td>\n",
       "      <td>0</td>\n",
       "      <td>0</td>\n",
       "      <td>0</td>\n",
       "      <td>0</td>\n",
       "      <td>0</td>\n",
       "      <td>0</td>\n",
       "      <td>0</td>\n",
       "      <td>0</td>\n",
       "      <td>0</td>\n",
       "      <td>0</td>\n",
       "      <td>0</td>\n",
       "      <td>0</td>\n",
       "      <td>0</td>\n",
       "      <td>0</td>\n",
       "      <td>0</td>\n",
       "      <td>0</td>\n",
       "      <td>0</td>\n",
       "      <td>0</td>\n",
       "      <td>0</td>\n",
       "      <td>0</td>\n",
       "      <td>0</td>\n",
       "      <td>0</td>\n",
       "      <td>0</td>\n",
       "      <td>0</td>\n",
       "      <td>0</td>\n",
       "      <td>0</td>\n",
       "      <td>0</td>\n",
       "      <td>0</td>\n",
       "      <td>0</td>\n",
       "      <td>0</td>\n",
       "      <td>0</td>\n",
       "      <td>0</td>\n",
       "      <td>0</td>\n",
       "      <td>0</td>\n",
       "      <td>0</td>\n",
       "      <td>0</td>\n",
       "      <td>0</td>\n",
       "      <td>0</td>\n",
       "      <td>0</td>\n",
       "      <td>0</td>\n",
       "      <td>0</td>\n",
       "      <td>0</td>\n",
       "      <td>0</td>\n",
       "      <td>0</td>\n",
       "      <td>0</td>\n",
       "      <td>0</td>\n",
       "      <td>0</td>\n",
       "      <td>0</td>\n",
       "      <td>0</td>\n",
       "      <td>0</td>\n",
       "      <td>0</td>\n",
       "      <td>0</td>\n",
       "      <td>0</td>\n",
       "      <td>0</td>\n",
       "      <td>0</td>\n",
       "      <td>0</td>\n",
       "      <td>0</td>\n",
       "      <td>0</td>\n",
       "      <td>0</td>\n",
       "      <td>0</td>\n",
       "      <td>0</td>\n",
       "      <td>0</td>\n",
       "      <td>0</td>\n",
       "      <td>0</td>\n",
       "      <td>0</td>\n",
       "      <td>0</td>\n",
       "      <td>0</td>\n",
       "      <td>0</td>\n",
       "      <td>0</td>\n",
       "      <td>0</td>\n",
       "      <td>0</td>\n",
       "      <td>0</td>\n",
       "      <td>0</td>\n",
       "      <td>0</td>\n",
       "      <td>0</td>\n",
       "      <td>0</td>\n",
       "      <td>0</td>\n",
       "      <td>0</td>\n",
       "      <td>0</td>\n",
       "      <td>0</td>\n",
       "      <td>0</td>\n",
       "      <td>0</td>\n",
       "      <td>0</td>\n",
       "      <td>0</td>\n",
       "      <td>0</td>\n",
       "      <td>0</td>\n",
       "      <td>0</td>\n",
       "      <td>0</td>\n",
       "      <td>0</td>\n",
       "      <td>0</td>\n",
       "      <td>1</td>\n",
       "      <td>0</td>\n",
       "      <td>0</td>\n",
       "      <td>0</td>\n",
       "      <td>0</td>\n",
       "      <td>0</td>\n",
       "      <td>0</td>\n",
       "      <td>0</td>\n",
       "      <td>0</td>\n",
       "      <td>0</td>\n",
       "      <td>0</td>\n",
       "      <td>0</td>\n",
       "      <td>0</td>\n",
       "      <td>0</td>\n",
       "      <td>0</td>\n",
       "      <td>0</td>\n",
       "      <td>0</td>\n",
       "      <td>0</td>\n",
       "      <td>0</td>\n",
       "      <td>0</td>\n",
       "      <td>0</td>\n",
       "      <td>0</td>\n",
       "      <td>0</td>\n",
       "      <td>0</td>\n",
       "      <td>0</td>\n",
       "      <td>0</td>\n",
       "      <td>0</td>\n",
       "      <td>0</td>\n",
       "      <td>0</td>\n",
       "      <td>0</td>\n",
       "      <td>1</td>\n",
       "      <td>0</td>\n",
       "      <td>0</td>\n",
       "      <td>0</td>\n",
       "      <td>0</td>\n",
       "      <td>0</td>\n",
       "      <td>0</td>\n",
       "      <td>0</td>\n",
       "      <td>0</td>\n",
       "      <td>0</td>\n",
       "      <td>0</td>\n",
       "      <td>0</td>\n",
       "      <td>0</td>\n",
       "      <td>0</td>\n",
       "      <td>0</td>\n",
       "      <td>0</td>\n",
       "      <td>0</td>\n",
       "      <td>0</td>\n",
       "      <td>0</td>\n",
       "      <td>0</td>\n",
       "      <td>0</td>\n",
       "      <td>0</td>\n",
       "      <td>0</td>\n",
       "      <td>1</td>\n",
       "      <td>0</td>\n",
       "      <td>0</td>\n",
       "      <td>0</td>\n",
       "      <td>0</td>\n",
       "      <td>0</td>\n",
       "      <td>0</td>\n",
       "      <td>0</td>\n",
       "      <td>0</td>\n",
       "      <td>0</td>\n",
       "      <td>0</td>\n",
       "      <td>0</td>\n",
       "      <td>0</td>\n",
       "      <td>0</td>\n",
       "      <td>0</td>\n",
       "      <td>0</td>\n",
       "      <td>0</td>\n",
       "      <td>0</td>\n",
       "      <td>0</td>\n",
       "      <td>0</td>\n",
       "      <td>0</td>\n",
       "      <td>0</td>\n",
       "      <td>0</td>\n",
       "      <td>0</td>\n",
       "      <td>0</td>\n",
       "      <td>0</td>\n",
       "      <td>0</td>\n",
       "      <td>1</td>\n",
       "      <td>0</td>\n",
       "      <td>0</td>\n",
       "      <td>0</td>\n",
       "      <td>0</td>\n",
       "      <td>0</td>\n",
       "      <td>0</td>\n",
       "      <td>0</td>\n",
       "      <td>0</td>\n",
       "      <td>0</td>\n",
       "      <td>0</td>\n",
       "      <td>0</td>\n",
       "      <td>0</td>\n",
       "      <td>0</td>\n",
       "      <td>0</td>\n",
       "      <td>0</td>\n",
       "      <td>0</td>\n",
       "      <td>0</td>\n",
       "      <td>0</td>\n",
       "      <td>0</td>\n",
       "      <td>0</td>\n",
       "      <td>0</td>\n",
       "      <td>0</td>\n",
       "      <td>0</td>\n",
       "      <td>0</td>\n",
       "      <td>0</td>\n",
       "      <td>0</td>\n",
       "      <td>0</td>\n",
       "      <td>0</td>\n",
       "      <td>0</td>\n",
       "      <td>0</td>\n",
       "      <td>0</td>\n",
       "      <td>0</td>\n",
       "      <td>0</td>\n",
       "      <td>0</td>\n",
       "      <td>0</td>\n",
       "      <td>0</td>\n",
       "      <td>0</td>\n",
       "      <td>0</td>\n",
       "      <td>0</td>\n",
       "      <td>0</td>\n",
       "      <td>0</td>\n",
       "      <td>0</td>\n",
       "      <td>0</td>\n",
       "      <td>0</td>\n",
       "      <td>0</td>\n",
       "      <td>0</td>\n",
       "      <td>0</td>\n",
       "      <td>0</td>\n",
       "      <td>0</td>\n",
       "      <td>1</td>\n",
       "      <td>0</td>\n",
       "      <td>0</td>\n",
       "      <td>0</td>\n",
       "      <td>0</td>\n",
       "      <td>0</td>\n",
       "      <td>0</td>\n",
       "      <td>0</td>\n",
       "      <td>0</td>\n",
       "      <td>0</td>\n",
       "      <td>1</td>\n",
       "      <td>0</td>\n",
       "      <td>0</td>\n",
       "      <td>0</td>\n",
       "      <td>0</td>\n",
       "      <td>0</td>\n",
       "      <td>0</td>\n",
       "      <td>13</td>\n",
       "      <td>8.0</td>\n",
       "      <td>2010.0</td>\n",
       "      <td>23</td>\n",
       "      <td>11.0</td>\n",
       "      <td>2010.0</td>\n",
       "      <td>5</td>\n",
       "      <td>5</td>\n",
       "      <td>3.0</td>\n",
       "      <td>3.0</td>\n",
       "      <td>0</td>\n",
       "      <td>0</td>\n",
       "      <td>0</td>\n",
       "      <td>0</td>\n",
       "      <td>3</td>\n",
       "      <td>3</td>\n",
       "    </tr>\n",
       "    <tr>\n",
       "      <th>2397</th>\n",
       "      <td>1.0</td>\n",
       "      <td>False</td>\n",
       "      <td>6</td>\n",
       "      <td>4</td>\n",
       "      <td>0</td>\n",
       "      <td>0</td>\n",
       "      <td>0</td>\n",
       "      <td>0</td>\n",
       "      <td>0</td>\n",
       "      <td>0</td>\n",
       "      <td>0</td>\n",
       "      <td>0</td>\n",
       "      <td>0</td>\n",
       "      <td>0</td>\n",
       "      <td>0</td>\n",
       "      <td>0</td>\n",
       "      <td>0</td>\n",
       "      <td>0</td>\n",
       "      <td>0</td>\n",
       "      <td>0</td>\n",
       "      <td>0</td>\n",
       "      <td>0</td>\n",
       "      <td>0</td>\n",
       "      <td>0</td>\n",
       "      <td>0</td>\n",
       "      <td>0</td>\n",
       "      <td>0</td>\n",
       "      <td>0</td>\n",
       "      <td>0</td>\n",
       "      <td>0</td>\n",
       "      <td>0</td>\n",
       "      <td>0</td>\n",
       "      <td>0</td>\n",
       "      <td>0</td>\n",
       "      <td>0</td>\n",
       "      <td>0</td>\n",
       "      <td>0</td>\n",
       "      <td>0</td>\n",
       "      <td>0</td>\n",
       "      <td>0</td>\n",
       "      <td>0</td>\n",
       "      <td>0</td>\n",
       "      <td>0</td>\n",
       "      <td>0</td>\n",
       "      <td>0</td>\n",
       "      <td>0</td>\n",
       "      <td>0</td>\n",
       "      <td>0</td>\n",
       "      <td>0</td>\n",
       "      <td>0</td>\n",
       "      <td>0</td>\n",
       "      <td>0</td>\n",
       "      <td>0</td>\n",
       "      <td>0</td>\n",
       "      <td>0</td>\n",
       "      <td>0</td>\n",
       "      <td>0</td>\n",
       "      <td>0</td>\n",
       "      <td>0</td>\n",
       "      <td>0</td>\n",
       "      <td>0</td>\n",
       "      <td>0</td>\n",
       "      <td>0</td>\n",
       "      <td>0</td>\n",
       "      <td>0</td>\n",
       "      <td>0</td>\n",
       "      <td>0</td>\n",
       "      <td>0</td>\n",
       "      <td>0</td>\n",
       "      <td>0</td>\n",
       "      <td>0</td>\n",
       "      <td>0</td>\n",
       "      <td>0</td>\n",
       "      <td>0</td>\n",
       "      <td>0</td>\n",
       "      <td>0</td>\n",
       "      <td>0</td>\n",
       "      <td>0</td>\n",
       "      <td>0</td>\n",
       "      <td>0</td>\n",
       "      <td>0</td>\n",
       "      <td>0</td>\n",
       "      <td>0</td>\n",
       "      <td>0</td>\n",
       "      <td>0</td>\n",
       "      <td>0</td>\n",
       "      <td>0</td>\n",
       "      <td>0</td>\n",
       "      <td>0</td>\n",
       "      <td>0</td>\n",
       "      <td>0</td>\n",
       "      <td>0</td>\n",
       "      <td>0</td>\n",
       "      <td>0</td>\n",
       "      <td>0</td>\n",
       "      <td>0</td>\n",
       "      <td>1</td>\n",
       "      <td>0</td>\n",
       "      <td>0</td>\n",
       "      <td>0</td>\n",
       "      <td>0</td>\n",
       "      <td>0</td>\n",
       "      <td>0</td>\n",
       "      <td>0</td>\n",
       "      <td>0</td>\n",
       "      <td>0</td>\n",
       "      <td>0</td>\n",
       "      <td>0</td>\n",
       "      <td>0</td>\n",
       "      <td>0</td>\n",
       "      <td>0</td>\n",
       "      <td>0</td>\n",
       "      <td>0</td>\n",
       "      <td>0</td>\n",
       "      <td>0</td>\n",
       "      <td>0</td>\n",
       "      <td>0</td>\n",
       "      <td>0</td>\n",
       "      <td>0</td>\n",
       "      <td>0</td>\n",
       "      <td>0</td>\n",
       "      <td>0</td>\n",
       "      <td>0</td>\n",
       "      <td>0</td>\n",
       "      <td>0</td>\n",
       "      <td>0</td>\n",
       "      <td>1</td>\n",
       "      <td>0</td>\n",
       "      <td>0</td>\n",
       "      <td>0</td>\n",
       "      <td>0</td>\n",
       "      <td>0</td>\n",
       "      <td>0</td>\n",
       "      <td>0</td>\n",
       "      <td>0</td>\n",
       "      <td>0</td>\n",
       "      <td>0</td>\n",
       "      <td>0</td>\n",
       "      <td>0</td>\n",
       "      <td>0</td>\n",
       "      <td>0</td>\n",
       "      <td>0</td>\n",
       "      <td>0</td>\n",
       "      <td>0</td>\n",
       "      <td>0</td>\n",
       "      <td>0</td>\n",
       "      <td>0</td>\n",
       "      <td>0</td>\n",
       "      <td>0</td>\n",
       "      <td>0</td>\n",
       "      <td>0</td>\n",
       "      <td>0</td>\n",
       "      <td>0</td>\n",
       "      <td>0</td>\n",
       "      <td>0</td>\n",
       "      <td>0</td>\n",
       "      <td>0</td>\n",
       "      <td>0</td>\n",
       "      <td>0</td>\n",
       "      <td>0</td>\n",
       "      <td>0</td>\n",
       "      <td>0</td>\n",
       "      <td>0</td>\n",
       "      <td>0</td>\n",
       "      <td>0</td>\n",
       "      <td>0</td>\n",
       "      <td>0</td>\n",
       "      <td>0</td>\n",
       "      <td>0</td>\n",
       "      <td>0</td>\n",
       "      <td>0</td>\n",
       "      <td>0</td>\n",
       "      <td>0</td>\n",
       "      <td>0</td>\n",
       "      <td>0</td>\n",
       "      <td>0</td>\n",
       "      <td>0</td>\n",
       "      <td>0</td>\n",
       "      <td>0</td>\n",
       "      <td>0</td>\n",
       "      <td>0</td>\n",
       "      <td>0</td>\n",
       "      <td>0</td>\n",
       "      <td>0</td>\n",
       "      <td>0</td>\n",
       "      <td>0</td>\n",
       "      <td>0</td>\n",
       "      <td>0</td>\n",
       "      <td>0</td>\n",
       "      <td>0</td>\n",
       "      <td>0</td>\n",
       "      <td>0</td>\n",
       "      <td>0</td>\n",
       "      <td>0</td>\n",
       "      <td>0</td>\n",
       "      <td>0</td>\n",
       "      <td>0</td>\n",
       "      <td>0</td>\n",
       "      <td>0</td>\n",
       "      <td>0</td>\n",
       "      <td>0</td>\n",
       "      <td>0</td>\n",
       "      <td>0</td>\n",
       "      <td>0</td>\n",
       "      <td>0</td>\n",
       "      <td>0</td>\n",
       "      <td>0</td>\n",
       "      <td>0</td>\n",
       "      <td>0</td>\n",
       "      <td>0</td>\n",
       "      <td>0</td>\n",
       "      <td>0</td>\n",
       "      <td>0</td>\n",
       "      <td>0</td>\n",
       "      <td>0</td>\n",
       "      <td>0</td>\n",
       "      <td>0</td>\n",
       "      <td>0</td>\n",
       "      <td>0</td>\n",
       "      <td>0</td>\n",
       "      <td>1</td>\n",
       "      <td>0</td>\n",
       "      <td>0</td>\n",
       "      <td>1</td>\n",
       "      <td>0</td>\n",
       "      <td>0</td>\n",
       "      <td>1</td>\n",
       "      <td>0</td>\n",
       "      <td>0</td>\n",
       "      <td>0</td>\n",
       "      <td>0</td>\n",
       "      <td>0</td>\n",
       "      <td>0</td>\n",
       "      <td>0</td>\n",
       "      <td>0</td>\n",
       "      <td>0</td>\n",
       "      <td>1</td>\n",
       "      <td>1</td>\n",
       "      <td>0</td>\n",
       "      <td>0</td>\n",
       "      <td>0</td>\n",
       "      <td>0</td>\n",
       "      <td>0</td>\n",
       "      <td>22</td>\n",
       "      <td>6.0</td>\n",
       "      <td>2012.0</td>\n",
       "      <td>23</td>\n",
       "      <td>10.0</td>\n",
       "      <td>2012.0</td>\n",
       "      <td>6</td>\n",
       "      <td>6</td>\n",
       "      <td>1.0</td>\n",
       "      <td>1.0</td>\n",
       "      <td>0</td>\n",
       "      <td>0</td>\n",
       "      <td>0</td>\n",
       "      <td>0</td>\n",
       "      <td>4</td>\n",
       "      <td>4</td>\n",
       "    </tr>\n",
       "    <tr>\n",
       "      <th>2398</th>\n",
       "      <td>3.0</td>\n",
       "      <td>True</td>\n",
       "      <td>6</td>\n",
       "      <td>1</td>\n",
       "      <td>0</td>\n",
       "      <td>0</td>\n",
       "      <td>0</td>\n",
       "      <td>0</td>\n",
       "      <td>0</td>\n",
       "      <td>0</td>\n",
       "      <td>0</td>\n",
       "      <td>0</td>\n",
       "      <td>0</td>\n",
       "      <td>0</td>\n",
       "      <td>0</td>\n",
       "      <td>0</td>\n",
       "      <td>0</td>\n",
       "      <td>0</td>\n",
       "      <td>0</td>\n",
       "      <td>0</td>\n",
       "      <td>0</td>\n",
       "      <td>1</td>\n",
       "      <td>0</td>\n",
       "      <td>0</td>\n",
       "      <td>0</td>\n",
       "      <td>0</td>\n",
       "      <td>0</td>\n",
       "      <td>0</td>\n",
       "      <td>0</td>\n",
       "      <td>0</td>\n",
       "      <td>0</td>\n",
       "      <td>0</td>\n",
       "      <td>0</td>\n",
       "      <td>0</td>\n",
       "      <td>0</td>\n",
       "      <td>0</td>\n",
       "      <td>0</td>\n",
       "      <td>0</td>\n",
       "      <td>0</td>\n",
       "      <td>0</td>\n",
       "      <td>0</td>\n",
       "      <td>0</td>\n",
       "      <td>0</td>\n",
       "      <td>0</td>\n",
       "      <td>0</td>\n",
       "      <td>0</td>\n",
       "      <td>0</td>\n",
       "      <td>0</td>\n",
       "      <td>0</td>\n",
       "      <td>0</td>\n",
       "      <td>0</td>\n",
       "      <td>0</td>\n",
       "      <td>0</td>\n",
       "      <td>0</td>\n",
       "      <td>0</td>\n",
       "      <td>0</td>\n",
       "      <td>0</td>\n",
       "      <td>0</td>\n",
       "      <td>0</td>\n",
       "      <td>0</td>\n",
       "      <td>0</td>\n",
       "      <td>0</td>\n",
       "      <td>0</td>\n",
       "      <td>0</td>\n",
       "      <td>0</td>\n",
       "      <td>0</td>\n",
       "      <td>0</td>\n",
       "      <td>0</td>\n",
       "      <td>0</td>\n",
       "      <td>0</td>\n",
       "      <td>0</td>\n",
       "      <td>0</td>\n",
       "      <td>0</td>\n",
       "      <td>0</td>\n",
       "      <td>0</td>\n",
       "      <td>0</td>\n",
       "      <td>0</td>\n",
       "      <td>0</td>\n",
       "      <td>0</td>\n",
       "      <td>0</td>\n",
       "      <td>0</td>\n",
       "      <td>0</td>\n",
       "      <td>0</td>\n",
       "      <td>0</td>\n",
       "      <td>0</td>\n",
       "      <td>0</td>\n",
       "      <td>0</td>\n",
       "      <td>0</td>\n",
       "      <td>0</td>\n",
       "      <td>0</td>\n",
       "      <td>0</td>\n",
       "      <td>0</td>\n",
       "      <td>0</td>\n",
       "      <td>0</td>\n",
       "      <td>0</td>\n",
       "      <td>0</td>\n",
       "      <td>0</td>\n",
       "      <td>0</td>\n",
       "      <td>0</td>\n",
       "      <td>0</td>\n",
       "      <td>0</td>\n",
       "      <td>0</td>\n",
       "      <td>0</td>\n",
       "      <td>0</td>\n",
       "      <td>0</td>\n",
       "      <td>0</td>\n",
       "      <td>0</td>\n",
       "      <td>0</td>\n",
       "      <td>0</td>\n",
       "      <td>0</td>\n",
       "      <td>0</td>\n",
       "      <td>0</td>\n",
       "      <td>0</td>\n",
       "      <td>0</td>\n",
       "      <td>0</td>\n",
       "      <td>0</td>\n",
       "      <td>0</td>\n",
       "      <td>0</td>\n",
       "      <td>0</td>\n",
       "      <td>0</td>\n",
       "      <td>0</td>\n",
       "      <td>0</td>\n",
       "      <td>0</td>\n",
       "      <td>0</td>\n",
       "      <td>0</td>\n",
       "      <td>0</td>\n",
       "      <td>1</td>\n",
       "      <td>0</td>\n",
       "      <td>0</td>\n",
       "      <td>0</td>\n",
       "      <td>0</td>\n",
       "      <td>0</td>\n",
       "      <td>0</td>\n",
       "      <td>0</td>\n",
       "      <td>0</td>\n",
       "      <td>0</td>\n",
       "      <td>0</td>\n",
       "      <td>0</td>\n",
       "      <td>0</td>\n",
       "      <td>0</td>\n",
       "      <td>0</td>\n",
       "      <td>0</td>\n",
       "      <td>0</td>\n",
       "      <td>0</td>\n",
       "      <td>0</td>\n",
       "      <td>0</td>\n",
       "      <td>0</td>\n",
       "      <td>0</td>\n",
       "      <td>0</td>\n",
       "      <td>0</td>\n",
       "      <td>0</td>\n",
       "      <td>0</td>\n",
       "      <td>0</td>\n",
       "      <td>0</td>\n",
       "      <td>0</td>\n",
       "      <td>0</td>\n",
       "      <td>0</td>\n",
       "      <td>0</td>\n",
       "      <td>0</td>\n",
       "      <td>0</td>\n",
       "      <td>0</td>\n",
       "      <td>0</td>\n",
       "      <td>0</td>\n",
       "      <td>0</td>\n",
       "      <td>0</td>\n",
       "      <td>0</td>\n",
       "      <td>0</td>\n",
       "      <td>0</td>\n",
       "      <td>0</td>\n",
       "      <td>0</td>\n",
       "      <td>0</td>\n",
       "      <td>0</td>\n",
       "      <td>0</td>\n",
       "      <td>0</td>\n",
       "      <td>0</td>\n",
       "      <td>0</td>\n",
       "      <td>0</td>\n",
       "      <td>0</td>\n",
       "      <td>0</td>\n",
       "      <td>0</td>\n",
       "      <td>0</td>\n",
       "      <td>0</td>\n",
       "      <td>0</td>\n",
       "      <td>0</td>\n",
       "      <td>0</td>\n",
       "      <td>0</td>\n",
       "      <td>0</td>\n",
       "      <td>0</td>\n",
       "      <td>0</td>\n",
       "      <td>0</td>\n",
       "      <td>0</td>\n",
       "      <td>0</td>\n",
       "      <td>0</td>\n",
       "      <td>0</td>\n",
       "      <td>0</td>\n",
       "      <td>0</td>\n",
       "      <td>0</td>\n",
       "      <td>1</td>\n",
       "      <td>0</td>\n",
       "      <td>0</td>\n",
       "      <td>0</td>\n",
       "      <td>0</td>\n",
       "      <td>0</td>\n",
       "      <td>0</td>\n",
       "      <td>0</td>\n",
       "      <td>0</td>\n",
       "      <td>0</td>\n",
       "      <td>0</td>\n",
       "      <td>0</td>\n",
       "      <td>0</td>\n",
       "      <td>0</td>\n",
       "      <td>0</td>\n",
       "      <td>0</td>\n",
       "      <td>0</td>\n",
       "      <td>0</td>\n",
       "      <td>0</td>\n",
       "      <td>0</td>\n",
       "      <td>0</td>\n",
       "      <td>0</td>\n",
       "      <td>0</td>\n",
       "      <td>0</td>\n",
       "      <td>0</td>\n",
       "      <td>0</td>\n",
       "      <td>1</td>\n",
       "      <td>0</td>\n",
       "      <td>0</td>\n",
       "      <td>0</td>\n",
       "      <td>0</td>\n",
       "      <td>0</td>\n",
       "      <td>0</td>\n",
       "      <td>0</td>\n",
       "      <td>0</td>\n",
       "      <td>0</td>\n",
       "      <td>0</td>\n",
       "      <td>0</td>\n",
       "      <td>0</td>\n",
       "      <td>1</td>\n",
       "      <td>0</td>\n",
       "      <td>0</td>\n",
       "      <td>0</td>\n",
       "      <td>0</td>\n",
       "      <td>0</td>\n",
       "      <td>0</td>\n",
       "      <td>06</td>\n",
       "      <td>2.0</td>\n",
       "      <td>2014.0</td>\n",
       "      <td>20</td>\n",
       "      <td>5.0</td>\n",
       "      <td>2014.0</td>\n",
       "      <td>6</td>\n",
       "      <td>6</td>\n",
       "      <td>3.0</td>\n",
       "      <td>3.0</td>\n",
       "      <td>0</td>\n",
       "      <td>0</td>\n",
       "      <td>0</td>\n",
       "      <td>0</td>\n",
       "      <td>1</td>\n",
       "      <td>1</td>\n",
       "    </tr>\n",
       "    <tr>\n",
       "      <th>2399</th>\n",
       "      <td>2.0</td>\n",
       "      <td>True</td>\n",
       "      <td>4</td>\n",
       "      <td>1</td>\n",
       "      <td>0</td>\n",
       "      <td>0</td>\n",
       "      <td>0</td>\n",
       "      <td>0</td>\n",
       "      <td>0</td>\n",
       "      <td>0</td>\n",
       "      <td>0</td>\n",
       "      <td>0</td>\n",
       "      <td>0</td>\n",
       "      <td>0</td>\n",
       "      <td>0</td>\n",
       "      <td>0</td>\n",
       "      <td>0</td>\n",
       "      <td>0</td>\n",
       "      <td>0</td>\n",
       "      <td>0</td>\n",
       "      <td>0</td>\n",
       "      <td>0</td>\n",
       "      <td>0</td>\n",
       "      <td>0</td>\n",
       "      <td>0</td>\n",
       "      <td>0</td>\n",
       "      <td>0</td>\n",
       "      <td>0</td>\n",
       "      <td>0</td>\n",
       "      <td>0</td>\n",
       "      <td>0</td>\n",
       "      <td>0</td>\n",
       "      <td>0</td>\n",
       "      <td>0</td>\n",
       "      <td>0</td>\n",
       "      <td>0</td>\n",
       "      <td>0</td>\n",
       "      <td>0</td>\n",
       "      <td>0</td>\n",
       "      <td>0</td>\n",
       "      <td>0</td>\n",
       "      <td>0</td>\n",
       "      <td>0</td>\n",
       "      <td>0</td>\n",
       "      <td>0</td>\n",
       "      <td>0</td>\n",
       "      <td>0</td>\n",
       "      <td>0</td>\n",
       "      <td>0</td>\n",
       "      <td>0</td>\n",
       "      <td>0</td>\n",
       "      <td>0</td>\n",
       "      <td>0</td>\n",
       "      <td>0</td>\n",
       "      <td>0</td>\n",
       "      <td>0</td>\n",
       "      <td>0</td>\n",
       "      <td>0</td>\n",
       "      <td>0</td>\n",
       "      <td>0</td>\n",
       "      <td>0</td>\n",
       "      <td>0</td>\n",
       "      <td>0</td>\n",
       "      <td>0</td>\n",
       "      <td>0</td>\n",
       "      <td>0</td>\n",
       "      <td>0</td>\n",
       "      <td>0</td>\n",
       "      <td>0</td>\n",
       "      <td>0</td>\n",
       "      <td>0</td>\n",
       "      <td>0</td>\n",
       "      <td>0</td>\n",
       "      <td>0</td>\n",
       "      <td>0</td>\n",
       "      <td>0</td>\n",
       "      <td>0</td>\n",
       "      <td>0</td>\n",
       "      <td>0</td>\n",
       "      <td>0</td>\n",
       "      <td>0</td>\n",
       "      <td>0</td>\n",
       "      <td>0</td>\n",
       "      <td>0</td>\n",
       "      <td>0</td>\n",
       "      <td>0</td>\n",
       "      <td>0</td>\n",
       "      <td>0</td>\n",
       "      <td>0</td>\n",
       "      <td>0</td>\n",
       "      <td>0</td>\n",
       "      <td>0</td>\n",
       "      <td>0</td>\n",
       "      <td>0</td>\n",
       "      <td>0</td>\n",
       "      <td>0</td>\n",
       "      <td>1</td>\n",
       "      <td>0</td>\n",
       "      <td>0</td>\n",
       "      <td>0</td>\n",
       "      <td>0</td>\n",
       "      <td>0</td>\n",
       "      <td>0</td>\n",
       "      <td>0</td>\n",
       "      <td>0</td>\n",
       "      <td>0</td>\n",
       "      <td>0</td>\n",
       "      <td>0</td>\n",
       "      <td>0</td>\n",
       "      <td>0</td>\n",
       "      <td>0</td>\n",
       "      <td>0</td>\n",
       "      <td>0</td>\n",
       "      <td>0</td>\n",
       "      <td>0</td>\n",
       "      <td>0</td>\n",
       "      <td>0</td>\n",
       "      <td>0</td>\n",
       "      <td>0</td>\n",
       "      <td>0</td>\n",
       "      <td>0</td>\n",
       "      <td>0</td>\n",
       "      <td>0</td>\n",
       "      <td>0</td>\n",
       "      <td>0</td>\n",
       "      <td>0</td>\n",
       "      <td>1</td>\n",
       "      <td>0</td>\n",
       "      <td>0</td>\n",
       "      <td>0</td>\n",
       "      <td>0</td>\n",
       "      <td>0</td>\n",
       "      <td>0</td>\n",
       "      <td>0</td>\n",
       "      <td>0</td>\n",
       "      <td>0</td>\n",
       "      <td>0</td>\n",
       "      <td>0</td>\n",
       "      <td>0</td>\n",
       "      <td>0</td>\n",
       "      <td>0</td>\n",
       "      <td>0</td>\n",
       "      <td>0</td>\n",
       "      <td>0</td>\n",
       "      <td>0</td>\n",
       "      <td>0</td>\n",
       "      <td>0</td>\n",
       "      <td>0</td>\n",
       "      <td>0</td>\n",
       "      <td>0</td>\n",
       "      <td>0</td>\n",
       "      <td>0</td>\n",
       "      <td>0</td>\n",
       "      <td>0</td>\n",
       "      <td>0</td>\n",
       "      <td>0</td>\n",
       "      <td>0</td>\n",
       "      <td>0</td>\n",
       "      <td>0</td>\n",
       "      <td>0</td>\n",
       "      <td>0</td>\n",
       "      <td>0</td>\n",
       "      <td>0</td>\n",
       "      <td>0</td>\n",
       "      <td>0</td>\n",
       "      <td>0</td>\n",
       "      <td>0</td>\n",
       "      <td>0</td>\n",
       "      <td>0</td>\n",
       "      <td>0</td>\n",
       "      <td>0</td>\n",
       "      <td>0</td>\n",
       "      <td>0</td>\n",
       "      <td>0</td>\n",
       "      <td>0</td>\n",
       "      <td>0</td>\n",
       "      <td>0</td>\n",
       "      <td>0</td>\n",
       "      <td>0</td>\n",
       "      <td>0</td>\n",
       "      <td>0</td>\n",
       "      <td>0</td>\n",
       "      <td>0</td>\n",
       "      <td>0</td>\n",
       "      <td>0</td>\n",
       "      <td>0</td>\n",
       "      <td>0</td>\n",
       "      <td>0</td>\n",
       "      <td>0</td>\n",
       "      <td>0</td>\n",
       "      <td>0</td>\n",
       "      <td>0</td>\n",
       "      <td>0</td>\n",
       "      <td>0</td>\n",
       "      <td>0</td>\n",
       "      <td>0</td>\n",
       "      <td>0</td>\n",
       "      <td>0</td>\n",
       "      <td>0</td>\n",
       "      <td>0</td>\n",
       "      <td>0</td>\n",
       "      <td>0</td>\n",
       "      <td>0</td>\n",
       "      <td>0</td>\n",
       "      <td>0</td>\n",
       "      <td>0</td>\n",
       "      <td>0</td>\n",
       "      <td>0</td>\n",
       "      <td>0</td>\n",
       "      <td>0</td>\n",
       "      <td>0</td>\n",
       "      <td>0</td>\n",
       "      <td>0</td>\n",
       "      <td>0</td>\n",
       "      <td>0</td>\n",
       "      <td>0</td>\n",
       "      <td>0</td>\n",
       "      <td>0</td>\n",
       "      <td>0</td>\n",
       "      <td>0</td>\n",
       "      <td>0</td>\n",
       "      <td>0</td>\n",
       "      <td>0</td>\n",
       "      <td>1</td>\n",
       "      <td>0</td>\n",
       "      <td>0</td>\n",
       "      <td>1</td>\n",
       "      <td>0</td>\n",
       "      <td>0</td>\n",
       "      <td>0</td>\n",
       "      <td>0</td>\n",
       "      <td>0</td>\n",
       "      <td>0</td>\n",
       "      <td>0</td>\n",
       "      <td>0</td>\n",
       "      <td>0</td>\n",
       "      <td>1</td>\n",
       "      <td>0</td>\n",
       "      <td>0</td>\n",
       "      <td>0</td>\n",
       "      <td>0</td>\n",
       "      <td>0</td>\n",
       "      <td>0</td>\n",
       "      <td>20</td>\n",
       "      <td>9.0</td>\n",
       "      <td>2002.0</td>\n",
       "      <td>01</td>\n",
       "      <td>8.0</td>\n",
       "      <td>2003.0</td>\n",
       "      <td>4</td>\n",
       "      <td>4</td>\n",
       "      <td>2.0</td>\n",
       "      <td>2.0</td>\n",
       "      <td>0</td>\n",
       "      <td>0</td>\n",
       "      <td>0</td>\n",
       "      <td>0</td>\n",
       "      <td>1</td>\n",
       "      <td>1</td>\n",
       "    </tr>\n",
       "  </tbody>\n",
       "</table>\n",
       "<p>2400 rows × 259 columns</p>\n",
       "</div>"
      ],
      "text/plain": [
       "      writer_count  title_adaption  censor_rating  ratings_tomatoes  special_award  awards_nomination  country_Afghanistan  country_Albania  country_Algeria  country_Argentina  country_Australia  country_Austria  country_Bahamas  country_Belarus  country_Belgium  country_Bolivia  country_BosniaandHerzegovina  country_Brazil  country_Bulgaria  country_Cambodia  country_Cameroon  country_Canada  country_CaymanIslands  country_Chad  country_Chile  country_China  country_Colombia  country_Croatia  country_CzechRepublic  country_Denmark  country_DominicanRepublic  country_Ecuador  country_Egypt  country_Ethiopia  country_Finland  country_France  country_Georgia  country_Germany  country_Ghana  country_Greece  country_Greenland  country_HongKong  country_Hungary  country_Iceland  country_India  country_Indonesia  country_Iran  country_Ireland  country_IsleOfMan  country_Israel  country_Italy  country_Japan  country_Jordan  country_Kenya  country_Latvia  country_Lebanon  country_Lithuania  \\\n",
       "0              3.0            True              3                 5              0                  0                    0                0                0                  0                  0                0                0                0                0                0                             0               0                 0                 0                 0               0                      0             0              0              0                 0                0                      0                0                          0                0              0                 0                0               0                0                0              0               0                  0                 0                0                0              0                  0             0                0                  0               0              0              0               0              0               0                0                  0   \n",
       "1              2.0            True              0                 5              0                  4                    0                0                0                  0                  0                0                0                0                0                0                             0               0                 0                 0                 0               0                      0             0              0              0                 0                0                      0                0                          0                0              0                 0                0               0                0                0              0               0                  0                 0                0                0              1                  0             0                0                  0               0              0              0               0              0               0                0                  0   \n",
       "2              4.0           False              6                 5              0                  0                    0                0                0                  0                  0                0                0                0                0                0                             0               0                 0                 0                 0               0                      0             0              0              0                 0                0                      0                0                          0                0              0                 0                0               0                0                0              0               0                  0                 0                0                0              0                  0             0                0                  0               0              0              0               0              0               0                0                  0   \n",
       "3              1.0           False              6                 3              0                  1                    0                0                0                  0                  0                0                0                0                0                0                             0               0                 0                 0                 0               0                      0             0              0              0                 0                0                      0                0                          0                0              0                 0                0               0                0                0              0               0                  0                 0                0                0              0                  0             0                0                  0               0              0              0               0              0               0                0                  0   \n",
       "4              1.0           False              5                 2              0                  0                    0                0                0                  0                  0                0                0                0                0                0                             0               0                 0                 0                 0               0                      0             0              0              0                 0                0                      0                0                          0                0              0                 0                0               0                0                0              0               0                  0                 0                0                0              0                  0             0                0                  0               0              0              0               0              0               0                0                  0   \n",
       "...            ...             ...            ...               ...            ...                ...                  ...              ...              ...                ...                ...              ...              ...              ...              ...              ...                           ...             ...               ...               ...               ...             ...                    ...           ...            ...            ...               ...              ...                    ...              ...                        ...              ...            ...               ...              ...             ...              ...              ...            ...             ...                ...               ...              ...              ...            ...                ...           ...              ...                ...             ...            ...            ...             ...            ...             ...              ...                ...   \n",
       "2395           1.0           False              6                 5              0                  0                    0                0                0                  0                  0                0                0                0                0                0                             0               0                 0                 0                 0               0                      0             0              0              0                 0                0                      0                0                          0                0              0                 0                0               0                0                0              0               0                  0                 0                0                0              0                  0             0                0                  0               0              0              0               0              0               0                0                  0   \n",
       "2396           3.0            True              5                 3              0                  0                    0                0                0                  0                  0                0                0                0                0                0                             0               0                 0                 0                 0               0                      0             0              0              0                 0                0                      0                0                          0                0              0                 0                0               0                0                0              0               0                  0                 0                0                0              0                  0             0                0                  0               0              0              0               0              0               0                0                  0   \n",
       "2397           1.0           False              6                 4              0                  0                    0                0                0                  0                  0                0                0                0                0                0                             0               0                 0                 0                 0               0                      0             0              0              0                 0                0                      0                0                          0                0              0                 0                0               0                0                0              0               0                  0                 0                0                0              0                  0             0                0                  0               0              0              0               0              0               0                0                  0   \n",
       "2398           3.0            True              6                 1              0                  0                    0                0                0                  0                  0                0                0                0                0                0                             0               0                 0                 0                 0               1                      0             0              0              0                 0                0                      0                0                          0                0              0                 0                0               0                0                0              0               0                  0                 0                0                0              0                  0             0                0                  0               0              0              0               0              0               0                0                  0   \n",
       "2399           2.0            True              4                 1              0                  0                    0                0                0                  0                  0                0                0                0                0                0                             0               0                 0                 0                 0               0                      0             0              0              0                 0                0                      0                0                          0                0              0                 0                0               0                0                0              0               0                  0                 0                0                0              0                  0             0                0                  0               0              0              0               0              0               0                0                  0   \n",
       "\n",
       "      country_Luxembourg  country_Malaysia  country_Malta  country_Mauritania  country_Mexico  country_Monaco  country_Mongolia  country_Morocco  country_Namibia  country_Netherlands  country_NewZealand  country_Nigeria  country_Norway  country_Paraguay  country_Peru  country_Philippines  country_Poland  country_Portugal  country_Qatar  country_Romania  country_Russia  country_SaudiArabia  country_Serbia  country_Singapore  country_Slovakia  country_Slovenia  country_SouthAfrica  country_SouthKorea  country_SovietUnion  country_Spain  country_Sweden  country_Switzerland  country_Taiwan  country_Tanzania  country_Thailand  country_TrinidadandTobago  country_Tunisia  country_Turkey  country_UK  country_USA  country_Uganda  country_Ukraine  country_UnitedArabEmirates  country_Uruguay  language_Aboriginal  language_Acholi  language_Afrikaans  language_Albanian  language_Algonquin  language_AmericanSignLanguage  language_Arabic  language_Aramaic  language_Armenian  language_Awadhi  \\\n",
       "0                      0                 0              0                   0               0               0                 0                0                0                    0                   0                0               0                 0             0                    0               0                 0              0                0               0                    0               0                  0                 0                 0                    0                   0                    0              0               0                    0               0                 0                 0                          0                0               0           0            1               0                0                           0                0                    0                0                   0                  0                   0                              0                0                 0                  0                0   \n",
       "1                      0                 0              0                   0               0               0                 0                0                0                    0                   0                0               0                 0             0                    0               0                 0              0                0               0                    0               0                  0                 0                 0                    0                   0                    0              0               0                    0               0                 0                 0                          0                0               0           0            0               0                0                           0                0                    0                0                   0                  0                   0                              0                0                 0                  0                0   \n",
       "2                      0                 0              0                   0               0               0                 0                0                0                    0                   0                0               0                 0             0                    0               0                 0              0                0               0                    0               0                  0                 0                 0                    0                   1                    0              0               0                    0               0                 0                 0                          0                0               0           0            0               0                0                           0                0                    0                0                   0                  0                   0                              0                0                 0                  0                0   \n",
       "3                      0                 0              0                   0               0               0                 0                0                0                    0                   0                0               0                 0             0                    0               0                 0              0                0               0                    0               0                  0                 0                 0                    0                   0                    0              0               0                    0               0                 0                 0                          0                0               0           0            1               0                0                           0                0                    0                0                   0                  0                   0                              0                0                 0                  0                0   \n",
       "4                      0                 0              0                   0               0               0                 0                0                0                    0                   0                0               0                 0             0                    0               0                 0              0                0               0                    0               0                  0                 0                 0                    0                   0                    0              0               0                    0               0                 0                 0                          0                0               0           0            1               0                0                           0                0                    0                0                   0                  0                   0                              0                0                 0                  0                0   \n",
       "...                  ...               ...            ...                 ...             ...             ...               ...              ...              ...                  ...                 ...              ...             ...               ...           ...                  ...             ...               ...            ...              ...             ...                  ...             ...                ...               ...               ...                  ...                 ...                  ...            ...             ...                  ...             ...               ...               ...                        ...              ...             ...         ...          ...             ...              ...                         ...              ...                  ...              ...                 ...                ...                 ...                            ...              ...               ...                ...              ...   \n",
       "2395                   0                 0              0                   0               0               0                 0                0                0                    0                   0                0               0                 0             0                    0               0                 0              0                0               0                    0               0                  0                 0                 0                    0                   0                    0              0               0                    0               0                 0                 0                          0                0               0           0            1               0                0                           0                0                    0                0                   0                  0                   0                              0                0                 0                  0                0   \n",
       "2396                   0                 0              0                   0               0               0                 0                0                0                    0                   0                0               0                 0             0                    0               0                 0              0                0               0                    0               0                  0                 0                 0                    0                   0                    0              0               0                    0               0                 0                 0                          0                0               0           0            1               0                0                           0                0                    0                0                   0                  0                   0                              0                0                 0                  0                0   \n",
       "2397                   0                 0              0                   0               0               0                 0                0                0                    0                   0                0               0                 0             0                    0               0                 0              0                0               0                    0               0                  0                 0                 0                    0                   0                    0              0               0                    0               0                 0                 0                          0                0               0           0            1               0                0                           0                0                    0                0                   0                  0                   0                              0                0                 0                  0                0   \n",
       "2398                   0                 0              0                   0               0               0                 0                0                0                    0                   0                0               0                 0             0                    0               0                 0              0                0               0                    0               0                  0                 0                 0                    0                   0                    0              0               0                    0               0                 0                 0                          0                0               0           0            0               0                0                           0                0                    0                0                   0                  0                   0                              0                0                 0                  0                0   \n",
       "2399                   0                 0              0                   0               0               0                 0                0                0                    0                   0                0               0                 0             0                    0               0                 0              0                0               0                    0               0                  0                 0                 0                    0                   0                    0              0               0                    0               0                 0                 0                          0                0               0           0            1               0                0                           0                0                    0                0                   0                  0                   0                              0                0                 0                  0                0   \n",
       "\n",
       "      language_Balinese  language_Bambara  language_Bengali  language_Bhojpuri  language_Bulgarian  language_Burmese  language_Cantonese  language_Catalan  language_Chinese  language_Corsican  language_Croatian  language_Czech  language_Danish  language_Dari  language_Dutch  language_English  language_Esperanto  language_Estonian  language_Filipino  language_Finnish  language_Flemish  language_French  language_Georgian  language_German  language_Greek  language_Greenlandic  language_Gujarati  language_Hakka  language_Hawaiian  language_Hebrew  language_Hindi  language_Hmong  language_Hungarian  language_Ibo  language_Icelandic  language_Indonesian  language_Inuktitut  language_Irish  language_Italian  language_Japanese  language_Khmer  language_Kinyarwanda  language_Kirundi  language_Klingon  language_Korean  language_Lao  language_Latin  language_Lithuanian  language_Macedonian  language_Mandarin  language_Manipuri  language_Maori  language_Masai  language_Maya  language_MinNan  \\\n",
       "0                     0                 0                 0                  0                   0                 0                   0                 0                 0                  0                  0               0                0              0               0                 1                   0                  0                  0                 0                 0                0                  0                0               0                     0                  0               0                  0                0               0               0                   0             0                   0                    0                   0               0                 0                  0               0                     0                 0                 0                0             0               0                    0                    0                  0                  0               0               0              0                0   \n",
       "1                     0                 0                 0                  0                   0                 0                   0                 0                 0                  0                  0               0                0              0               0                 1                   0                  0                  0                 0                 0                1                  0                0               0                     0                  0               0                  0                0               1               0                   0             0                   0                    0                   0               0                 0                  0               0                     0                 0                 0                0             0               0                    0                    0                  0                  0               0               0              0                0   \n",
       "2                     0                 0                 0                  0                   0                 0                   0                 0                 0                  0                  0               0                0              0               0                 0                   0                  0                  0                 0                 0                0                  0                0               0                     0                  0               0                  0                0               0               0                   0             0                   0                    0                   0               0                 0                  0               0                     0                 0                 0                1             0               0                    0                    0                  0                  0               0               0              0                0   \n",
       "3                     0                 0                 0                  0                   0                 0                   0                 0                 0                  0                  0               0                0              0               0                 1                   0                  0                  0                 0                 0                0                  0                0               0                     0                  0               0                  0                0               0               0                   0             0                   0                    0                   0               0                 0                  0               0                     0                 0                 0                0             0               0                    0                    0                  0                  0               0               0              0                0   \n",
       "4                     0                 0                 0                  0                   0                 0                   0                 0                 0                  0                  0               0                0              0               0                 1                   0                  0                  0                 0                 0                0                  0                0               0                     0                  0               0                  0                0               0               0                   0             0                   0                    0                   0               0                 0                  0               0                     0                 0                 0                0             0               0                    0                    0                  0                  0               0               0              0                0   \n",
       "...                 ...               ...               ...                ...                 ...               ...                 ...               ...               ...                ...                ...             ...              ...            ...             ...               ...                 ...                ...                ...               ...               ...              ...                ...              ...             ...                   ...                ...             ...                ...              ...             ...             ...                 ...           ...                 ...                  ...                 ...             ...               ...                ...             ...                   ...               ...               ...              ...           ...             ...                  ...                  ...                ...                ...             ...             ...            ...              ...   \n",
       "2395                  0                 0                 0                  0                   0                 0                   0                 0                 0                  0                  0               0                0              0               0                 1                   0                  0                  0                 0                 0                0                  0                1               0                     0                  0               0                  0                0               0               0                   0             0                   0                    0                   0               0                 0                  0               0                     0                 0                 0                0             0               0                    0                    0                  0                  0               0               0              0                0   \n",
       "2396                  0                 0                 0                  0                   0                 0                   0                 0                 0                  0                  0               0                0              0               0                 1                   0                  0                  0                 0                 0                0                  0                0               0                     0                  0               0                  0                0               0               0                   0             0                   0                    0                   0               0                 1                  0               0                     0                 0                 0                0             0               0                    0                    0                  0                  0               0               0              0                0   \n",
       "2397                  0                 0                 0                  0                   0                 0                   0                 0                 0                  0                  0               0                0              0               0                 1                   0                  0                  0                 0                 0                0                  0                0               0                     0                  0               0                  0                0               0               0                   0             0                   0                    0                   0               0                 0                  0               0                     0                 0                 0                0             0               0                    0                    0                  0                  0               0               0              0                0   \n",
       "2398                  0                 0                 0                  0                   0                 0                   0                 0                 0                  0                  0               0                0              0               0                 1                   0                  0                  0                 0                 0                0                  0                0               0                     0                  0               0                  0                0               0               0                   0             0                   0                    0                   0               0                 0                  0               0                     0                 0                 0                0             0               0                    0                    0                  0                  0               0               0              0                0   \n",
       "2399                  0                 0                 0                  0                   0                 0                   0                 0                 0                  0                  0               0                0              0               0                 1                   0                  0                  0                 0                 0                0                  0                0               0                     0                  0               0                  0                0               0               0                   0             0                   0                    0                   0               0                 0                  0               0                     0                 0                 0                0             0               0                    0                    0                  0                  0               0               0              0                0   \n",
       "\n",
       "      language_Mohawk  language_Mongolian  language_Navajo  language_Neapolitan  language_None  language_NorthAmericanIndian  language_Norwegian  language_Persian  language_Polish  language_Polynesian  language_Portuguese  language_Punjabi  language_Pushto  language_Quechua  language_Rajasthani  language_Romanian  language_Romany  language_Russian  language_Sanskrit  language_Scots  language_ScottishGaelic  language_Serbian  language_Serbo-Croatian  language_Shanghainese  language_Shona  language_SignLanguages  language_Sindarin  language_Slovak  language_Somali  language_Songhay  language_SouthernSotho  language_Spanish  language_Swahili  language_Swedish  language_SwissGerman  language_Syriac  language_Tagalog  language_Tamashek  language_Tamil  language_Telugu  language_Thai  language_Tibetan  language_Tupi  language_Turkish  language_Ukrainian  language_Urdu  language_Vietnamese  language_Welsh  language_Wolof  language_Xhosa  language_Yiddish  language_Yoruba  language_Zulu  \\\n",
       "0                   0                   0                0                    0              0                             0                   0                 0                0                    0                    0                 0                0                 0                    0                  0                0                 0                  0               0                        0                 0                        0                      0               0                       0                  0                0                0                 0                       0                 0                 0                 0                     0                0                 0                  0               0                0              0                 0              0                 0                   0              0                    0               0               0               0                 0                0              0   \n",
       "1                   0                   0                0                    0              0                             0                   0                 0                0                    0                    0                 0                0                 0                    0                  0                0                 0                  0               0                        0                 0                        0                      0               0                       0                  0                0                0                 0                       0                 0                 0                 0                     0                0                 0                  0               0                0              0                 0              0                 0                   0              0                    0               0               0               0                 0                0              0   \n",
       "2                   0                   0                0                    0              0                             0                   0                 0                0                    0                    0                 0                0                 0                    0                  0                0                 0                  0               0                        0                 0                        0                      0               0                       0                  0                0                0                 0                       0                 0                 0                 0                     0                0                 0                  0               0                0              0                 0              0                 0                   0              0                    0               0               0               0                 0                0              0   \n",
       "3                   0                   0                0                    0              0                             0                   0                 0                0                    0                    0                 0                0                 0                    0                  0                0                 0                  0               0                        0                 0                        0                      0               0                       0                  0                0                0                 0                       0                 0                 0                 0                     0                0                 0                  0               0                0              0                 0              0                 0                   0              0                    0               0               0               0                 0                0              0   \n",
       "4                   0                   0                0                    0              0                             0                   0                 0                0                    0                    0                 0                0                 0                    0                  0                0                 0                  0               0                        0                 0                        0                      0               0                       0                  0                0                0                 0                       0                 0                 0                 0                     0                0                 0                  0               0                0              0                 0              0                 0                   0              0                    0               0               0               0                 0                0              0   \n",
       "...               ...                 ...              ...                  ...            ...                           ...                 ...               ...              ...                  ...                  ...               ...              ...               ...                  ...                ...              ...               ...                ...             ...                      ...               ...                      ...                    ...             ...                     ...                ...              ...              ...               ...                     ...               ...               ...               ...                   ...              ...               ...                ...             ...              ...            ...               ...            ...               ...                 ...            ...                  ...             ...             ...             ...               ...              ...            ...   \n",
       "2395                0                   0                0                    0              0                             0                   0                 0                0                    0                    0                 0                0                 0                    0                  0                0                 0                  0               0                        0                 0                        0                      0               0                       0                  0                0                0                 0                       0                 0                 0                 0                     0                0                 0                  0               0                0              0                 0              0                 0                   0              0                    0               0               0               0                 0                0              0   \n",
       "2396                0                   0                0                    0              0                             0                   0                 0                0                    0                    1                 0                0                 0                    0                  0                0                 0                  0               0                        0                 0                        0                      0               0                       0                  0                0                0                 0                       0                 0                 0                 0                     0                0                 0                  0               0                0              0                 0              0                 0                   0              0                    0               0               0               0                 0                0              0   \n",
       "2397                0                   0                0                    0              0                             0                   0                 0                0                    0                    0                 0                0                 0                    0                  0                0                 0                  0               0                        0                 0                        0                      0               0                       0                  0                0                0                 0                       0                 0                 0                 0                     0                0                 0                  0               0                0              0                 0              0                 0                   0              0                    0               0               0               0                 0                0              0   \n",
       "2398                0                   0                0                    0              0                             0                   0                 0                0                    0                    0                 0                0                 0                    0                  0                0                 0                  0               0                        0                 0                        0                      0               0                       0                  0                0                0                 0                       0                 1                 0                 0                     0                0                 0                  0               0                0              0                 0              0                 0                   0              0                    0               0               0               0                 0                0              0   \n",
       "2399                0                   0                0                    0              0                             0                   0                 0                0                    0                    0                 0                0                 0                    0                  0                0                 0                  0               0                        0                 0                        0                      0               0                       0                  0                0                0                 0                       0                 0                 0                 0                     0                0                 0                  0               0                0              0                 0              0                 0                   0              0                    0               0               0               0                 0                0              0   \n",
       "\n",
       "      genres_Action  genres_Adventure  genres_Animation  genres_Biography  genres_Comedy  genres_Crime  genres_Documentary  genres_Drama  genres_Family  genres_Fantasy  genres_Film-Noir  genres_History  genres_Horror  genres_Music  genres_Musical  genres_Mystery  genres_News  genres_Romance  genres_Sci-Fi  genres_Short  genres_Sport  genres_Thriller  genres_War  genres_Western release_day  release_month  release_year dvd_release_day  dvd_release_month  dvd_release_year  censor_rating_2  censor_rating_3  writer_count_2  writer_count_3  awards_nomination_2  awards_nomination_3  special_award_2  special_award_3  ratings_tomatoes_2  ratings_tomatoes_3  \n",
       "0                 0                 0                 1                 0              1             0                   0             0              1               1                 0               0              0             0               1               1            0               0              0             0             0                0           0               0          11            2.0        2005.0              24                5.0            2005.0                3                3             3.0             3.0                    0                    0                0                0                   5                   5  \n",
       "1                 0                 0                 0                 0              1             0                   0             1              0               0                 0               0              0             0               1               0            0               1              0             0             0                0           0               0          31            5.0        2013.0              15                7.0            2013.0                0                0             2.0             2.0                    4                    4                0                0                   5                   5  \n",
       "2                 1                 0                 0                 0              0             0                   0             1              0               0                 0               0              0             0               0               0            0               0              0             0             0                0           1               0          24            9.0        2004.0              15                2.0            2005.0                6                6             4.0             4.0                    0                    0                0                0                   5                   5  \n",
       "3                 1                 1                 0                 0              0             0                   0             1              0               0                 0               0              0             0               0               0            0               0              0             0             0                1           0               0          15            1.0        2010.0              15                6.0            2010.0                6                6             1.0             1.0                    1                    1                0                0                   3                   3  \n",
       "4                 0                 0                 0                 0              1             0                   0             0              0               0                 0               0              0             0               0               0            0               1              0             0             0                0           0               0          26            4.0        2007.0              05                2.0            2008.0                5                5             1.0             1.0                    0                    0                0                0                   2                   2  \n",
       "...             ...               ...               ...               ...            ...           ...                 ...           ...            ...             ...               ...             ...            ...           ...             ...             ...          ...             ...            ...           ...           ...              ...         ...             ...         ...            ...           ...             ...                ...               ...              ...              ...             ...             ...                  ...                  ...              ...              ...                 ...                 ...  \n",
       "2395              0                 0                 0                 0              0             1                   0             1              0               0                 0               0              0             0               0               0            0               0              0             0             0                1           0               0          14           11.0        2003.0              04                5.0            2004.0                6                6             1.0             1.0                    0                    0                0                0                   5                   5  \n",
       "2396              0                 0                 0                 0              0             0                   0             1              0               0                 0               0              0             0               0               0            0               1              0             0             0                0           0               0          13            8.0        2010.0              23               11.0            2010.0                5                5             3.0             3.0                    0                    0                0                0                   3                   3  \n",
       "2397              0                 1                 0                 0              1             0                   0             1              0               0                 0               0              0             0               0               0            0               1              1             0             0                0           0               0          22            6.0        2012.0              23               10.0            2012.0                6                6             1.0             1.0                    0                    0                0                0                   4                   4  \n",
       "2398              0                 0                 0                 0              1             0                   0             0              0               0                 0               0              0             0               0               0            0               1              0             0             0                0           0               0          06            2.0        2014.0              20                5.0            2014.0                6                6             3.0             3.0                    0                    0                0                0                   1                   1  \n",
       "2399              0                 0                 0                 0              1             0                   0             1              0               0                 0               0              0             0               0               0            0               1              0             0             0                0           0               0          20            9.0        2002.0              01                8.0            2003.0                4                4             2.0             2.0                    0                    0                0                0                   1                   1  \n",
       "\n",
       "[2400 rows x 259 columns]"
      ]
     },
     "execution_count": 61,
     "metadata": {
      "tags": []
     },
     "output_type": "execute_result"
    }
   ],
   "source": [
    "train_df.iloc[:,0:259]"
   ]
  },
  {
   "cell_type": "code",
   "execution_count": null,
   "metadata": {
    "colab": {},
    "colab_type": "code",
    "id": "CvagZCfstNrm"
   },
   "outputs": [],
   "source": [
    "for col in train_df.columns:\n",
    "  train_df[col] = pd.to_numeric(train_df[col], errors='coerce')\n",
    "  train_df[col].fillna(value=0, inplace=True)"
   ]
  },
  {
   "cell_type": "code",
   "execution_count": null,
   "metadata": {
    "colab": {},
    "colab_type": "code",
    "id": "ABNuVK7Euipd"
   },
   "outputs": [],
   "source": [
    "def clean_dataset(df):\n",
    "    assert isinstance(df, pd.DataFrame), \"df needs to be a pd.DataFrame\"\n",
    "    df.dropna(inplace=True)\n",
    "    indices_to_keep = ~df.isin([np.nan, np.inf, -np.inf]).any(1)\n",
    "    return df[indices_to_keep].astype(np.float64)"
   ]
  },
  {
   "cell_type": "code",
   "execution_count": null,
   "metadata": {
    "colab": {},
    "colab_type": "code",
    "id": "JPpGAj7nuivc"
   },
   "outputs": [],
   "source": [
    "train_df = clean_dataset(train_df)"
   ]
  },
  {
   "cell_type": "code",
   "execution_count": null,
   "metadata": {
    "colab": {},
    "colab_type": "code",
    "id": "ZZmtpfIZdEYC"
   },
   "outputs": [],
   "source": [
    "X_train, X_test, y_train, y_test = train_test_split(train_df.iloc[:,0:259], train_df['predict_rev_cat'], test_size=0.4, random_state=4)#, stratify = train_df2)"
   ]
  },
  {
   "cell_type": "code",
   "execution_count": 66,
   "metadata": {
    "colab": {
     "base_uri": "https://localhost:8080/",
     "height": 34
    },
    "colab_type": "code",
    "executionInfo": {
     "elapsed": 2142,
     "status": "ok",
     "timestamp": 1591818709929,
     "user": {
      "displayName": "Eser İnan Arslan",
      "photoUrl": "https://lh3.googleusercontent.com/a-/AOh14Ggz536p806W0W9-wxWFfPdVV303PuNNPAhu9S1UjA=s64",
      "userId": "01966049699378036829"
     },
     "user_tz": -180
    },
    "id": "YmprLSaQdp64",
    "outputId": "e157fe4b-3948-4054-83c6-642c9862a1aa"
   },
   "outputs": [
    {
     "data": {
      "text/plain": [
       "((1440, 259), (960, 259), (1440,), (960,))"
      ]
     },
     "execution_count": 66,
     "metadata": {
      "tags": []
     },
     "output_type": "execute_result"
    }
   ],
   "source": [
    "X_train.shape, X_test.shape, y_train.shape, y_test.shape"
   ]
  },
  {
   "cell_type": "code",
   "execution_count": null,
   "metadata": {
    "colab": {},
    "colab_type": "code",
    "id": "9gDKrYUzK4oL"
   },
   "outputs": [],
   "source": []
  },
  {
   "cell_type": "markdown",
   "metadata": {
    "colab_type": "text",
    "id": "6IRbdO7pK5E6"
   },
   "source": [
    "Although I restarted the kernel as the steps progressed, the machine gradually slowed down.# ***Models***\n",
    "4 Differenet regression models weere created:\n",
    "\n",
    "- KNeighborsRegressor\n",
    "\n",
    "- DecisionTreeRegressor\n",
    "\n",
    "- RandomForestRegressor\n",
    "\n",
    "- GradientBoostingRegressor"
   ]
  },
  {
   "cell_type": "code",
   "execution_count": null,
   "metadata": {
    "colab": {},
    "colab_type": "code",
    "id": "kjyH7SkoK50f"
   },
   "outputs": [],
   "source": []
  },
  {
   "cell_type": "markdown",
   "metadata": {
    "colab_type": "text",
    "id": "BTZqq9mKLCq5"
   },
   "source": [
    "**KNeighborsRegressor**"
   ]
  },
  {
   "cell_type": "code",
   "execution_count": 67,
   "metadata": {
    "colab": {
     "base_uri": "https://localhost:8080/",
     "height": 54
    },
    "colab_type": "code",
    "executionInfo": {
     "elapsed": 4615,
     "status": "ok",
     "timestamp": 1591818723130,
     "user": {
      "displayName": "Eser İnan Arslan",
      "photoUrl": "https://lh3.googleusercontent.com/a-/AOh14Ggz536p806W0W9-wxWFfPdVV303PuNNPAhu9S1UjA=s64",
      "userId": "01966049699378036829"
     },
     "user_tz": -180
    },
    "id": "lc_VE5P6kfin",
    "outputId": "48d76811-f5d8-4af0-de21-7b5b6ef18dec"
   },
   "outputs": [
    {
     "data": {
      "text/plain": [
       "\"\\nparam_grid = {\\n    'algorithm': ['auto', 'ball_tree', 'kd_tree', 'brute'],\\n    'leaf_size': [1, 2, 3, 4, 5, 7, 10, 20, 50, 100],\\n    'weights' : ['uniform', 'distance'],\\n    'metric' : ['euclidean', 'manhattan', 'chebyshev', 'minkowski'],\\n    'n_neighbors' : [5, 15, 20, 22, 24, 25, 26, 28, 30, 33, 40, 50]\\n}\\n\""
      ]
     },
     "execution_count": 67,
     "metadata": {
      "tags": []
     },
     "output_type": "execute_result"
    }
   ],
   "source": [
    "#GridSearch to determine best parameters\n",
    "\"\"\"\n",
    "param_grid = {\n",
    "    'algorithm': ['auto', 'ball_tree', 'kd_tree', 'brute'],\n",
    "    'leaf_size': [1, 2, 3, 4, 5, 7, 10, 20, 50, 100],\n",
    "    'weights' : ['uniform', 'distance'],\n",
    "    'metric' : ['euclidean', 'manhattan', 'chebyshev', 'minkowski'],\n",
    "    'n_neighbors' : [5, 15, 20, 22, 24, 25, 26, 28, 30, 33, 40, 50]\n",
    "}\n",
    "\"\"\""
   ]
  },
  {
   "cell_type": "code",
   "execution_count": null,
   "metadata": {
    "colab": {},
    "colab_type": "code",
    "id": "eWt_Sctvlrs3"
   },
   "outputs": [],
   "source": [
    "#GridSearch to determine best parameters\n",
    "param_grid = {\n",
    "    'algorithm': ['auto', 'ball_tree'],\n",
    "    'leaf_size': [30, 50, 75],\n",
    "    'weights' : ['uniform', 'distance'],\n",
    "    'metric' : ['euclidean', 'manhattan'],\n",
    "    'n_neighbors' : [25, 30, 35]\n",
    "}"
   ]
  },
  {
   "cell_type": "code",
   "execution_count": null,
   "metadata": {
    "colab": {},
    "colab_type": "code",
    "id": "b1KtGhOskpRr"
   },
   "outputs": [],
   "source": [
    "gsm = GridSearchCV(KNeighborsRegressor(),\n",
    "                                 param_grid=param_grid,\n",
    "                                 verbose = 1,\n",
    "                                 cv=10,\n",
    "                                 n_jobs = -1,\n",
    "                                 refit=True)\n"
   ]
  },
  {
   "cell_type": "code",
   "execution_count": 70,
   "metadata": {
    "colab": {
     "base_uri": "https://localhost:8080/",
     "height": 170
    },
    "colab_type": "code",
    "executionInfo": {
     "elapsed": 60036,
     "status": "ok",
     "timestamp": 1591818790778,
     "user": {
      "displayName": "Eser İnan Arslan",
      "photoUrl": "https://lh3.googleusercontent.com/a-/AOh14Ggz536p806W0W9-wxWFfPdVV303PuNNPAhu9S1UjA=s64",
      "userId": "01966049699378036829"
     },
     "user_tz": -180
    },
    "id": "seuPg5_LkzL1",
    "outputId": "833fa197-a40c-4a78-c8e9-88b2f5022a0f"
   },
   "outputs": [
    {
     "name": "stdout",
     "output_type": "stream",
     "text": [
      "2020-06-10 19:52:13.756035\n",
      "Fitting 10 folds for each of 72 candidates, totalling 720 fits\n"
     ]
    },
    {
     "name": "stderr",
     "output_type": "stream",
     "text": [
      "[Parallel(n_jobs=-1)]: Using backend LokyBackend with 2 concurrent workers.\n",
      "[Parallel(n_jobs=-1)]: Done  46 tasks      | elapsed:    5.2s\n",
      "[Parallel(n_jobs=-1)]: Done 196 tasks      | elapsed:   18.0s\n",
      "[Parallel(n_jobs=-1)]: Done 446 tasks      | elapsed:   36.7s\n"
     ]
    },
    {
     "name": "stdout",
     "output_type": "stream",
     "text": [
      "2020-06-10 19:53:08.737273\n",
      "0:00:54.981238\n"
     ]
    },
    {
     "name": "stderr",
     "output_type": "stream",
     "text": [
      "[Parallel(n_jobs=-1)]: Done 720 out of 720 | elapsed:   54.8s finished\n"
     ]
    }
   ],
   "source": [
    "now = datetime.now()\n",
    "print(now)\n",
    "gsm_result = gsm.fit(X_train, y_train)\n",
    "end = datetime.now()\n",
    "print(end)\n",
    "print(end-now)"
   ]
  },
  {
   "cell_type": "code",
   "execution_count": 71,
   "metadata": {
    "colab": {
     "base_uri": "https://localhost:8080/",
     "height": 34
    },
    "colab_type": "code",
    "executionInfo": {
     "elapsed": 55568,
     "status": "ok",
     "timestamp": 1591818790779,
     "user": {
      "displayName": "Eser İnan Arslan",
      "photoUrl": "https://lh3.googleusercontent.com/a-/AOh14Ggz536p806W0W9-wxWFfPdVV303PuNNPAhu9S1UjA=s64",
      "userId": "01966049699378036829"
     },
     "user_tz": -180
    },
    "id": "Y9_h9IkFlGf5",
    "outputId": "26d64779-e14c-4aea-ed71-e61f1b78ddbd"
   },
   "outputs": [
    {
     "name": "stdout",
     "output_type": "stream",
     "text": [
      "0.7812500000000001\n"
     ]
    }
   ],
   "source": [
    "print(gsm.best_score_)"
   ]
  },
  {
   "cell_type": "code",
   "execution_count": 72,
   "metadata": {
    "colab": {
     "base_uri": "https://localhost:8080/",
     "height": 102
    },
    "colab_type": "code",
    "executionInfo": {
     "elapsed": 54977,
     "status": "ok",
     "timestamp": 1591818790780,
     "user": {
      "displayName": "Eser İnan Arslan",
      "photoUrl": "https://lh3.googleusercontent.com/a-/AOh14Ggz536p806W0W9-wxWFfPdVV303PuNNPAhu9S1UjA=s64",
      "userId": "01966049699378036829"
     },
     "user_tz": -180
    },
    "id": "2OOp_n6RoDEO",
    "outputId": "ea592fc1-5215-4f6d-d3d3-b84162f04e65"
   },
   "outputs": [
    {
     "data": {
      "text/plain": [
       "{'algorithm': 'ball_tree',\n",
       " 'leaf_size': 50,\n",
       " 'metric': 'manhattan',\n",
       " 'n_neighbors': 30,\n",
       " 'weights': 'distance'}"
      ]
     },
     "execution_count": 72,
     "metadata": {
      "tags": []
     },
     "output_type": "execute_result"
    }
   ],
   "source": [
    "best_params_ = gsm.best_params_\n",
    "best_params_"
   ]
  },
  {
   "cell_type": "code",
   "execution_count": 73,
   "metadata": {
    "colab": {
     "base_uri": "https://localhost:8080/",
     "height": 68
    },
    "colab_type": "code",
    "executionInfo": {
     "elapsed": 5684,
     "status": "ok",
     "timestamp": 1591818800988,
     "user": {
      "displayName": "Eser İnan Arslan",
      "photoUrl": "https://lh3.googleusercontent.com/a-/AOh14Ggz536p806W0W9-wxWFfPdVV303PuNNPAhu9S1UjA=s64",
      "userId": "01966049699378036829"
     },
     "user_tz": -180
    },
    "id": "GdDMAe4twkpR",
    "outputId": "562474a3-3e4c-4a30-d810-39185cc64608"
   },
   "outputs": [
    {
     "name": "stdout",
     "output_type": "stream",
     "text": [
      "KNeighborsClassifier(algorithm='ball_tree', leaf_size=50, metric='manhattan',\n",
      "                     metric_params=None, n_jobs=None, n_neighbors=30, p=2,\n",
      "                     weights='distance')\n"
     ]
    }
   ],
   "source": [
    "print(gsm.best_estimator_)"
   ]
  },
  {
   "cell_type": "code",
   "execution_count": null,
   "metadata": {
    "colab": {},
    "colab_type": "code",
    "id": "taHnIqLfw1jm"
   },
   "outputs": [],
   "source": [
    "from sklearn.metrics import classification_report, confusion_matrix,accuracy_score"
   ]
  },
  {
   "cell_type": "code",
   "execution_count": 75,
   "metadata": {
    "colab": {
     "base_uri": "https://localhost:8080/",
     "height": 1000
    },
    "colab_type": "code",
    "executionInfo": {
     "elapsed": 6327,
     "status": "ok",
     "timestamp": 1591818805165,
     "user": {
      "displayName": "Eser İnan Arslan",
      "photoUrl": "https://lh3.googleusercontent.com/a-/AOh14Ggz536p806W0W9-wxWFfPdVV303PuNNPAhu9S1UjA=s64",
      "userId": "01966049699378036829"
     },
     "user_tz": -180
    },
    "id": "aOxPOOB3w4zF",
    "outputId": "a7bb57aa-ec3d-4630-fe8c-d1f4df2eaaba"
   },
   "outputs": [
    {
     "name": "stdout",
     "output_type": "stream",
     "text": [
      "[1. 1. 1. 1. 0. 1. 1. 0. 1. 0. 1. 1. 1. 0. 1. 0. 1. 1. 0. 0. 1. 1. 1. 1.\n",
      " 1. 1. 1. 0. 1. 1. 1. 1. 0. 0. 1. 0. 0. 0. 1. 0. 0. 0. 1. 1. 1. 1. 0. 0.\n",
      " 1. 1. 1. 1. 1. 0. 1. 1. 0. 1. 0. 1. 0. 0. 1. 0. 1. 1. 1. 1. 0. 1. 1. 1.\n",
      " 1. 0. 0. 1. 0. 1. 1. 0. 0. 1. 1. 0. 0. 0. 1. 1. 0. 1. 1. 0. 1. 1. 1. 1.\n",
      " 0. 1. 1. 0. 0. 1. 0. 1. 1. 1. 0. 0. 1. 1. 0. 1. 0. 1. 1. 1. 0. 1. 1. 1.\n",
      " 1. 0. 1. 1. 0. 0. 0. 0. 1. 0. 1. 1. 0. 1. 0. 1. 0. 1. 1. 0. 0. 1. 0. 0.\n",
      " 1. 0. 1. 1. 1. 1. 0. 1. 1. 0. 0. 1. 0. 1. 1. 0. 0. 0. 0. 0. 1. 1. 1. 1.\n",
      " 0. 1. 0. 0. 1. 1. 1. 1. 0. 1. 1. 0. 1. 1. 1. 0. 0. 1. 1. 1. 1. 1. 1. 1.\n",
      " 1. 1. 1. 1. 1. 1. 0. 1. 1. 0. 1. 0. 0. 0. 1. 1. 1. 0. 1. 1. 1. 1. 0. 0.\n",
      " 1. 0. 1. 0. 0. 1. 0. 1. 1. 1. 1. 1. 1. 1. 0. 1. 1. 1. 1. 1. 1. 0. 0. 1.\n",
      " 1. 0. 1. 1. 1. 1. 0. 0. 1. 0. 1. 1. 1. 0. 1. 0. 0. 1. 1. 0. 1. 0. 0. 1.\n",
      " 0. 0. 1. 1. 1. 1. 0. 1. 1. 0. 1. 0. 1. 0. 0. 1. 1. 0. 1. 1. 0. 1. 1. 1.\n",
      " 0. 0. 0. 1. 0. 0. 0. 1. 1. 1. 1. 1. 1. 1. 0. 1. 1. 1. 1. 0. 0. 1. 0. 0.\n",
      " 0. 1. 0. 1. 1. 1. 0. 1. 1. 0. 1. 1. 1. 1. 0. 1. 0. 0. 0. 0. 1. 0. 1. 0.\n",
      " 0. 1. 0. 1. 1. 0. 1. 0. 0. 1. 1. 1. 0. 1. 1. 1. 1. 0. 1. 1. 0. 0. 1. 1.\n",
      " 1. 0. 1. 0. 0. 1. 1. 0. 1. 1. 0. 1. 1. 0. 1. 0. 1. 0. 1. 0. 1. 0. 0. 0.\n",
      " 1. 1. 1. 0. 0. 0. 1. 1. 0. 0. 0. 0. 1. 1. 1. 1. 0. 0. 0. 0. 1. 0. 0. 0.\n",
      " 1. 0. 0. 1. 0. 0. 0. 1. 1. 0. 0. 1. 1. 1. 1. 1. 1. 1. 0. 0. 1. 0. 1. 1.\n",
      " 1. 1. 0. 1. 1. 0. 1. 0. 1. 0. 0. 1. 1. 0. 1. 0. 0. 0. 1. 1. 1. 1. 1. 0.\n",
      " 1. 1. 1. 0. 1. 0. 1. 1. 1. 0. 1. 1. 0. 0. 1. 0. 1. 1. 1. 0. 0. 1. 0. 1.\n",
      " 1. 0. 1. 1. 1. 1. 1. 1. 1. 1. 1. 1. 1. 1. 1. 1. 1. 0. 0. 1. 1. 0. 1. 1.\n",
      " 0. 0. 0. 1. 0. 1. 0. 0. 1. 0. 1. 1. 0. 1. 1. 0. 1. 1. 0. 1. 0. 0. 1. 1.\n",
      " 0. 1. 1. 0. 1. 0. 1. 0. 0. 0. 1. 0. 0. 0. 1. 1. 1. 0. 0. 0. 1. 0. 1. 1.\n",
      " 1. 1. 1. 0. 1. 1. 1. 1. 0. 1. 1. 1. 0. 1. 0. 0. 0. 0. 1. 0. 1. 1. 0. 1.\n",
      " 1. 1. 1. 1. 1. 1. 1. 1. 1. 0. 0. 0. 1. 0. 1. 0. 1. 1. 1. 1. 0. 1. 1. 0.\n",
      " 1. 1. 1. 0. 0. 0. 1. 0. 1. 0. 0. 1. 1. 1. 0. 1. 1. 0. 1. 0. 1. 1. 1. 1.\n",
      " 0. 0. 0. 0. 0. 1. 1. 0. 0. 1. 1. 1. 0. 1. 0. 0. 0. 1. 1. 1. 1. 0. 1. 1.\n",
      " 0. 1. 1. 1. 1. 1. 1. 0. 0. 1. 0. 0. 1. 1. 1. 1. 1. 0. 1. 1. 0. 1. 1. 0.\n",
      " 1. 1. 0. 1. 1. 0. 0. 0. 1. 0. 1. 1. 0. 0. 1. 0. 0. 1. 1. 1. 1. 0. 1. 1.\n",
      " 0. 0. 0. 0. 0. 1. 0. 1. 1. 0. 0. 1. 0. 1. 1. 0. 1. 1. 1. 1. 0. 0. 0. 1.\n",
      " 1. 0. 1. 1. 0. 1. 0. 0. 1. 1. 0. 1. 0. 1. 1. 1. 1. 0. 1. 1. 1. 1. 1. 0.\n",
      " 0. 1. 1. 1. 0. 0. 1. 0. 1. 1. 1. 1. 1. 0. 1. 1. 1. 0. 1. 1. 0. 1. 0. 1.\n",
      " 1. 1. 0. 0. 1. 1. 1. 0. 0. 1. 0. 0. 1. 0. 0. 1. 1. 1. 0. 1. 1. 1. 1. 1.\n",
      " 1. 0. 0. 1. 0. 1. 1. 0. 1. 1. 0. 1. 0. 1. 1. 1. 0. 0. 1. 0. 1. 0. 0. 1.\n",
      " 0. 0. 0. 1. 1. 1. 0. 1. 1. 0. 1. 1. 0. 1. 1. 1. 1. 0. 0. 1. 1. 1. 0. 1.\n",
      " 0. 0. 0. 1. 0. 1. 1. 0. 1. 0. 1. 0. 0. 1. 0. 1. 0. 0. 1. 1. 1. 1. 1. 1.\n",
      " 0. 0. 0. 0. 1. 0. 0. 0. 0. 0. 1. 1. 0. 0. 1. 1. 1. 1. 1. 0. 1. 1. 1. 1.\n",
      " 1. 0. 1. 0. 1. 1. 0. 1. 0. 1. 0. 0. 1. 1. 1. 0. 1. 1. 0. 0. 0. 1. 1. 1.\n",
      " 0. 0. 1. 0. 0. 0. 0. 1. 1. 1. 1. 1. 0. 1. 0. 1. 0. 1. 1. 1. 1. 0. 0. 1.\n",
      " 0. 0. 0. 0. 1. 1. 0. 0. 1. 1. 0. 1. 1. 1. 0. 1. 1. 0. 1. 0. 0. 1. 1. 0.]\n"
     ]
    },
    {
     "data": {
      "image/png": "[encoded data removed]",
      "text/plain": [
       "<Figure size 360x288 with 2 Axes>"
      ]
     },
     "metadata": {
      "needs_background": "light",
      "tags": []
     },
     "output_type": "display_data"
    },
    {
     "name": "stdout",
     "output_type": "stream",
     "text": [
      "              precision    recall  f1-score   support\n",
      "\n",
      "         0.0       0.81      0.67      0.73       474\n",
      "         1.0       0.72      0.85      0.78       486\n",
      "\n",
      "    accuracy                           0.76       960\n",
      "   macro avg       0.77      0.76      0.76       960\n",
      "weighted avg       0.77      0.76      0.76       960\n",
      "\n"
     ]
    }
   ],
   "source": [
    "best_KNR = KNeighborsRegressor(algorithm='ball_tree', leaf_size=50, metric='manhattan',\n",
    "                     metric_params=None, n_jobs=None, n_neighbors=30, p=2,\n",
    "                     weights='distance')\n",
    "best_KNR = best_KNR.fit(X_train, y_train)\n",
    "risk_predictor = best_KNR.predict(X_test)\n",
    "#print(\"KNN for k = \", k)\n",
    "print(risk_predictor)\n",
    "\n",
    "cm = confusion_matrix(y_test, risk_predictor) \n",
    "cm_df = pd.DataFrame(cm,\n",
    "                    index = [0, 1], \n",
    "                    columns = [0, 1])\n",
    "\n",
    "plt.figure(figsize=(5,4))\n",
    "sns.heatmap(cm_df, annot=True)\n",
    "plt.title('kNN \\nAccuracy:{0:.3f}'.format(accuracy_score(y_test, risk_predictor)))\n",
    "plt.ylabel('True label')\n",
    "plt.xlabel('Predicted label')\n",
    "plt.show()\n",
    "\n",
    "print(classification_report(y_test, risk_predictor))"
   ]
  },
  {
   "cell_type": "code",
   "execution_count": null,
   "metadata": {
    "colab": {},
    "colab_type": "code",
    "id": "muH5kPbIxBXi"
   },
   "outputs": [],
   "source": []
  },
  {
   "cell_type": "markdown",
   "metadata": {
    "colab_type": "text",
    "id": "hXhgRqaPT04D"
   },
   "source": [
    "**DecisionTreeRegressor**"
   ]
  },
  {
   "cell_type": "code",
   "execution_count": null,
   "metadata": {
    "colab": {},
    "colab_type": "code",
    "id": "gHc1c9llT1T7"
   },
   "outputs": [],
   "source": []
  },
  {
   "cell_type": "code",
   "execution_count": null,
   "metadata": {
    "colab": {},
    "colab_type": "code",
    "id": "OZMWdYsjDoZH"
   },
   "outputs": [],
   "source": [
    "from sklearn.pipeline import make_pipeline\n",
    "from sklearn.tree import DecisionTreeRegressor, export_graphviz\n"
   ]
  },
  {
   "cell_type": "code",
   "execution_count": null,
   "metadata": {
    "colab": {},
    "colab_type": "code",
    "id": "QDvG4QkODocU"
   },
   "outputs": [],
   "source": [
    "pipe_tree = make_pipeline(DecisionTreeRegressor(random_state=1))"
   ]
  },
  {
   "cell_type": "code",
   "execution_count": 78,
   "metadata": {
    "colab": {
     "base_uri": "https://localhost:8080/",
     "height": 34
    },
    "colab_type": "code",
    "executionInfo": {
     "elapsed": 2812,
     "status": "ok",
     "timestamp": 1591818857391,
     "user": {
      "displayName": "Eser İnan Arslan",
      "photoUrl": "https://lh3.googleusercontent.com/a-/AOh14Ggz536p806W0W9-wxWFfPdVV303PuNNPAhu9S1UjA=s64",
      "userId": "01966049699378036829"
     },
     "user_tz": -180
    },
    "id": "NgfjpYR6DxUQ",
    "outputId": "79895a26-b09a-4e20-e022-6bb3bffe1918"
   },
   "outputs": [
    {
     "data": {
      "text/plain": [
       "array([6, 7, 8, 9])"
      ]
     },
     "execution_count": 78,
     "metadata": {
      "tags": []
     },
     "output_type": "execute_result"
    }
   ],
   "source": [
    "# make an array of depths to choose from 5 to 16\n",
    "depths = np.arange(6, 10)\n",
    "depths"
   ]
  },
  {
   "cell_type": "code",
   "execution_count": 79,
   "metadata": {
    "colab": {
     "base_uri": "https://localhost:8080/",
     "height": 34
    },
    "colab_type": "code",
    "executionInfo": {
     "elapsed": 3047,
     "status": "ok",
     "timestamp": 1591818884364,
     "user": {
      "displayName": "Eser İnan Arslan",
      "photoUrl": "https://lh3.googleusercontent.com/a-/AOh14Ggz536p806W0W9-wxWFfPdVV303PuNNPAhu9S1UjA=s64",
      "userId": "01966049699378036829"
     },
     "user_tz": -180
    },
    "id": "TUXM2S9GELbK",
    "outputId": "75bf1556-496e-4652-cb32-30892ea2e32f"
   },
   "outputs": [
    {
     "data": {
      "text/plain": [
       "array([20, 21, 22, 23, 24, 25])"
      ]
     },
     "execution_count": 79,
     "metadata": {
      "tags": []
     },
     "output_type": "execute_result"
    }
   ],
   "source": [
    "#make an array of min_sample_size to choose from 10 to 25\n",
    "min_samples_split = np.arange(20,26)\n",
    "min_samples_split"
   ]
  },
  {
   "cell_type": "code",
   "execution_count": null,
   "metadata": {
    "colab": {},
    "colab_type": "code",
    "id": "e_Tv3ss9EWCu"
   },
   "outputs": [],
   "source": [
    "#make an array of min_samples_leaf to choose from 1 to 100\n",
    "dt_num_leafs = [5, 10, 15,  20]"
   ]
  },
  {
   "cell_type": "code",
   "execution_count": null,
   "metadata": {
    "colab": {},
    "colab_type": "code",
    "id": "e9T6mQb6Ec0h"
   },
   "outputs": [],
   "source": [
    "#GridSearch to determine best parameters\n",
    "\n",
    "param_grid = [{'DecisionTreeRegressor__max_depth':depths,\n",
    "              'DecisionTreeRegressor__min_samples_split':min_samples_split,\n",
    "               'DecisionTreeRegressor__min_samples_leaf':dt_num_leafs}]"
   ]
  },
  {
   "cell_type": "code",
   "execution_count": null,
   "metadata": {
    "colab": {},
    "colab_type": "code",
    "id": "UfYc3BZEEs8h"
   },
   "outputs": [],
   "source": [
    "gs_dtr = GridSearchCV(estimator=pipe_tree, param_grid=param_grid, n_jobs = -1, cv=5)"
   ]
  },
  {
   "cell_type": "code",
   "execution_count": 83,
   "metadata": {
    "colab": {
     "base_uri": "https://localhost:8080/",
     "height": 68
    },
    "colab_type": "code",
    "executionInfo": {
     "elapsed": 11804,
     "status": "ok",
     "timestamp": 1591818926652,
     "user": {
      "displayName": "Eser İnan Arslan",
      "photoUrl": "https://lh3.googleusercontent.com/a-/AOh14Ggz536p806W0W9-wxWFfPdVV303PuNNPAhu9S1UjA=s64",
      "userId": "01966049699378036829"
     },
     "user_tz": -180
    },
    "id": "Wv8UCAFNE10f",
    "outputId": "b3da903a-f791-4874-e250-e6c07a9b9dd4"
   },
   "outputs": [
    {
     "name": "stdout",
     "output_type": "stream",
     "text": [
      "2020-06-10 19:55:16.679420\n",
      "2020-06-10 19:55:23.023672\n",
      "0:00:06.344252\n"
     ]
    }
   ],
   "source": [
    "now = datetime.now()\n",
    "print(now)\n",
    "gs_dtr = gs_dtr.fit(X_train, y_train)\n",
    "end = datetime.now()\n",
    "print(end)\n",
    "print(end-now)"
   ]
  },
  {
   "cell_type": "code",
   "execution_count": 84,
   "metadata": {
    "colab": {
     "base_uri": "https://localhost:8080/",
     "height": 34
    },
    "colab_type": "code",
    "executionInfo": {
     "elapsed": 3194,
     "status": "ok",
     "timestamp": 1591818932055,
     "user": {
      "displayName": "Eser İnan Arslan",
      "photoUrl": "https://lh3.googleusercontent.com/a-/AOh14Ggz536p806W0W9-wxWFfPdVV303PuNNPAhu9S1UjA=s64",
      "userId": "01966049699378036829"
     },
     "user_tz": -180
    },
    "id": "L-GJr7PnFIma",
    "outputId": "af2c6c67-1c04-4225-a843-af644440f13a"
   },
   "outputs": [
    {
     "name": "stdout",
     "output_type": "stream",
     "text": [
      "0.820138888888889\n"
     ]
    }
   ],
   "source": [
    "print(gs_dtr.best_score_)"
   ]
  },
  {
   "cell_type": "code",
   "execution_count": 85,
   "metadata": {
    "colab": {
     "base_uri": "https://localhost:8080/",
     "height": 68
    },
    "colab_type": "code",
    "executionInfo": {
     "elapsed": 11966,
     "status": "ok",
     "timestamp": 1591818942273,
     "user": {
      "displayName": "Eser İnan Arslan",
      "photoUrl": "https://lh3.googleusercontent.com/a-/AOh14Ggz536p806W0W9-wxWFfPdVV303PuNNPAhu9S1UjA=s64",
      "userId": "01966049699378036829"
     },
     "user_tz": -180
    },
    "id": "3SPsTwXEF-bV",
    "outputId": "a3aa6e09-1846-4e75-fff4-b3d161bb0e96"
   },
   "outputs": [
    {
     "data": {
      "text/plain": [
       "{'decisiontreeclassifier__max_depth': 8,\n",
       " 'decisiontreeclassifier__min_samples_leaf': 10,\n",
       " 'decisiontreeclassifier__min_samples_split': 23}"
      ]
     },
     "execution_count": 85,
     "metadata": {
      "tags": []
     },
     "output_type": "execute_result"
    }
   ],
   "source": [
    "best_params_dt = gs_dtr.best_params_\n",
    "best_params_dt\n"
   ]
  },
  {
   "cell_type": "code",
   "execution_count": 86,
   "metadata": {
    "colab": {
     "base_uri": "https://localhost:8080/",
     "height": 1000
    },
    "colab_type": "code",
    "executionInfo": {
     "elapsed": 17359,
     "status": "ok",
     "timestamp": 1591818949857,
     "user": {
      "displayName": "Eser İnan Arslan",
      "photoUrl": "https://lh3.googleusercontent.com/a-/AOh14Ggz536p806W0W9-wxWFfPdVV303PuNNPAhu9S1UjA=s64",
      "userId": "01966049699378036829"
     },
     "user_tz": -180
    },
    "id": "YJNWnknRGO0C",
    "outputId": "6b12d5f4-b015-42f6-f634-1e5890d521d0"
   },
   "outputs": [
    {
     "name": "stdout",
     "output_type": "stream",
     "text": [
      "[1. 1. 1. 1. 0. 1. 1. 0. 1. 0. 1. 0. 1. 0. 0. 0. 0. 1. 1. 0. 1. 1. 1. 1.\n",
      " 1. 1. 1. 0. 1. 0. 1. 1. 0. 0. 1. 0. 0. 0. 1. 0. 1. 0. 1. 1. 1. 0. 0. 0.\n",
      " 1. 0. 1. 1. 1. 1. 0. 1. 0. 1. 0. 1. 0. 0. 0. 0. 1. 1. 0. 1. 0. 1. 1. 1.\n",
      " 1. 0. 0. 1. 0. 0. 0. 1. 0. 1. 1. 0. 1. 0. 1. 1. 0. 1. 0. 1. 1. 1. 1. 1.\n",
      " 0. 0. 0. 0. 1. 1. 1. 1. 1. 1. 1. 0. 1. 1. 0. 0. 1. 1. 1. 1. 1. 1. 1. 1.\n",
      " 1. 0. 1. 1. 0. 0. 0. 1. 0. 0. 1. 1. 0. 1. 0. 0. 0. 0. 1. 0. 0. 1. 0. 0.\n",
      " 1. 0. 0. 0. 1. 1. 0. 1. 0. 0. 0. 0. 0. 1. 1. 1. 0. 0. 0. 1. 1. 1. 1. 1.\n",
      " 1. 1. 0. 0. 0. 0. 1. 1. 0. 1. 1. 0. 0. 1. 1. 0. 1. 1. 1. 1. 1. 0. 0. 1.\n",
      " 1. 1. 1. 1. 1. 1. 0. 1. 0. 0. 1. 0. 0. 0. 1. 1. 1. 0. 0. 0. 1. 1. 0. 0.\n",
      " 0. 0. 1. 1. 0. 0. 1. 1. 0. 1. 1. 0. 0. 0. 0. 1. 1. 0. 1. 1. 1. 0. 0. 1.\n",
      " 1. 0. 1. 0. 1. 1. 0. 0. 0. 0. 0. 1. 1. 0. 1. 0. 0. 1. 1. 0. 1. 0. 0. 0.\n",
      " 0. 1. 1. 1. 1. 1. 0. 1. 1. 0. 1. 0. 1. 0. 0. 0. 1. 0. 1. 0. 1. 1. 0. 1.\n",
      " 1. 0. 0. 1. 0. 0. 1. 0. 1. 1. 0. 1. 0. 1. 0. 1. 1. 1. 1. 1. 0. 1. 0. 0.\n",
      " 0. 1. 0. 1. 1. 1. 0. 1. 0. 0. 1. 1. 1. 0. 0. 0. 0. 1. 0. 1. 0. 0. 1. 0.\n",
      " 0. 1. 0. 1. 1. 0. 1. 0. 0. 1. 1. 1. 0. 1. 1. 0. 0. 1. 1. 0. 0. 0. 1. 1.\n",
      " 0. 1. 1. 0. 0. 1. 1. 0. 0. 0. 0. 1. 1. 0. 1. 0. 1. 0. 0. 0. 1. 1. 0. 0.\n",
      " 1. 0. 1. 0. 0. 0. 1. 0. 0. 0. 0. 0. 1. 1. 1. 1. 0. 1. 0. 0. 1. 0. 0. 0.\n",
      " 1. 0. 0. 1. 0. 0. 0. 1. 1. 0. 1. 0. 0. 1. 0. 0. 1. 1. 0. 0. 1. 0. 1. 1.\n",
      " 1. 1. 0. 1. 1. 0. 1. 0. 1. 0. 0. 0. 0. 0. 1. 0. 0. 0. 1. 1. 0. 1. 1. 0.\n",
      " 1. 1. 1. 1. 1. 0. 1. 1. 0. 0. 1. 0. 0. 0. 1. 0. 1. 1. 1. 0. 0. 1. 0. 1.\n",
      " 1. 0. 1. 0. 0. 1. 1. 0. 1. 1. 1. 0. 0. 1. 1. 1. 1. 0. 0. 0. 0. 0. 1. 1.\n",
      " 1. 0. 0. 0. 1. 1. 0. 0. 1. 1. 1. 1. 0. 1. 0. 0. 1. 1. 0. 1. 1. 0. 1. 1.\n",
      " 0. 0. 1. 0. 1. 0. 1. 0. 1. 0. 0. 0. 0. 0. 0. 1. 1. 0. 1. 0. 1. 0. 1. 1.\n",
      " 1. 1. 1. 0. 0. 0. 1. 1. 0. 0. 1. 1. 0. 1. 1. 1. 0. 0. 1. 0. 1. 1. 0. 1.\n",
      " 1. 1. 1. 0. 1. 0. 1. 1. 1. 0. 0. 1. 0. 0. 1. 0. 1. 1. 0. 1. 0. 1. 0. 0.\n",
      " 1. 0. 1. 0. 0. 0. 1. 0. 1. 1. 0. 0. 1. 0. 0. 1. 0. 0. 1. 0. 1. 0. 1. 1.\n",
      " 0. 0. 0. 1. 0. 0. 1. 0. 1. 0. 1. 1. 0. 0. 0. 0. 0. 0. 1. 0. 0. 0. 1. 0.\n",
      " 1. 1. 1. 1. 1. 1. 1. 0. 0. 0. 0. 0. 1. 0. 0. 0. 1. 0. 1. 1. 1. 1. 0. 0.\n",
      " 1. 1. 0. 0. 1. 0. 1. 0. 0. 0. 1. 1. 0. 0. 1. 0. 0. 1. 1. 1. 0. 0. 1. 1.\n",
      " 0. 0. 1. 0. 1. 0. 0. 1. 1. 1. 0. 0. 0. 1. 0. 0. 1. 1. 0. 1. 0. 1. 0. 1.\n",
      " 0. 0. 1. 1. 0. 1. 1. 1. 1. 1. 0. 1. 0. 0. 1. 1. 1. 1. 1. 1. 1. 1. 1. 0.\n",
      " 0. 1. 1. 1. 0. 1. 1. 0. 1. 0. 0. 0. 1. 1. 0. 0. 0. 0. 1. 1. 0. 1. 0. 1.\n",
      " 0. 1. 0. 0. 1. 1. 1. 0. 0. 1. 0. 1. 1. 0. 1. 1. 1. 1. 0. 0. 1. 1. 1. 0.\n",
      " 0. 0. 0. 1. 1. 0. 1. 1. 1. 1. 0. 0. 0. 1. 1. 0. 1. 0. 0. 1. 1. 0. 0. 1.\n",
      " 0. 0. 0. 1. 1. 0. 0. 1. 1. 0. 0. 1. 0. 1. 1. 1. 1. 1. 0. 1. 0. 0. 0. 0.\n",
      " 0. 1. 1. 1. 0. 1. 1. 0. 1. 0. 1. 0. 0. 1. 0. 1. 0. 0. 1. 1. 1. 0. 0. 1.\n",
      " 0. 0. 0. 0. 1. 0. 0. 0. 0. 0. 0. 0. 0. 0. 1. 0. 1. 0. 0. 1. 1. 1. 0. 0.\n",
      " 1. 0. 1. 0. 0. 1. 0. 1. 1. 0. 0. 1. 1. 1. 1. 1. 0. 1. 0. 0. 0. 1. 0. 1.\n",
      " 0. 0. 1. 0. 0. 0. 0. 1. 1. 1. 1. 1. 0. 1. 0. 0. 0. 1. 1. 0. 1. 0. 0. 1.\n",
      " 0. 1. 1. 0. 1. 1. 0. 0. 0. 1. 0. 1. 1. 0. 0. 0. 1. 0. 1. 0. 0. 1. 1. 1.]\n"
     ]
    },
    {
     "data": {
      "image/png": "[encoded data removed]",
      "text/plain": [
       "<Figure size 360x288 with 2 Axes>"
      ]
     },
     "metadata": {
      "needs_background": "light",
      "tags": []
     },
     "output_type": "display_data"
    },
    {
     "name": "stdout",
     "output_type": "stream",
     "text": [
      "              precision    recall  f1-score   support\n",
      "\n",
      "         0.0       0.79      0.79      0.79       474\n",
      "         1.0       0.79      0.80      0.80       486\n",
      "\n",
      "    accuracy                           0.79       960\n",
      "   macro avg       0.79      0.79      0.79       960\n",
      "weighted avg       0.79      0.79      0.79       960\n",
      "\n"
     ]
    }
   ],
   "source": [
    "best_DTR = DecisionTreeRegressor(max_depth = 8, min_samples_leaf = 10, min_samples_split = 23)\n",
    "best_DTR = best_DTR.fit(X_train, y_train)\n",
    "risk_predictor_dt = best_DTR.predict(X_test)\n",
    "#print(\"KNN for k = \", k)\n",
    "print(risk_predictor_dt)\n",
    "\n",
    "cm_dt = confusion_matrix(y_test, risk_predictor_dt) \n",
    "cm_df_dt = pd.DataFrame(cm_dt,\n",
    "                    index = [0, 1], \n",
    "                    columns = [0, 1])\n",
    "\n",
    "plt.figure(figsize=(5,4))\n",
    "sns.heatmap(cm_df_dt, annot=True)\n",
    "plt.title('DecisionTreeregressor \\nAccuracy:{0:.3f}'.format(accuracy_score(y_test, risk_predictor_dt)))\n",
    "plt.ylabel('True label')\n",
    "plt.xlabel('Predicted label')\n",
    "plt.show()\n",
    "\n",
    "print(classification_report(y_test, risk_predictor_dt))"
   ]
  },
  {
   "cell_type": "code",
   "execution_count": null,
   "metadata": {
    "colab": {},
    "colab_type": "code",
    "id": "rAXkp26zHaI0"
   },
   "outputs": [],
   "source": []
  },
  {
   "cell_type": "markdown",
   "metadata": {
    "colab_type": "text",
    "id": "BljafyfzVCiu"
   },
   "source": [
    "**RandomForestClassifier**"
   ]
  },
  {
   "cell_type": "code",
   "execution_count": null,
   "metadata": {
    "colab": {},
    "colab_type": "code",
    "id": "Hy4JPTeQVC-R"
   },
   "outputs": [],
   "source": []
  },
  {
   "cell_type": "code",
   "execution_count": null,
   "metadata": {
    "colab": {},
    "colab_type": "code",
    "id": "0QFleJMnlO5O"
   },
   "outputs": [],
   "source": [
    "from sklearn.calibration import CalibratedClassifierCV\n",
    "from sklearn.ensemble import RandomForestRegressor"
   ]
  },
  {
   "cell_type": "code",
   "execution_count": null,
   "metadata": {
    "colab": {},
    "colab_type": "code",
    "id": "4QWxXTS6lO3E"
   },
   "outputs": [],
   "source": [
    "calibrated_forest = CalibratedClassifierCV(base_estimator=RandomForestRegressor(n_estimators=10))"
   ]
  },
  {
   "cell_type": "code",
   "execution_count": null,
   "metadata": {
    "colab": {},
    "colab_type": "code",
    "id": "v9kg5Njiopj7"
   },
   "outputs": [],
   "source": []
  },
  {
   "cell_type": "code",
   "execution_count": 89,
   "metadata": {
    "colab": {
     "base_uri": "https://localhost:8080/",
     "height": 34
    },
    "colab_type": "code",
    "executionInfo": {
     "elapsed": 7715,
     "status": "ok",
     "timestamp": 1591819059263,
     "user": {
      "displayName": "Eser İnan Arslan",
      "photoUrl": "https://lh3.googleusercontent.com/a-/AOh14Ggz536p806W0W9-wxWFfPdVV303PuNNPAhu9S1UjA=s64",
      "userId": "01966049699378036829"
     },
     "user_tz": -180
    },
    "id": "74Zb0BzRopns",
    "outputId": "55c56726-2f57-4c50-c612-1903a7cba77d"
   },
   "outputs": [
    {
     "data": {
      "text/plain": [
       "array([6, 7, 8, 9])"
      ]
     },
     "execution_count": 89,
     "metadata": {
      "tags": []
     },
     "output_type": "execute_result"
    }
   ],
   "source": [
    "# make an array of depths to choose from 5 to 16\n",
    "depths = np.arange(6, 10)\n",
    "depths"
   ]
  },
  {
   "cell_type": "code",
   "execution_count": 90,
   "metadata": {
    "colab": {
     "base_uri": "https://localhost:8080/",
     "height": 34
    },
    "colab_type": "code",
    "executionInfo": {
     "elapsed": 6104,
     "status": "ok",
     "timestamp": 1591819059264,
     "user": {
      "displayName": "Eser İnan Arslan",
      "photoUrl": "https://lh3.googleusercontent.com/a-/AOh14Ggz536p806W0W9-wxWFfPdVV303PuNNPAhu9S1UjA=s64",
      "userId": "01966049699378036829"
     },
     "user_tz": -180
    },
    "id": "WbiDk-z_ophL",
    "outputId": "31735678-f7ed-4830-9974-8ef55b760038"
   },
   "outputs": [
    {
     "data": {
      "text/plain": [
       "array([18, 19, 20, 21])"
      ]
     },
     "execution_count": 90,
     "metadata": {
      "tags": []
     },
     "output_type": "execute_result"
    }
   ],
   "source": [
    "#make an array of min_sample_size to choose from 10 to 25\n",
    "min_samples_split = np.arange(18,22)\n",
    "min_samples_split"
   ]
  },
  {
   "cell_type": "code",
   "execution_count": null,
   "metadata": {
    "colab": {},
    "colab_type": "code",
    "id": "myEBmvoFoped"
   },
   "outputs": [],
   "source": [
    "#make an array of min_samples_leaf to choose from 1 to 100\n",
    "dt_num_leafs = [5, 7, 10]"
   ]
  },
  {
   "cell_type": "code",
   "execution_count": null,
   "metadata": {
    "colab": {},
    "colab_type": "code",
    "id": "6ZtgDfebowyO"
   },
   "outputs": [],
   "source": []
  },
  {
   "cell_type": "code",
   "execution_count": null,
   "metadata": {
    "colab": {},
    "colab_type": "code",
    "id": "H4mVeVrelO0H"
   },
   "outputs": [],
   "source": [
    "#GridSearch to determine best parameters\n",
    "\n",
    "calibrated_param = {\n",
    "    'base_estimator__max_depth': depths,\n",
    "    'base_estimator__min_samples_split':min_samples_split,\n",
    "    'base_estimator__min_samples_leaf':dt_num_leafs}"
   ]
  },
  {
   "cell_type": "code",
   "execution_count": null,
   "metadata": {
    "colab": {},
    "colab_type": "code",
    "id": "7GtQB5Sbp87q"
   },
   "outputs": [],
   "source": [
    "gs_cc = GridSearchCV(calibrated_forest, calibrated_param, cv=5)"
   ]
  },
  {
   "cell_type": "code",
   "execution_count": 94,
   "metadata": {
    "colab": {
     "base_uri": "https://localhost:8080/",
     "height": 68
    },
    "colab_type": "code",
    "executionInfo": {
     "elapsed": 37955,
     "status": "ok",
     "timestamp": 1591819097645,
     "user": {
      "displayName": "Eser İnan Arslan",
      "photoUrl": "https://lh3.googleusercontent.com/a-/AOh14Ggz536p806W0W9-wxWFfPdVV303PuNNPAhu9S1UjA=s64",
      "userId": "01966049699378036829"
     },
     "user_tz": -180
    },
    "id": "FNpL9WJHqHMF",
    "outputId": "0d9c549a-b0ec-4569-f12d-76def8f9106b"
   },
   "outputs": [
    {
     "name": "stdout",
     "output_type": "stream",
     "text": [
      "2020-06-10 19:57:43.641268\n",
      "2020-06-10 19:58:15.846946\n",
      "0:00:32.205678\n"
     ]
    }
   ],
   "source": [
    "now = datetime.now()\n",
    "print(now)\n",
    "gs_cc = gs_cc.fit(X_train, y_train)\n",
    "end = datetime.now()\n",
    "print(end)\n",
    "print(end-now)"
   ]
  },
  {
   "cell_type": "code",
   "execution_count": 95,
   "metadata": {
    "colab": {
     "base_uri": "https://localhost:8080/",
     "height": 34
    },
    "colab_type": "code",
    "executionInfo": {
     "elapsed": 7610,
     "status": "ok",
     "timestamp": 1591819097647,
     "user": {
      "displayName": "Eser İnan Arslan",
      "photoUrl": "https://lh3.googleusercontent.com/a-/AOh14Ggz536p806W0W9-wxWFfPdVV303PuNNPAhu9S1UjA=s64",
      "userId": "01966049699378036829"
     },
     "user_tz": -180
    },
    "id": "14M7kv1vqRar",
    "outputId": "0f5ab09c-3350-400d-a32e-902c18d9a851"
   },
   "outputs": [
    {
     "name": "stdout",
     "output_type": "stream",
     "text": [
      "0.8270833333333332\n"
     ]
    }
   ],
   "source": [
    "print(gs_cc.best_score_)"
   ]
  },
  {
   "cell_type": "code",
   "execution_count": 96,
   "metadata": {
    "colab": {
     "base_uri": "https://localhost:8080/",
     "height": 68
    },
    "colab_type": "code",
    "executionInfo": {
     "elapsed": 6288,
     "status": "ok",
     "timestamp": 1591819097648,
     "user": {
      "displayName": "Eser İnan Arslan",
      "photoUrl": "https://lh3.googleusercontent.com/a-/AOh14Ggz536p806W0W9-wxWFfPdVV303PuNNPAhu9S1UjA=s64",
      "userId": "01966049699378036829"
     },
     "user_tz": -180
    },
    "id": "3b9Z6do5up1C",
    "outputId": "d2301975-be4d-4024-a828-77a55ba8fc51"
   },
   "outputs": [
    {
     "data": {
      "text/plain": [
       "{'base_estimator__max_depth': 8,\n",
       " 'base_estimator__min_samples_leaf': 10,\n",
       " 'base_estimator__min_samples_split': 20}"
      ]
     },
     "execution_count": 96,
     "metadata": {
      "tags": []
     },
     "output_type": "execute_result"
    }
   ],
   "source": [
    "best_params_cc = gs_cc.best_params_\n",
    "best_params_cc\n"
   ]
  },
  {
   "cell_type": "code",
   "execution_count": 97,
   "metadata": {
    "colab": {
     "base_uri": "https://localhost:8080/",
     "height": 1000
    },
    "colab_type": "code",
    "executionInfo": {
     "elapsed": 5329,
     "status": "ok",
     "timestamp": 1591819100998,
     "user": {
      "displayName": "Eser İnan Arslan",
      "photoUrl": "https://lh3.googleusercontent.com/a-/AOh14Ggz536p806W0W9-wxWFfPdVV303PuNNPAhu9S1UjA=s64",
      "userId": "01966049699378036829"
     },
     "user_tz": -180
    },
    "id": "NbEh8sczux2l",
    "outputId": "8128c2da-d7bb-4770-8d2e-0a0f67784531"
   },
   "outputs": [
    {
     "name": "stdout",
     "output_type": "stream",
     "text": [
      "[1. 1. 1. 1. 0. 1. 1. 0. 1. 0. 1. 0. 1. 0. 1. 0. 0. 1. 0. 0. 1. 1. 1. 1.\n",
      " 1. 1. 1. 0. 1. 0. 1. 1. 1. 1. 1. 0. 0. 0. 1. 0. 1. 0. 1. 1. 1. 0. 0. 1.\n",
      " 1. 0. 1. 1. 1. 1. 0. 1. 0. 1. 0. 1. 0. 0. 0. 0. 1. 1. 1. 1. 0. 1. 1. 1.\n",
      " 1. 0. 0. 1. 0. 1. 1. 1. 0. 1. 1. 0. 1. 1. 1. 1. 0. 1. 0. 1. 1. 1. 1. 1.\n",
      " 0. 0. 1. 0. 1. 1. 1. 1. 1. 1. 1. 0. 1. 1. 0. 1. 1. 1. 1. 1. 0. 1. 1. 1.\n",
      " 1. 0. 1. 1. 0. 0. 0. 0. 0. 0. 1. 1. 0. 1. 0. 1. 0. 0. 1. 0. 0. 1. 0. 1.\n",
      " 1. 0. 1. 1. 1. 1. 0. 1. 1. 0. 1. 0. 0. 1. 1. 0. 0. 0. 0. 1. 1. 1. 1. 1.\n",
      " 1. 1. 0. 0. 1. 1. 1. 1. 0. 1. 1. 0. 1. 1. 1. 0. 1. 1. 1. 1. 1. 1. 1. 1.\n",
      " 1. 1. 1. 1. 1. 1. 0. 1. 0. 0. 1. 0. 1. 0. 1. 1. 1. 0. 1. 1. 1. 1. 0. 0.\n",
      " 0. 0. 1. 0. 0. 0. 1. 1. 1. 1. 1. 0. 1. 1. 0. 1. 1. 0. 1. 1. 0. 0. 0. 1.\n",
      " 1. 0. 1. 1. 1. 1. 0. 0. 1. 0. 1. 1. 1. 0. 1. 0. 0. 1. 1. 0. 1. 0. 0. 1.\n",
      " 0. 1. 1. 1. 1. 1. 0. 1. 1. 0. 1. 0. 1. 0. 0. 0. 1. 0. 1. 0. 1. 1. 0. 1.\n",
      " 0. 0. 0. 1. 0. 0. 1. 1. 1. 1. 0. 1. 1. 1. 0. 1. 1. 1. 1. 0. 0. 1. 0. 0.\n",
      " 0. 1. 1. 1. 1. 1. 0. 1. 1. 0. 1. 1. 0. 1. 0. 1. 0. 1. 0. 1. 0. 0. 1. 0.\n",
      " 0. 1. 0. 1. 1. 0. 1. 0. 0. 1. 1. 1. 0. 1. 1. 0. 1. 0. 1. 1. 0. 0. 1. 1.\n",
      " 0. 0. 1. 0. 0. 1. 1. 1. 0. 0. 0. 1. 1. 0. 1. 0. 1. 0. 1. 0. 1. 0. 0. 0.\n",
      " 0. 0. 1. 0. 0. 0. 1. 1. 1. 0. 0. 0. 1. 1. 1. 1. 0. 1. 0. 1. 1. 0. 0. 0.\n",
      " 1. 0. 0. 1. 1. 0. 0. 1. 1. 0. 1. 1. 1. 1. 0. 1. 1. 1. 0. 0. 1. 0. 1. 1.\n",
      " 1. 1. 0. 1. 1. 0. 1. 0. 1. 0. 0. 1. 0. 0. 1. 0. 0. 0. 1. 1. 0. 1. 1. 0.\n",
      " 1. 1. 1. 1. 1. 0. 1. 1. 0. 1. 1. 0. 0. 0. 1. 0. 1. 1. 1. 0. 0. 1. 0. 1.\n",
      " 1. 0. 1. 1. 1. 1. 0. 1. 1. 1. 1. 0. 1. 1. 1. 1. 1. 0. 0. 0. 1. 0. 1. 1.\n",
      " 1. 0. 0. 1. 1. 1. 0. 0. 1. 1. 1. 1. 0. 1. 1. 0. 1. 1. 0. 1. 0. 0. 1. 0.\n",
      " 0. 1. 1. 0. 1. 0. 1. 0. 0. 0. 1. 0. 0. 0. 0. 1. 1. 0. 0. 0. 1. 1. 1. 1.\n",
      " 1. 1. 1. 0. 1. 1. 1. 1. 0. 1. 1. 1. 0. 1. 1. 1. 0. 0. 1. 0. 1. 1. 0. 1.\n",
      " 1. 1. 1. 1. 1. 0. 1. 1. 1. 0. 0. 1. 0. 0. 1. 0. 1. 1. 0. 1. 0. 1. 1. 0.\n",
      " 1. 1. 1. 0. 0. 1. 1. 0. 1. 1. 0. 1. 1. 1. 0. 1. 0. 0. 1. 0. 1. 0. 1. 1.\n",
      " 0. 0. 0. 1. 0. 0. 1. 0. 1. 1. 1. 1. 0. 1. 0. 0. 0. 1. 0. 1. 0. 0. 1. 0.\n",
      " 1. 1. 1. 1. 1. 1. 1. 0. 0. 1. 0. 0. 1. 0. 0. 0. 1. 0. 1. 1. 0. 1. 1. 0.\n",
      " 1. 1. 0. 0. 1. 0. 1. 0. 0. 0. 1. 1. 0. 0. 1. 0. 0. 1. 1. 1. 0. 0. 1. 1.\n",
      " 0. 0. 1. 0. 0. 0. 0. 1. 0. 1. 0. 1. 0. 1. 1. 0. 1. 1. 0. 1. 0. 0. 0. 1.\n",
      " 0. 0. 1. 1. 0. 1. 1. 1. 1. 1. 0. 1. 0. 1. 1. 1. 1. 1. 1. 1. 1. 1. 1. 0.\n",
      " 0. 1. 1. 1. 0. 0. 1. 1. 1. 1. 1. 1. 1. 0. 0. 0. 1. 0. 1. 1. 0. 1. 0. 1.\n",
      " 1. 1. 0. 0. 1. 1. 1. 0. 0. 1. 0. 1. 1. 0. 1. 1. 1. 1. 0. 0. 1. 1. 1. 1.\n",
      " 1. 0. 0. 1. 1. 1. 1. 0. 1. 1. 0. 1. 0. 1. 1. 1. 0. 0. 1. 1. 1. 0. 0. 1.\n",
      " 0. 0. 0. 1. 1. 1. 0. 1. 1. 0. 0. 1. 0. 1. 1. 1. 1. 0. 0. 1. 0. 1. 0. 0.\n",
      " 0. 1. 1. 1. 0. 1. 1. 0. 1. 0. 1. 0. 0. 1. 0. 1. 0. 0. 1. 1. 1. 1. 1. 1.\n",
      " 0. 1. 0. 0. 1. 0. 0. 0. 0. 0. 0. 1. 0. 0. 1. 0. 1. 1. 1. 1. 1. 1. 0. 0.\n",
      " 1. 0. 1. 0. 0. 1. 1. 1. 0. 1. 0. 0. 1. 1. 1. 1. 0. 1. 0. 0. 0. 1. 0. 1.\n",
      " 0. 0. 1. 0. 0. 0. 0. 1. 1. 1. 1. 1. 0. 1. 0. 0. 0. 1. 1. 1. 1. 0. 0. 1.\n",
      " 0. 0. 1. 0. 1. 1. 0. 0. 0. 1. 0. 1. 1. 1. 0. 0. 1. 0. 1. 0. 0. 1. 1. 1.]\n"
     ]
    },
    {
     "data": {
      "image/png": "[encoded data removed]",
      "text/plain": [
       "<Figure size 360x288 with 2 Axes>"
      ]
     },
     "metadata": {
      "needs_background": "light",
      "tags": []
     },
     "output_type": "display_data"
    },
    {
     "name": "stdout",
     "output_type": "stream",
     "text": [
      "              precision    recall  f1-score   support\n",
      "\n",
      "         0.0       0.86      0.73      0.79       474\n",
      "         1.0       0.77      0.88      0.82       486\n",
      "\n",
      "    accuracy                           0.81       960\n",
      "   macro avg       0.81      0.81      0.80       960\n",
      "weighted avg       0.81      0.81      0.80       960\n",
      "\n"
     ]
    }
   ],
   "source": [
    "best_CC = RandomForestClassifier(max_depth = 11, min_samples_leaf = 1, min_samples_split = 13)\n",
    "best_CC = best_CC.fit(X_train, y_train)\n",
    "risk_predictor_cc = best_CC.predict(X_test)\n",
    "#print(\"KNN for k = \", k)\n",
    "print(risk_predictor_cc)\n",
    "\n",
    "cm_cc = confusion_matrix(y_test, risk_predictor_cc) \n",
    "cm_df_cc = pd.DataFrame(cm_cc,\n",
    "                    index = [0, 1], \n",
    "                    columns = [0, 1])\n",
    "\n",
    "plt.figure(figsize=(5,4))\n",
    "sns.heatmap(cm_df_cc, annot=True)\n",
    "plt.title('RandomForestClassifier \\nAccuracy:{0:.3f}'.format(accuracy_score(y_test, risk_predictor_cc)))\n",
    "plt.ylabel('True label')\n",
    "plt.xlabel('Predicted label')\n",
    "plt.show()\n",
    "\n",
    "print(classification_report(y_test, risk_predictor_cc))"
   ]
  },
  {
   "cell_type": "code",
   "execution_count": null,
   "metadata": {
    "colab": {},
    "colab_type": "code",
    "id": "SvxFyy-5virO"
   },
   "outputs": [],
   "source": []
  },
  {
   "cell_type": "markdown",
   "metadata": {
    "colab_type": "text",
    "id": "evRQXyhMVOUe"
   },
   "source": [
    "**GradientBoostingRegressor**"
   ]
  },
  {
   "cell_type": "code",
   "execution_count": null,
   "metadata": {
    "colab": {},
    "colab_type": "code",
    "id": "tka4yRuXVOra"
   },
   "outputs": [],
   "source": []
  },
  {
   "cell_type": "code",
   "execution_count": null,
   "metadata": {
    "colab": {},
    "colab_type": "code",
    "id": "jwaVVpuq1zR6"
   },
   "outputs": [],
   "source": [
    "from sklearn.ensemble import GradientBoostingRegressor\n"
   ]
  },
  {
   "cell_type": "code",
   "execution_count": null,
   "metadata": {
    "colab": {},
    "colab_type": "code",
    "id": "-1wqgxls1zaH"
   },
   "outputs": [],
   "source": []
  },
  {
   "cell_type": "code",
   "execution_count": 99,
   "metadata": {
    "colab": {
     "base_uri": "https://localhost:8080/",
     "height": 54
    },
    "colab_type": "code",
    "executionInfo": {
     "elapsed": 3933,
     "status": "ok",
     "timestamp": 1591819115278,
     "user": {
      "displayName": "Eser İnan Arslan",
      "photoUrl": "https://lh3.googleusercontent.com/a-/AOh14Ggz536p806W0W9-wxWFfPdVV303PuNNPAhu9S1UjA=s64",
      "userId": "01966049699378036829"
     },
     "user_tz": -180
    },
    "id": "jIzYEeoZ1QDh",
    "outputId": "f7830886-7311-411d-9046-341f32a92b31"
   },
   "outputs": [
    {
     "data": {
      "text/plain": [
       "'\\ngradient_boosting_parameters = {\\n    \"loss\":[\"deviance\"],\\n    \"learning_rate\": [0.01, 0.05, 0.1, 0.15, 0.2],\\n    \"min_samples_split\": np.linspace(0.1, 0.5, 12),\\n    \"min_samples_leaf\": np.linspace(0.1, 0.5, 12),\\n    \"max_depth\":[3,5,8],\\n    \"max_features\":[\"log2\",\"sqrt\"],\\n    \"criterion\": [\"friedman_mse\",  \"mae\"],\\n    \"subsample\":[0.5, 0.8, 1.0],\\n    \"n_estimators\":[10]\\n    }\\n'"
      ]
     },
     "execution_count": 99,
     "metadata": {
      "tags": []
     },
     "output_type": "execute_result"
    }
   ],
   "source": [
    "#GridSearch to determine best parameters\n",
    "\"\"\"\n",
    "gradient_boosting_parameters = {\n",
    "    \"loss\":[\"deviance\"],\n",
    "    \"learning_rate\": [0.01, 0.05, 0.1, 0.15, 0.2],\n",
    "    \"min_samples_split\": np.linspace(0.1, 0.5, 12),\n",
    "    \"min_samples_leaf\": np.linspace(0.1, 0.5, 12),\n",
    "    \"max_depth\":[3,5,8],\n",
    "    \"max_features\":[\"log2\",\"sqrt\"],\n",
    "    \"criterion\": [\"friedman_mse\",  \"mae\"],\n",
    "    \"subsample\":[0.5, 0.8, 1.0],\n",
    "    \"n_estimators\":[10]\n",
    "    }\n",
    "\"\"\""
   ]
  },
  {
   "cell_type": "code",
   "execution_count": null,
   "metadata": {
    "colab": {},
    "colab_type": "code",
    "id": "bO1buJExW2si"
   },
   "outputs": [],
   "source": [
    "gradient_boosting_parameters = {\n",
    "    \"loss\":[\"deviance\"],\n",
    "    \"learning_rate\": [0.1, 0.15, 0.2],\n",
    "    \"min_samples_split\": np.linspace(0.1, 0.5, 3),\n",
    "    \"min_samples_leaf\": np.linspace(0.1, 0.5, 3),\n",
    "    \"max_depth\":[3,5],\n",
    "    \"max_features\":[\"log2\",\"sqrt\"],\n",
    "    \"criterion\": [\"friedman_mse\",  \"mae\"],\n",
    "    \"subsample\":[0.5, 1.0],\n",
    "    \"n_estimators\":[10]\n",
    "    }"
   ]
  },
  {
   "cell_type": "code",
   "execution_count": null,
   "metadata": {
    "colab": {},
    "colab_type": "code",
    "id": "pMf54VMp1QHK"
   },
   "outputs": [],
   "source": [
    "gbc = GridSearchCV(GradientBoostingRegressor(), gradient_boosting_parameters, cv=10, n_jobs=-1)"
   ]
  },
  {
   "cell_type": "code",
   "execution_count": 102,
   "metadata": {
    "colab": {
     "base_uri": "https://localhost:8080/",
     "height": 68
    },
    "colab_type": "code",
    "executionInfo": {
     "elapsed": 84706,
     "status": "ok",
     "timestamp": 1591819202339,
     "user": {
      "displayName": "Eser İnan Arslan",
      "photoUrl": "https://lh3.googleusercontent.com/a-/AOh14Ggz536p806W0W9-wxWFfPdVV303PuNNPAhu9S1UjA=s64",
      "userId": "01966049699378036829"
     },
     "user_tz": -180
    },
    "id": "d7fryrB51QMV",
    "outputId": "80a432a0-a985-452e-9a75-92ecea2d6a20"
   },
   "outputs": [
    {
     "name": "stdout",
     "output_type": "stream",
     "text": [
      "2020-06-10 19:58:40.070939\n",
      "2020-06-10 19:59:58.429717\n",
      "0:01:18.358778\n"
     ]
    }
   ],
   "source": [
    "now = datetime.now()\n",
    "print(now)\n",
    "gbc = gbc.fit(X_train, y_train)\n",
    "end = datetime.now()\n",
    "print(end)\n",
    "print(end-now)"
   ]
  },
  {
   "cell_type": "code",
   "execution_count": 103,
   "metadata": {
    "colab": {
     "base_uri": "https://localhost:8080/",
     "height": 34
    },
    "colab_type": "code",
    "executionInfo": {
     "elapsed": 84173,
     "status": "ok",
     "timestamp": 1591819202341,
     "user": {
      "displayName": "Eser İnan Arslan",
      "photoUrl": "https://lh3.googleusercontent.com/a-/AOh14Ggz536p806W0W9-wxWFfPdVV303PuNNPAhu9S1UjA=s64",
      "userId": "01966049699378036829"
     },
     "user_tz": -180
    },
    "id": "Cztv21m92GWu",
    "outputId": "16a9d338-2545-4baf-9146-c02a18360f57"
   },
   "outputs": [
    {
     "name": "stdout",
     "output_type": "stream",
     "text": [
      "0.7875\n"
     ]
    }
   ],
   "source": [
    "print(gbc.best_score_)"
   ]
  },
  {
   "cell_type": "code",
   "execution_count": 104,
   "metadata": {
    "colab": {
     "base_uri": "https://localhost:8080/",
     "height": 170
    },
    "colab_type": "code",
    "executionInfo": {
     "elapsed": 83613,
     "status": "ok",
     "timestamp": 1591819202342,
     "user": {
      "displayName": "Eser İnan Arslan",
      "photoUrl": "https://lh3.googleusercontent.com/a-/AOh14Ggz536p806W0W9-wxWFfPdVV303PuNNPAhu9S1UjA=s64",
      "userId": "01966049699378036829"
     },
     "user_tz": -180
    },
    "id": "5QCLshVN41IM",
    "outputId": "2d5126b4-5c8f-4709-ca17-f0073b7081c2"
   },
   "outputs": [
    {
     "data": {
      "text/plain": [
       "{'criterion': 'friedman_mse',\n",
       " 'learning_rate': 0.15,\n",
       " 'loss': 'deviance',\n",
       " 'max_depth': 3,\n",
       " 'max_features': 'sqrt',\n",
       " 'min_samples_leaf': 0.1,\n",
       " 'min_samples_split': 0.1,\n",
       " 'n_estimators': 10,\n",
       " 'subsample': 1.0}"
      ]
     },
     "execution_count": 104,
     "metadata": {
      "tags": []
     },
     "output_type": "execute_result"
    }
   ],
   "source": [
    "best_params_gbc = gbc.best_params_\n",
    "best_params_gbc"
   ]
  },
  {
   "cell_type": "code",
   "execution_count": 105,
   "metadata": {
    "colab": {
     "base_uri": "https://localhost:8080/",
     "height": 1000
    },
    "colab_type": "code",
    "executionInfo": {
     "elapsed": 57702,
     "status": "ok",
     "timestamp": 1591819202343,
     "user": {
      "displayName": "Eser İnan Arslan",
      "photoUrl": "https://lh3.googleusercontent.com/a-/AOh14Ggz536p806W0W9-wxWFfPdVV303PuNNPAhu9S1UjA=s64",
      "userId": "01966049699378036829"
     },
     "user_tz": -180
    },
    "id": "G6PEu6Ty5A9L",
    "outputId": "61e3db64-0d28-4d18-bacc-3271da11d4b1"
   },
   "outputs": [
    {
     "name": "stdout",
     "output_type": "stream",
     "text": [
      "[1. 1. 0. 1. 1. 1. 1. 0. 1. 0. 1. 1. 1. 1. 1. 1. 0. 0. 0. 0. 1. 1. 1. 1.\n",
      " 1. 1. 1. 0. 1. 0. 1. 1. 0. 1. 1. 0. 0. 0. 1. 0. 1. 0. 0. 1. 1. 0. 0. 1.\n",
      " 1. 1. 1. 1. 0. 0. 0. 1. 0. 1. 0. 1. 0. 0. 0. 0. 1. 1. 1. 1. 0. 1. 1. 1.\n",
      " 1. 1. 0. 1. 0. 0. 1. 1. 0. 1. 1. 0. 1. 1. 1. 1. 0. 1. 1. 1. 1. 1. 1. 1.\n",
      " 0. 1. 1. 1. 1. 1. 1. 1. 1. 1. 0. 0. 1. 1. 0. 1. 1. 1. 1. 1. 0. 1. 1. 1.\n",
      " 1. 0. 0. 1. 0. 0. 0. 0. 1. 0. 1. 1. 0. 1. 0. 1. 0. 1. 1. 1. 0. 1. 0. 0.\n",
      " 1. 0. 1. 0. 1. 1. 0. 1. 1. 0. 1. 0. 0. 1. 1. 0. 0. 0. 1. 1. 1. 1. 1. 1.\n",
      " 1. 0. 0. 1. 1. 0. 1. 1. 0. 1. 1. 0. 1. 1. 1. 0. 1. 1. 1. 1. 1. 1. 1. 1.\n",
      " 1. 1. 1. 1. 1. 1. 1. 1. 0. 0. 1. 1. 1. 0. 1. 1. 1. 0. 1. 1. 1. 1. 1. 0.\n",
      " 1. 0. 1. 0. 0. 0. 1. 1. 1. 1. 1. 1. 1. 1. 0. 1. 1. 0. 1. 0. 1. 0. 1. 1.\n",
      " 1. 1. 1. 0. 1. 1. 0. 0. 1. 1. 1. 1. 1. 0. 0. 0. 0. 1. 1. 1. 1. 0. 0. 1.\n",
      " 0. 0. 1. 1. 1. 1. 0. 1. 1. 0. 1. 0. 1. 0. 0. 0. 0. 0. 1. 0. 1. 1. 0. 1.\n",
      " 1. 0. 0. 1. 0. 0. 0. 1. 1. 1. 1. 0. 1. 1. 0. 1. 1. 1. 1. 1. 0. 0. 1. 1.\n",
      " 0. 1. 1. 1. 1. 1. 0. 1. 1. 0. 1. 1. 1. 1. 0. 1. 0. 1. 0. 1. 0. 0. 1. 0.\n",
      " 0. 1. 0. 1. 1. 0. 1. 0. 0. 1. 1. 1. 0. 1. 1. 1. 1. 1. 1. 1. 0. 1. 1. 1.\n",
      " 1. 0. 1. 0. 0. 0. 1. 1. 0. 1. 1. 1. 1. 0. 1. 0. 1. 1. 1. 0. 1. 0. 0. 0.\n",
      " 1. 1. 1. 0. 1. 0. 1. 1. 0. 0. 0. 0. 1. 1. 1. 1. 0. 1. 0. 1. 1. 0. 0. 0.\n",
      " 1. 0. 0. 1. 1. 0. 0. 1. 1. 0. 1. 1. 1. 0. 0. 1. 1. 1. 0. 0. 1. 0. 1. 1.\n",
      " 1. 1. 0. 1. 1. 0. 1. 0. 1. 0. 0. 1. 1. 0. 1. 0. 0. 0. 1. 1. 0. 1. 1. 0.\n",
      " 0. 1. 1. 1. 1. 0. 1. 1. 1. 1. 1. 1. 0. 0. 1. 0. 1. 1. 1. 1. 0. 1. 0. 1.\n",
      " 1. 1. 1. 1. 1. 1. 0. 1. 1. 1. 1. 0. 1. 1. 1. 1. 1. 0. 0. 1. 1. 0. 1. 1.\n",
      " 1. 0. 0. 1. 1. 1. 0. 1. 1. 1. 1. 1. 1. 1. 1. 1. 1. 1. 0. 1. 0. 0. 1. 1.\n",
      " 0. 1. 1. 0. 1. 0. 1. 0. 0. 0. 1. 0. 0. 1. 1. 1. 1. 0. 0. 1. 1. 0. 1. 1.\n",
      " 1. 1. 1. 0. 1. 1. 1. 1. 0. 0. 1. 1. 0. 1. 1. 0. 0. 0. 1. 0. 1. 1. 0. 1.\n",
      " 1. 1. 1. 1. 1. 1. 1. 1. 1. 0. 0. 1. 0. 0. 1. 0. 1. 0. 0. 1. 0. 1. 1. 1.\n",
      " 1. 1. 1. 0. 0. 1. 1. 0. 1. 0. 0. 1. 1. 1. 0. 1. 1. 0. 1. 0. 1. 1. 1. 1.\n",
      " 1. 1. 0. 1. 0. 1. 1. 0. 0. 1. 1. 1. 0. 0. 0. 0. 0. 1. 0. 1. 0. 0. 0. 0.\n",
      " 1. 1. 1. 1. 1. 1. 1. 0. 0. 1. 0. 0. 1. 1. 1. 0. 1. 1. 1. 1. 0. 1. 1. 0.\n",
      " 1. 1. 0. 1. 1. 0. 1. 0. 1. 0. 1. 1. 1. 0. 1. 0. 0. 1. 1. 1. 0. 1. 1. 1.\n",
      " 0. 0. 1. 0. 1. 0. 0. 1. 1. 1. 0. 1. 0. 1. 1. 0. 1. 1. 0. 1. 0. 0. 0. 1.\n",
      " 1. 0. 1. 1. 1. 1. 0. 1. 1. 1. 0. 1. 0. 1. 0. 1. 1. 1. 1. 1. 1. 1. 1. 0.\n",
      " 0. 1. 1. 1. 0. 1. 1. 1. 1. 1. 1. 1. 1. 1. 0. 1. 1. 1. 1. 1. 0. 1. 0. 1.\n",
      " 1. 1. 0. 0. 1. 1. 1. 0. 0. 0. 0. 0. 1. 0. 1. 1. 1. 1. 0. 0. 1. 1. 1. 1.\n",
      " 1. 0. 0. 1. 1. 1. 1. 1. 1. 1. 1. 0. 0. 1. 1. 1. 0. 0. 1. 1. 1. 0. 0. 1.\n",
      " 0. 0. 0. 0. 1. 1. 0. 1. 1. 0. 0. 1. 0. 1. 1. 1. 0. 0. 0. 1. 1. 1. 0. 0.\n",
      " 0. 0. 1. 1. 0. 1. 1. 0. 1. 0. 1. 0. 0. 1. 0. 1. 0. 0. 1. 1. 1. 1. 1. 1.\n",
      " 0. 1. 1. 0. 1. 0. 1. 0. 0. 0. 1. 1. 0. 0. 1. 0. 1. 1. 0. 1. 1. 1. 1. 0.\n",
      " 0. 0. 1. 0. 1. 1. 1. 1. 0. 1. 0. 0. 1. 1. 0. 0. 0. 1. 0. 0. 0. 1. 1. 1.\n",
      " 1. 0. 1. 0. 0. 1. 0. 1. 1. 1. 1. 1. 0. 1. 0. 0. 0. 1. 1. 1. 0. 1. 0. 1.\n",
      " 0. 0. 1. 1. 1. 1. 0. 1. 1. 1. 0. 1. 1. 1. 0. 0. 1. 0. 1. 1. 0. 0. 1. 0.]\n"
     ]
    },
    {
     "data": {
      "image/png": "[encoded data removed]",
      "text/plain": [
       "<Figure size 360x288 with 2 Axes>"
      ]
     },
     "metadata": {
      "needs_background": "light",
      "tags": []
     },
     "output_type": "display_data"
    },
    {
     "name": "stdout",
     "output_type": "stream",
     "text": [
      "              precision    recall  f1-score   support\n",
      "\n",
      "         0.0       0.79      0.60      0.68       474\n",
      "         1.0       0.69      0.85      0.76       486\n",
      "\n",
      "    accuracy                           0.73       960\n",
      "   macro avg       0.74      0.72      0.72       960\n",
      "weighted avg       0.74      0.73      0.72       960\n",
      "\n"
     ]
    }
   ],
   "source": [
    "best_gbc = GradientBoostingRegressor(criterion = \"friedman_mse\", learning_rate = 0.15,\n",
    "                                      loss = \"deviance\", max_depth = 5, max_features = \"sqrt\",\n",
    "                                      min_samples_leaf = 0.1, min_samples_split = 0.3545454545454546,\n",
    "                                      n_estimators = 10, subsample = 1.0)#max_depth = 11, min_samples_leaf = 1, min_samples_split = 13)\n",
    "best_gbc = best_gbc.fit(X_train, y_train)\n",
    "risk_predictor_gbc = best_gbc.predict(X_test)\n",
    "#print(\"KNN for k = \", k)\n",
    "print(risk_predictor_gbc)\n",
    "\n",
    "cm_gbc = confusion_matrix(y_test, risk_predictor_gbc) \n",
    "cm_df_gbc = pd.DataFrame(cm_gbc,\n",
    "                    index = [0, 1], \n",
    "                    columns = [0, 1])\n",
    "\n",
    "plt.figure(figsize=(5,4))\n",
    "sns.heatmap(cm_df_gbc, annot=True)\n",
    "plt.title('GradientBoostingClassifier \\nAccuracy:{0:.3f}'.format(accuracy_score(y_test, risk_predictor_gbc)))\n",
    "plt.ylabel('True label')\n",
    "plt.xlabel('Predicted label')\n",
    "plt.show()\n",
    "\n",
    "print(classification_report(y_test, risk_predictor_gbc))"
   ]
  },
  {
   "cell_type": "code",
   "execution_count": null,
   "metadata": {
    "colab": {},
    "colab_type": "code",
    "id": "s3PvB6ESJdXs"
   },
   "outputs": [],
   "source": []
  }
 ],
 "metadata": {
  "colab": {
   "collapsed_sections": [],
   "name": "EserInanArslan-TermProject.ipynb",
   "provenance": [],
   "toc_visible": true
  },
  "kernelspec": {
   "display_name": "Python 3",
   "language": "python",
   "name": "python3"
  },
  "language_info": {
   "codemirror_mode": {
    "name": "ipython",
    "version": 3
   },
   "file_extension": ".py",
   "mimetype": "text/x-python",
   "name": "python",
   "nbconvert_exporter": "python",
   "pygments_lexer": "ipython3",
   "version": "3.7.9"
  }
 },
 "nbformat": 4,
 "nbformat_minor": 4
}
